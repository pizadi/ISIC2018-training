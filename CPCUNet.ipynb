{
  "cells": [
    {
      "cell_type": "code",
      "source": [
        "!git clone https://github.com/pizadi/ISIC2018-training.git"
      ],
      "metadata": {
        "id": "63V8jrt0x3S0"
      },
      "id": "63V8jrt0x3S0",
      "execution_count": null,
      "outputs": []
    },
    {
      "cell_type": "code",
      "execution_count": 1,
      "id": "40ff3ecd-5c82-4ea3-b28b-2dcbe5d909b5",
      "metadata": {
        "id": "40ff3ecd-5c82-4ea3-b28b-2dcbe5d909b5"
      },
      "outputs": [],
      "source": [
        "from os import chdir\n",
        "chdir('./ISIC2018-training')"
      ]
    },
    {
      "cell_type": "code",
      "execution_count": 2,
      "id": "ff28931f-238d-42f3-819f-d42bea98174f",
      "metadata": {
        "id": "ff28931f-238d-42f3-819f-d42bea98174f",
        "outputId": "bf43da18-69db-4f83-b5c0-a7f38ac1a2ed",
        "colab": {
          "base_uri": "https://localhost:8080/"
        }
      },
      "outputs": [
        {
          "output_type": "stream",
          "name": "stdout",
          "text": [
            "--2023-02-28 10:14:31--  https://isic-challenge-data.s3.amazonaws.com/2018/ISIC2018_Task1-2_Training_Input.zip\n",
            "Resolving isic-challenge-data.s3.amazonaws.com (isic-challenge-data.s3.amazonaws.com)... 54.231.159.25, 54.231.196.89, 52.217.230.81, ...\n",
            "Connecting to isic-challenge-data.s3.amazonaws.com (isic-challenge-data.s3.amazonaws.com)|54.231.159.25|:443... connected.\n",
            "HTTP request sent, awaiting response... 200 OK\n",
            "Length: 11165358566 (10G) [application/zip]\n",
            "Saving to: ‘ISIC2018_Task1-2_Training_Input.zip’\n",
            "\n",
            "ISIC2018_Task1-2_Tr 100%[===================>]  10.40G  33.8MB/s    in 6m 16s  \n",
            "\n",
            "2023-02-28 10:20:47 (28.3 MB/s) - ‘ISIC2018_Task1-2_Training_Input.zip’ saved [11165358566/11165358566]\n",
            "\n",
            "--2023-02-28 10:20:47--  https://isic-challenge-data.s3.amazonaws.com/2018/ISIC2018_Task1_Training_GroundTruth.zip\n",
            "Resolving isic-challenge-data.s3.amazonaws.com (isic-challenge-data.s3.amazonaws.com)... 52.217.4.28, 54.231.165.65, 52.216.76.140, ...\n",
            "Connecting to isic-challenge-data.s3.amazonaws.com (isic-challenge-data.s3.amazonaws.com)|52.217.4.28|:443... connected.\n",
            "HTTP request sent, awaiting response... 200 OK\n",
            "Length: 27402895 (26M) [application/zip]\n",
            "Saving to: ‘ISIC2018_Task1_Training_GroundTruth.zip’\n",
            "\n",
            "ISIC2018_Task1_Trai 100%[===================>]  26.13M  19.3MB/s    in 1.4s    \n",
            "\n",
            "2023-02-28 10:20:49 (19.3 MB/s) - ‘ISIC2018_Task1_Training_GroundTruth.zip’ saved [27402895/27402895]\n",
            "\n",
            "--2023-02-28 10:20:49--  https://isic-challenge-data.s3.amazonaws.com/2018/ISIC2018_Task1-2_Validation_Input.zip\n",
            "Resolving isic-challenge-data.s3.amazonaws.com (isic-challenge-data.s3.amazonaws.com)... 52.217.4.28, 54.231.165.65, 52.216.76.140, ...\n",
            "Connecting to isic-challenge-data.s3.amazonaws.com (isic-challenge-data.s3.amazonaws.com)|52.217.4.28|:443... connected.\n",
            "HTTP request sent, awaiting response... 200 OK\n",
            "Length: 239231159 (228M) [application/zip]\n",
            "Saving to: ‘ISIC2018_Task1-2_Validation_Input.zip’\n",
            "\n",
            "ISIC2018_Task1-2_Va 100%[===================>] 228.15M  27.7MB/s    in 8.2s    \n",
            "\n",
            "2023-02-28 10:20:58 (27.8 MB/s) - ‘ISIC2018_Task1-2_Validation_Input.zip’ saved [239231159/239231159]\n",
            "\n",
            "--2023-02-28 10:20:58--  https://isic-challenge-data.s3.amazonaws.com/2018/ISIC2018_Task1_Validation_GroundTruth.zip\n",
            "Resolving isic-challenge-data.s3.amazonaws.com (isic-challenge-data.s3.amazonaws.com)... 52.217.101.20, 3.5.29.146, 54.231.204.193, ...\n",
            "Connecting to isic-challenge-data.s3.amazonaws.com (isic-challenge-data.s3.amazonaws.com)|52.217.101.20|:443... connected.\n",
            "HTTP request sent, awaiting response... 200 OK\n",
            "Length: 759706 (742K) [application/zip]\n",
            "Saving to: ‘ISIC2018_Task1_Validation_GroundTruth.zip’\n",
            "\n",
            "ISIC2018_Task1_Vali 100%[===================>] 741.90K  1.69MB/s    in 0.4s    \n",
            "\n",
            "2023-02-28 10:20:59 (1.69 MB/s) - ‘ISIC2018_Task1_Validation_GroundTruth.zip’ saved [759706/759706]\n",
            "\n"
          ]
        }
      ],
      "source": [
        "!wget https://isic-challenge-data.s3.amazonaws.com/2018/ISIC2018_Task1-2_Training_Input.zip\n",
        "!wget https://isic-challenge-data.s3.amazonaws.com/2018/ISIC2018_Task1_Training_GroundTruth.zip\n",
        "!wget https://isic-challenge-data.s3.amazonaws.com/2018/ISIC2018_Task1-2_Validation_Input.zip\n",
        "!wget https://isic-challenge-data.s3.amazonaws.com/2018/ISIC2018_Task1_Validation_GroundTruth.zip\n",
        "# !wget https://isic-challenge-data.s3.amazonaws.com/2018/ISIC2018_Task1-2_Test_Input.zip"
      ]
    },
    {
      "cell_type": "code",
      "execution_count": null,
      "id": "60b5fb25-44b7-4b47-b725-28fc4da80507",
      "metadata": {
        "id": "60b5fb25-44b7-4b47-b725-28fc4da80507"
      },
      "outputs": [],
      "source": [
        "!unzip ./ISIC2018_Task1-2_Training_Input.zip\n",
        "!rm ./ISIC2018_Task1-2_Training_Input.zip\n",
        "!unzip ./ISIC2018_Task1_Training_GroundTruth.zip\n",
        "!rm ./ISIC2018_Task1_Training_GroundTruth.zip\n",
        "!unzip ./ISIC2018_Task1-2_Validation_Input.zip\n",
        "!rm ./ISIC2018_Task1-2_Validation_Input.zip\n",
        "!unzip ./ISIC2018_Task1_Validation_GroundTruth.zip\n",
        "!rm ./ISIC2018_Task1_Validation_GroundTruth.zip\n",
        "!mkdir ./Preproc"
      ]
    },
    {
      "cell_type": "code",
      "source": [
        "!pip install torchinfo"
      ],
      "metadata": {
        "id": "Wc25AJfoj_9_",
        "outputId": "ffbd6ea3-6a79-42ce-cf11-665a30cb6989",
        "colab": {
          "base_uri": "https://localhost:8080/"
        }
      },
      "id": "Wc25AJfoj_9_",
      "execution_count": 5,
      "outputs": [
        {
          "output_type": "stream",
          "name": "stdout",
          "text": [
            "Looking in indexes: https://pypi.org/simple, https://us-python.pkg.dev/colab-wheels/public/simple/\n",
            "Collecting torchinfo\n",
            "  Downloading torchinfo-1.7.2-py3-none-any.whl (22 kB)\n",
            "Installing collected packages: torchinfo\n",
            "Successfully installed torchinfo-1.7.2\n"
          ]
        }
      ]
    },
    {
      "cell_type": "code",
      "execution_count": 2,
      "id": "ac6d3c4e-fee7-4a41-952f-5afdb83537b2",
      "metadata": {
        "tags": [],
        "id": "ac6d3c4e-fee7-4a41-952f-5afdb83537b2"
      },
      "outputs": [],
      "source": [
        "import os\n",
        "import torch\n",
        "from torch import nn as nn\n",
        "from torch import functional as F\n",
        "import cv2 as cv\n",
        "import numpy as np\n",
        "import torchvision\n",
        "from tqdm import tqdm\n",
        "from matplotlib import pyplot as plt\n",
        "import torchinfo"
      ]
    },
    {
      "cell_type": "code",
      "execution_count": 3,
      "id": "efe0e3fb-d192-43a9-804d-e54696d38087",
      "metadata": {
        "tags": [],
        "id": "efe0e3fb-d192-43a9-804d-e54696d38087",
        "outputId": "d2b5e89a-4bb8-47f5-d3b7-a7230ca6c379",
        "colab": {
          "base_uri": "https://localhost:8080/"
        }
      },
      "outputs": [
        {
          "output_type": "stream",
          "name": "stdout",
          "text": [
            "Device: cuda\n"
          ]
        }
      ],
      "source": [
        "TRAIN_INPUT_DIR = './ISIC2018_Task1-2_Training_Input/'\n",
        "TRAIN_GT_DIR = './ISIC2018_Task1_Training_GroundTruth/'\n",
        "\n",
        "VAL_INPUT_DIR = './ISIC2018_Task1-2_Validation_Input/'\n",
        "VAL_GT_DIR = './ISIC2018_Task1_Validation_GroundTruth/'\n",
        "\n",
        "BATCH_SIZE = 5\n",
        "LEARNING_RATE = 1e-5\n",
        "\n",
        "EPOCHS = 100\n",
        "IM_H, IM_W = 384, 512\n",
        "\n",
        "DEVICE = \"cuda\" if torch.cuda.is_available() else \"cpu\"\n",
        "print(f\"Device: {DEVICE}\")"
      ]
    },
    {
      "cell_type": "code",
      "execution_count": 4,
      "id": "94d4a9f3-f36d-43f2-9c5a-fd73bd1e9a07",
      "metadata": {
        "tags": [],
        "id": "94d4a9f3-f36d-43f2-9c5a-fd73bd1e9a07",
        "outputId": "86b31fe5-35c0-400e-fee5-ec847ceaa290",
        "colab": {
          "base_uri": "https://localhost:8080/"
        }
      },
      "outputs": [
        {
          "output_type": "stream",
          "name": "stdout",
          "text": [
            "2590 100\n"
          ]
        }
      ],
      "source": [
        "training_input_files = os.listdir(TRAIN_INPUT_DIR)\n",
        "for filename in training_input_files:\n",
        "  if (filename[-3:] != \"jpg\" and filename[-3:] != \"png\"):\n",
        "    training_input_files.remove(filename)\n",
        "n_train = len(training_input_files)\n",
        "\n",
        "val_input_files = os.listdir(VAL_INPUT_DIR)\n",
        "for filename in val_input_files:\n",
        "  if (filename[-3:] != \"jpg\" and filename[-3:] != \"png\"):\n",
        "    val_input_files.remove(filename)\n",
        "n_val = len(val_input_files)\n",
        "n_train -= n_train % BATCH_SIZE\n",
        "n_val -= n_val % BATCH_SIZE\n",
        "print(n_train, n_val)"
      ]
    },
    {
      "cell_type": "code",
      "source": [
        "def train(model, stage):\n",
        "  num_batches = n_train // BATCH_SIZE\n",
        "  model.train()\n",
        "  t_loss, t_met, proc = 0, torch.tensor([0., 0., 0., 0.]), 0\n",
        "  with tqdm(total=num_batches) as pbar:\n",
        "    pbar.set_description(\"Avg.Loss: 0.0000, Avg. Accuracy: 0.0000\")\n",
        "    for batch in range(num_batches):\n",
        "      X = torch.load(f\"./Preproc/train_X_{batch}.torch\")\n",
        "      y = torch.load(f\"./Preproc/train_y_{batch}.torch\")\n",
        "      loss, met = None, None\n",
        "      if stage == 0:\n",
        "          loss, met = model.fit0(X, y)\n",
        "      elif stage == 1:\n",
        "          loss, met = model.fit1(X, y)\n",
        "      elif stage == 2:\n",
        "          loss, met = model.fit2(X, y)\n",
        "      t_loss += loss*len(X)\n",
        "      t_met += met\n",
        "      proc += len(X)\n",
        "      pbar.update(1)\n",
        "      pbar.set_description(f\"Avg. Loss: {t_loss/proc: .4f}, Avg. Accuracy: {(t_met[0] + t_met[3])/proc: .4f}\")\n",
        "  return (t_loss/n_train, t_met/n_train)\n",
        "\n",
        "def test(model, stage):\n",
        "  num_batches = n_val // BATCH_SIZE\n",
        "  model.eval()\n",
        "  t_loss, t_met, proc = 0, torch.tensor([0., 0., 0., 0.]), 0\n",
        "  with tqdm(total=num_batches) as pbar:\n",
        "    pbar.set_description(\"Avg.Loss: 0.0000, Avg. Accuracy: 0.0000\")\n",
        "    with torch.no_grad():\n",
        "      for batch in range(num_batches):\n",
        "        X = torch.load(f\"./Preproc/val_X_{batch}.torch\")\n",
        "        y = torch.load(f\"./Preproc/val_y_{batch}.torch\")\n",
        "        loss, met = None, None\n",
        "        if stage == 0:\n",
        "            loss, met = model.test0(X, y)\n",
        "        elif stage == 1:\n",
        "            loss, met = model.test1(X, y)\n",
        "        elif stage == 2:\n",
        "            loss, met = model.test2(X, y)\n",
        "        t_loss += loss*len(X)\n",
        "        t_met += met\n",
        "        proc += len(X)\n",
        "        pbar.update(1)\n",
        "        pbar.set_description(f\"Avg. Loss: {t_loss/proc : .4f}, Avg. Accuracy: {(t_met[0] + t_met[3])/proc: .4f}\")\n",
        "  return (t_loss/n_val, t_met/n_val)"
      ],
      "metadata": {
        "id": "3yBudx5-h10L"
      },
      "id": "3yBudx5-h10L",
      "execution_count": 5,
      "outputs": []
    },
    {
      "cell_type": "code",
      "source": [
        "train_X = torch.zeros((BATCH_SIZE, 3, IM_H, IM_W)).to(DEVICE)\n",
        "train_y = torch.zeros((BATCH_SIZE, 1, IM_H, IM_W)).to(DEVICE)\n",
        "nb = n_train//BATCH_SIZE\n",
        "with tqdm(total=n_train) as pbar:\n",
        "    for f in range(nb):\n",
        "        l, r = f*BATCH_SIZE, (f+1)*BATCH_SIZE\n",
        "        filename = None\n",
        "        for i in range(l, r):\n",
        "            filename = training_input_files[i]\n",
        "            in_image = torchvision.io.read_image(TRAIN_INPUT_DIR + filename).to(DEVICE)\n",
        "            gt_image = torchvision.io.read_image(TRAIN_GT_DIR + filename[:-4] + \"_segmentation.png\").to(DEVICE)\n",
        "            train_X[i-l, :, :, :] = torchvision.transforms.functional.resize(in_image, [IM_H, IM_W])\n",
        "            train_y[i-l, :, :, :] = torchvision.transforms.functional.resize(gt_image, [IM_H, IM_W])\n",
        "            in_image, gt_image = None, None\n",
        "            torch.cuda.empty_cache()\n",
        "            pbar.update(1)\n",
        "\n",
        "        train_y = (train_y//128)\n",
        "        torch.save(train_X, f\"./Preproc/train_X_{f}.torch\")\n",
        "        torch.save(train_y, f\"./Preproc/train_y_{f}.torch\")\n",
        "train_X, train_y = None, None\n",
        "torch.cuda.empty_cache()\n",
        "   \n",
        "val_X = torch.zeros((BATCH_SIZE, 3, IM_H, IM_W)).to(DEVICE)\n",
        "val_y = torch.zeros((BATCH_SIZE, 1, IM_H, IM_W)).to(DEVICE)\n",
        "nb = n_val//BATCH_SIZE\n",
        "with tqdm(total=n_val) as pbar:\n",
        "    for f in range(nb):\n",
        "        l, r = f*BATCH_SIZE, (f+1)*BATCH_SIZE\n",
        "        filename = None\n",
        "        for i in range(l, r):\n",
        "            filename = val_input_files[i]\n",
        "            in_image = torchvision.io.read_image(VAL_INPUT_DIR + filename).to(DEVICE)\n",
        "            gt_image = torchvision.io.read_image(VAL_GT_DIR + filename[:-4] + \"_segmentation.png\").to(DEVICE)\n",
        "            val_X[i-l, :, :, :] = torchvision.transforms.functional.resize(in_image, [IM_H, IM_W])\n",
        "            val_y[i-l, :, :, :] = torchvision.transforms.functional.resize(gt_image, [IM_H, IM_W])\n",
        "            in_image, gt_image = None, None\n",
        "            torch.cuda.empty_cache()\n",
        "            pbar.update(1)\n",
        "\n",
        "        val_y = (val_y//128)\n",
        "        torch.save(val_X, f\"./Preproc/val_X_{f}.torch\")\n",
        "        torch.save(val_y, f\"./Preproc/val_y_{f}.torch\")\n",
        "val_X, val_y = None, None\n",
        "torch.cuda.empty_cache()\n"
      ],
      "metadata": {
        "id": "BOS1CICdhxAb",
        "outputId": "51253755-ba6d-4b9e-867b-c873cb0f1e4f",
        "colab": {
          "base_uri": "https://localhost:8080/",
          "height": 238
        }
      },
      "id": "BOS1CICdhxAb",
      "execution_count": 6,
      "outputs": [
        {
          "output_type": "error",
          "ename": "KeyboardInterrupt",
          "evalue": "ignored",
          "traceback": [
            "\u001b[0;31m---------------------------------------------------------------------------\u001b[0m",
            "\u001b[0;31mKeyboardInterrupt\u001b[0m                         Traceback (most recent call last)",
            "\u001b[0;32m<ipython-input-6-f3a4ee0db07f>\u001b[0m in \u001b[0;36m<module>\u001b[0;34m\u001b[0m\n\u001b[0;32m----> 1\u001b[0;31m \u001b[0mtrain_X\u001b[0m \u001b[0;34m=\u001b[0m \u001b[0mtorch\u001b[0m\u001b[0;34m.\u001b[0m\u001b[0mzeros\u001b[0m\u001b[0;34m(\u001b[0m\u001b[0;34m(\u001b[0m\u001b[0mBATCH_SIZE\u001b[0m\u001b[0;34m,\u001b[0m \u001b[0;36m3\u001b[0m\u001b[0;34m,\u001b[0m \u001b[0mIM_H\u001b[0m\u001b[0;34m,\u001b[0m \u001b[0mIM_W\u001b[0m\u001b[0;34m)\u001b[0m\u001b[0;34m)\u001b[0m\u001b[0;34m.\u001b[0m\u001b[0mto\u001b[0m\u001b[0;34m(\u001b[0m\u001b[0mDEVICE\u001b[0m\u001b[0;34m)\u001b[0m\u001b[0;34m\u001b[0m\u001b[0;34m\u001b[0m\u001b[0m\n\u001b[0m\u001b[1;32m      2\u001b[0m \u001b[0mtrain_y\u001b[0m \u001b[0;34m=\u001b[0m \u001b[0mtorch\u001b[0m\u001b[0;34m.\u001b[0m\u001b[0mzeros\u001b[0m\u001b[0;34m(\u001b[0m\u001b[0;34m(\u001b[0m\u001b[0mBATCH_SIZE\u001b[0m\u001b[0;34m,\u001b[0m \u001b[0;36m1\u001b[0m\u001b[0;34m,\u001b[0m \u001b[0mIM_H\u001b[0m\u001b[0;34m,\u001b[0m \u001b[0mIM_W\u001b[0m\u001b[0;34m)\u001b[0m\u001b[0;34m)\u001b[0m\u001b[0;34m.\u001b[0m\u001b[0mto\u001b[0m\u001b[0;34m(\u001b[0m\u001b[0mDEVICE\u001b[0m\u001b[0;34m)\u001b[0m\u001b[0;34m\u001b[0m\u001b[0;34m\u001b[0m\u001b[0m\n\u001b[1;32m      3\u001b[0m \u001b[0mnb\u001b[0m \u001b[0;34m=\u001b[0m \u001b[0mn_train\u001b[0m\u001b[0;34m//\u001b[0m\u001b[0mBATCH_SIZE\u001b[0m\u001b[0;34m\u001b[0m\u001b[0;34m\u001b[0m\u001b[0m\n\u001b[1;32m      4\u001b[0m \u001b[0;32mwith\u001b[0m \u001b[0mtqdm\u001b[0m\u001b[0;34m(\u001b[0m\u001b[0mtotal\u001b[0m\u001b[0;34m=\u001b[0m\u001b[0mn_train\u001b[0m\u001b[0;34m)\u001b[0m \u001b[0;32mas\u001b[0m \u001b[0mpbar\u001b[0m\u001b[0;34m:\u001b[0m\u001b[0;34m\u001b[0m\u001b[0;34m\u001b[0m\u001b[0m\n\u001b[1;32m      5\u001b[0m     \u001b[0;32mfor\u001b[0m \u001b[0mf\u001b[0m \u001b[0;32min\u001b[0m \u001b[0mrange\u001b[0m\u001b[0;34m(\u001b[0m\u001b[0mnb\u001b[0m\u001b[0;34m)\u001b[0m\u001b[0;34m:\u001b[0m\u001b[0;34m\u001b[0m\u001b[0;34m\u001b[0m\u001b[0m\n",
            "\u001b[0;31mKeyboardInterrupt\u001b[0m: "
          ]
        }
      ]
    },
    {
      "cell_type": "code",
      "execution_count": 7,
      "id": "d4664892-1cd6-4ddf-b9f5-9634e52a23d3",
      "metadata": {
        "tags": [],
        "id": "d4664892-1cd6-4ddf-b9f5-9634e52a23d3"
      },
      "outputs": [],
      "source": [
        "def centroid(I):\n",
        "    p = torch.ones(I.shape).to(I.device.type)\n",
        "    ipos = torch.cumsum(p, axis=0) - 1\n",
        "    jpos = torch.cumsum(p, axis=1) - 1\n",
        "    return (torch.sum(ipos*I)/torch.sum(I)).item() , (torch.sum(jpos*I)/torch.sum(I)).item()\n",
        "\n",
        "def _centroid(img, lcc=False):\n",
        "  if lcc:\n",
        "    img = img.astype(np.uint8)\n",
        "    nb_components, output, stats, centroids = cv.connectedComponentsWithStats(img, connectivity=4)\n",
        "    sizes = stats[:, -1]\n",
        "    if len(sizes) > 2:\n",
        "      max_label = 1\n",
        "      max_size = sizes[1]\n",
        "\n",
        "      for i in range(2, nb_components):\n",
        "          if sizes[i] > max_size:\n",
        "              max_label = i\n",
        "              max_size = sizes[i]\n",
        "\n",
        "      img2 = np.zeros(output.shape)\n",
        "      img2[output == max_label] = 255\n",
        "      img = img2\n",
        "\n",
        "  if len(img.shape) > 2:\n",
        "    M = cv.moments(img[:,:,1])\n",
        "  else:\n",
        "    M = cv.moments(img)\n",
        "\n",
        "  if M[\"m00\"] == 0:\n",
        "    return (img.shape[0] // 2, img.shape[1] // 2)\n",
        "  \n",
        "  cX = int(M[\"m10\"] / M[\"m00\"])\n",
        "  cY = int(M[\"m01\"] / M[\"m00\"])\n",
        "  return (cX, cY)\n",
        "\n",
        "def to_polar(input_img, center):\n",
        "  input_img = input_img.astype(np.float32)\n",
        "  value = np.sqrt(((input_img.shape[0]/2.0)**2.0)+((input_img.shape[1]/2.0)**2.0))\n",
        "  polar_image = cv.linearPolar(input_img, center, value, cv.WARP_FILL_OUTLIERS)\n",
        "  return polar_image\n",
        "\n",
        "def to_cart(input_img, center):\n",
        "  input_img = input_img.astype(np.float32)\n",
        "  value = np.sqrt(((input_img.shape[1]/2.0)**2.0)+((input_img.shape[0]/2.0)**2.0))\n",
        "  polar_image = cv.linearPolar(input_img, center, value, cv.WARP_FILL_OUTLIERS + cv.WARP_INVERSE_MAP)\n",
        "  polar_image = polar_image.astype(np.uint8)\n",
        "  return polar_image"
      ]
    },
    {
      "cell_type": "code",
      "execution_count": 8,
      "id": "960a82c8-519e-4199-b114-c3ee394b986f",
      "metadata": {
        "tags": [],
        "id": "960a82c8-519e-4199-b114-c3ee394b986f"
      },
      "outputs": [],
      "source": [
        "def torch2np(I):\n",
        "    J = None\n",
        "    if (I.dim() == 3):\n",
        "        J = I.transpose(0, 1).transpose(1, 2).detach().to(\"cpu\").numpy()\n",
        "    elif (I.dim() == 2):\n",
        "        J = I.detach().to(\"cpu\").numpy()\n",
        "    return J"
      ]
    },
    {
      "cell_type": "code",
      "execution_count": 9,
      "id": "4ad5acfb-7b58-4a58-9c6a-271a29bdc56b",
      "metadata": {
        "tags": [],
        "id": "4ad5acfb-7b58-4a58-9c6a-271a29bdc56b"
      },
      "outputs": [],
      "source": [
        "def np2torch(I):\n",
        "    J = None\n",
        "    if (I.ndim == 3):\n",
        "        J = torch.tensor(I).transpose(1, 2).transpose(0, 1)\n",
        "    elif (I.ndim == 2):\n",
        "        J = torch.tensor(I)[None,:,:]\n",
        "    return J"
      ]
    },
    {
      "cell_type": "code",
      "execution_count": 10,
      "id": "604f5178-5039-4afb-98fe-26e574baee8d",
      "metadata": {
        "tags": [],
        "id": "604f5178-5039-4afb-98fe-26e574baee8d"
      },
      "outputs": [],
      "source": [
        "class UNetRes50(nn.Module):\n",
        "    def __init__(self, device=None, in_channels=None):\n",
        "        super(UNetRes50, self).__init__()\n",
        "\n",
        "        if (device is None):\n",
        "            self.device = \"cuda\" if torch.cuda.is_available() else \"cpu\"\n",
        "        else:\n",
        "            self.device = device\n",
        "        \n",
        "        if (in_channels is None):\n",
        "            self.in_channels = 3\n",
        "        else:\n",
        "            self.in_channels = in_channels\n",
        "\n",
        "\n",
        "        resnet50 = torchvision.models.resnet50(weights=\"DEFAULT\")\n",
        "        self.conv0 = nn.Conv2d(self.in_channels, 64, (3, 3), stride=(2, 2), padding=1)\n",
        "        self.e1 = nn.Sequential(self.conv0, resnet50._modules['bn1'], resnet50._modules['relu'])\n",
        "        self.e2 = nn.Sequential(resnet50._modules['maxpool'], resnet50._modules['layer1'])\n",
        "        self.e3 = nn.Sequential(resnet50._modules['layer2'])\n",
        "        self.e4 = nn.Sequential(resnet50._modules['layer3'])\n",
        "            \n",
        "        for param in self.e2.parameters():\n",
        "            param.requires_grad_(False)\n",
        "            \n",
        "        for param in self.e3.parameters():\n",
        "            param.requires_grad_(False)\n",
        "            \n",
        "        for param in self.e4.parameters():\n",
        "            param.requires_grad_(False)\n",
        "        \n",
        "        self.c1 = self.convblock(1024, 512)\n",
        "        self.c2 = self.convblock(512, 256)\n",
        "        self.c3 = self.convblock(192, 128)\n",
        "        self.c4 = self.convblock(64+self.in_channels, 64)\n",
        "        \n",
        "        self.u1 = nn.ConvTranspose2d(1024, 512, (2, 2), stride=(2, 2))\n",
        "        self.u2 = nn.ConvTranspose2d(512, 256, (2, 2), stride=(2, 2))\n",
        "        self.u3 = nn.ConvTranspose2d(256, 128, (2, 2), stride=(2, 2))\n",
        "        self.u4 = nn.ConvTranspose2d(128, 64, (2, 2), stride=(2, 2))\n",
        "        \n",
        "        self.out = nn.Conv2d(64, 1, (1, 1), padding=\"same\")\n",
        "\n",
        "        self = self.to(self.device)\n",
        "\n",
        "    def convblock(self, in_features, out_features):\n",
        "        block = nn.Sequential(\n",
        "            nn.Conv2d(in_features, out_features, (3, 3), padding=\"same\"),\n",
        "            nn.BatchNorm2d(out_features),\n",
        "            nn.ReLU(),\n",
        "            nn.Conv2d(out_features, out_features, (3, 3), padding=\"same\"),\n",
        "            nn.BatchNorm2d(out_features),\n",
        "            nn.ReLU()\n",
        "            )\n",
        "        block = block.to(self.device)\n",
        "        return block\n",
        "\n",
        "\n",
        "    def forward(self, X):\n",
        "        X = X.to(self.device)\n",
        "\n",
        "        s1 = self.e1(X)\n",
        "        s2 = self.e2(s1)\n",
        "        s3 = self.e3(s2)\n",
        "        s4 = self.e4(s3)\n",
        "        \n",
        "        s4 = self.u1(s4)\n",
        "        s3 = self.c1(torch.cat([s3, s4], dim=1))\n",
        "        s4 = None\n",
        "\n",
        "        s3 = self.u2(s3)\n",
        "        s2 = self.c2(torch.cat([s2, s3], dim=1))\n",
        "        s3 = None\n",
        "\n",
        "        s2 = self.u3(s2)\n",
        "        s1 = self.c3(torch.cat([s1, s2], dim=1))\n",
        "        s2 = None\n",
        "\n",
        "        s1 = self.u4(s1)\n",
        "        X = self.c4(torch.cat([X, s1], dim=1))\n",
        "        s1 = None\n",
        "\n",
        "        X = torch.sigmoid(self.out(X))\n",
        "\n",
        "        return X\n"
      ]
    },
    {
      "cell_type": "code",
      "execution_count": 11,
      "id": "3d7eb2e2-9605-4fa2-8454-99d3fd8e30fe",
      "metadata": {
        "tags": [],
        "id": "3d7eb2e2-9605-4fa2-8454-99d3fd8e30fe"
      },
      "outputs": [],
      "source": [
        "class CPCUNet(nn.Module):\n",
        "    def __init__(self, learning_rate=None,  loss_fn=None, optimizer=None, device=None):\n",
        "        super(CPCUNet, self).__init__()\n",
        "\n",
        "        if (device is None):\n",
        "            self.device = \"cuda\" if torch.cuda.is_available() else \"cpu\"\n",
        "        else:\n",
        "            self.device = device\n",
        "        \n",
        "        if (learning_rate is None):\n",
        "            self.learning_rate = 1e-4\n",
        "        else:\n",
        "            self.learning_rate = learning_rate\n",
        "        \n",
        "        self.net_0 = UNetRes50(in_channels=3)\n",
        "        self.net_1 = UNetRes50(in_channels=5)\n",
        "        self.net_2 = UNetRes50(in_channels=4)\n",
        "\n",
        "        if (loss_fn is None):\n",
        "            self.loss_fn = nn.BCELoss()\n",
        "        else:\n",
        "            self.loss_fn = loss_fn\n",
        "\n",
        "        if (optimizer is None):\n",
        "            self.optimizer = torch.optim.Adam(self.parameters(), lr=self.learning_rate, weight_decay=1e-3)\n",
        "        else:\n",
        "            self.optimizer = optimizer(self.parameters(), lr=self.learning_rate, weight_decay=1e-3)\n",
        "\n",
        "        \n",
        "        self = self.to(self.device)\n",
        "\n",
        "    def forward(self, X):\n",
        "        y_0 = self.net_0(X)\n",
        "        \n",
        "        X_polar = torch.zeros((X.shape[0], 5, X.shape[2], X.shape[3])).to(self.device)\n",
        "        centers = []\n",
        "        for i in range(X.shape[0]):\n",
        "            centers.append(centroid(y_0[i,:,:,:]))\n",
        "            interm = torch2np(y_0[i,:,:,:])\n",
        "            \n",
        "            X_polar[i,0:3,:,:] = np2torch(to_polar(interm, centers[i])).to(self.device)\n",
        "        \n",
        "        spat = torch.ones((X.shape[0], 1, X.shape[2], X.shape[3])).to(self.device)\n",
        "        i_spat = (torch.cumsum(spat, dim=2) - 1) / X.shape[2]\n",
        "        j_spat = (torch.cumsum(spat, dim=3) - 1) / X.shape[3]\n",
        "        \n",
        "        X_polar[:,3:4,:,:] = i_spat\n",
        "        X_polar[:,4:,:,:] = j_spat\n",
        "        \n",
        "        y_1 = self.net_1(X_polar)\n",
        "        \n",
        "        X_final = torch.zeros((X.shape[0], 4, X.shape[2], X.shape[3]))\n",
        "        X_final[:,:3,:,:] = X\n",
        "        \n",
        "        for i in range(X.shape[0]):\n",
        "            interm = to_cart(torch2np(y_1[i,:,:,:]), centers[i])\n",
        "            X_final[i,3:,:,:] = np2torch(interm).to(self.device)\n",
        "        \n",
        "        y_2 = self.net_2(X_final)\n",
        "        \n",
        "        return y_0, y_1, y_2\n",
        "            \n",
        "    def fit0(self, X, y):\n",
        "        X, y = X.to(self.device), y.to(self.device)\n",
        "        torch.cuda.empty_cache()\n",
        "        self.optimizer.zero_grad()\n",
        "        \n",
        "        pred = self.net_0(X)\n",
        "\n",
        "        loss = self.loss_fn(pred, y)\n",
        "        loss.backward()\n",
        "        self.optimizer.step()\n",
        "        loss = loss.item()\n",
        "        y = (y > 0.5)\n",
        "        pred = (pred > 0.5)\n",
        "        numt = torch.numel(y[0])\n",
        "        TP = torch.sum(torch.bitwise_and(y, pred)).item() / numt\n",
        "        TN = torch.sum(torch.bitwise_not(torch.bitwise_or(y, pred))).item() / numt\n",
        "        FN = torch.sum(torch.bitwise_and(y, torch.bitwise_not(pred))).item() / numt\n",
        "        FP = torch.sum(torch.bitwise_and(torch.bitwise_not(y), pred)).item() / numt\n",
        "        return (loss, torch.tensor([TP, FP, FN, TN]))\n",
        "      \n",
        "    def fit1(self, X, y):\n",
        "        X, y = X.to(self.device), y.to(self.device)\n",
        "        torch.cuda.empty_cache()\n",
        "        self.optimizer.zero_grad()\n",
        "        \n",
        "        y_0 = self.net_0(X)\n",
        "        \n",
        "        X_polar = torch.zeros((X.shape[0], 5, X.shape[2], X.shape[3])).to(self.device)\n",
        "        centers = []\n",
        "        for i in range(X.shape[0]):\n",
        "            centers.append(centroid(y_0[i,:,:,:]))\n",
        "            interm = torch2np(y_0[i,:,:,:])\n",
        "            \n",
        "            X_polar[i,0:3,:,:] = np2torch(to_polar(interm, centers[i])).to(self.device)\n",
        "        \n",
        "        spat = torch.ones((X.shape[0], 1, X.shape[2], X.shape[3])).to(self.device)\n",
        "        i_spat = (torch.cumsum(spat, dim=2) - 1) / X.shape[2]\n",
        "        j_spat = (torch.cumsum(spat, dim=3) - 1) / X.shape[3]\n",
        "        \n",
        "        X_polar[:,3:4,:,:] = i_spat\n",
        "        X_polar[:,4:,:,:] = j_spat\n",
        "        \n",
        "        pred = self.net_1(X_polar)\n",
        "\n",
        "\n",
        "        loss = self.loss_fn(pred, y)\n",
        "        loss.backward()\n",
        "        self.optimizer.step()\n",
        "        loss = loss.item()\n",
        "        y = (y > 0.5)\n",
        "        pred = (pred > 0.5)\n",
        "        numt = torch.numel(y[0])\n",
        "        TP = torch.sum(torch.bitwise_and(y, pred)).item() / numt\n",
        "        TN = torch.sum(torch.bitwise_not(torch.bitwise_or(y, pred))).item() / numt\n",
        "        FN = torch.sum(torch.bitwise_and(y, torch.bitwise_not(pred))).item() / numt\n",
        "        FP = torch.sum(torch.bitwise_and(torch.bitwise_not(y), pred)).item() / numt\n",
        "        return (loss, torch.tensor([TP, FP, FN, TN]))\n",
        "    \n",
        "    def fit2(self, X, y):\n",
        "        X, y = X.to(self.device), y.to(self.device)\n",
        "        torch.cuda.empty_cache()\n",
        "        self.optimizer.zero_grad()\n",
        "        pred = self(X)[2]\n",
        "        loss = self.loss_fn(pred, y)\n",
        "        loss.backward()\n",
        "        self.optimizer.step()\n",
        "        loss = loss.item()\n",
        "        y = (y > 0.5)\n",
        "        pred = (pred > 0.5)\n",
        "        numt = torch.numel(y[0])\n",
        "        TP = torch.sum(torch.bitwise_and(y, pred)).item() / numt\n",
        "        TN = torch.sum(torch.bitwise_not(torch.bitwise_or(y, pred))).item() / numt\n",
        "        FN = torch.sum(torch.bitwise_and(y, torch.bitwise_not(pred))).item() / numt\n",
        "        FP = torch.sum(torch.bitwise_and(torch.bitwise_not(y), pred)).item() / numt\n",
        "        return (loss, torch.tensor([TP, FP, FN, TN]))\n",
        "\n",
        "    def test0(self, X, y):\n",
        "        X, y = X.to(self.device), y.to(self.device)\n",
        "\n",
        "        pred = self.net_0(X)\n",
        "\n",
        "        loss = self.loss_fn(pred, y).item()\n",
        "        y = (y > 0.5)\n",
        "        pred = (pred > 0.5)\n",
        "        numt = torch.numel(y[0])\n",
        "        TP = torch.sum(torch.bitwise_and(y, pred)).item() / numt\n",
        "        TN = torch.sum(torch.bitwise_not(torch.bitwise_or(y, pred))).item() / numt\n",
        "        FN = torch.sum(torch.bitwise_and(y, torch.bitwise_not(pred))).item() / numt\n",
        "        FP = torch.sum(torch.bitwise_and(torch.bitwise_not(y), pred)).item() / numt\n",
        "        return (loss, torch.tensor([TP, FP, FN, TN]))\n",
        "    \n",
        "    def test1(self, X, y):\n",
        "        X, y = X.to(self.device), y.to(self.device)\n",
        "        \n",
        "        y_0 = self.net_0(X)\n",
        "        \n",
        "        X_polar = torch.zeros((X.shape[0], 5, X.shape[2], X.shape[3])).to(self.device)\n",
        "        centers = []\n",
        "        for i in range(X.shape[0]):\n",
        "            centers.append(centroid(y_0[i,:,:,:]))\n",
        "            interm = torch2np(y_0[i,:,:,:])\n",
        "            \n",
        "            X_polar[i,0:3,:,:] = np2torch(to_polar(interm, centers[i])).to(self.device)\n",
        "        \n",
        "        spat = torch.ones((X.shape[0], 1, X.shape[2], X.shape[3])).to(self.device)\n",
        "        i_spat = (torch.cumsum(spat, dim=2) - 1) / X.shape[2]\n",
        "        j_spat = (torch.cumsum(spat, dim=3) - 1) / X.shape[3]\n",
        "        \n",
        "        X_polar[:,3:4,:,:] = i_spat\n",
        "        X_polar[:,4:,:,:] = j_spat\n",
        "        \n",
        "        pred = self.net_1(X_polar)\n",
        "\n",
        "        loss = self.loss_fn(pred, y).item()\n",
        "        y = (y > 0.5)\n",
        "        pred = (pred > 0.5)\n",
        "        numt = torch.numel(y[0])\n",
        "        TP = torch.sum(torch.bitwise_and(y, pred)).item() / numt\n",
        "        TN = torch.sum(torch.bitwise_not(torch.bitwise_or(y, pred))).item() / numt\n",
        "        FN = torch.sum(torch.bitwise_and(y, torch.bitwise_not(pred))).item() / numt\n",
        "        FP = torch.sum(torch.bitwise_and(torch.bitwise_not(y), pred)).item() / numt\n",
        "        return (loss, torch.tensor([TP, FP, FN, TN]))\n",
        "    \n",
        "    def test2(self, X, y):\n",
        "        X, y = X.to(self.device), y.to(self.device)\n",
        "        pred = self(X)[2]\n",
        "        loss = self.loss_fn(pred, y).item()\n",
        "        y = (y > 0.5)\n",
        "        pred = (pred > 0.5)\n",
        "        numt = torch.numel(y[0])\n",
        "        TP = torch.sum(torch.bitwise_and(y, pred)).item() / numt\n",
        "        TN = torch.sum(torch.bitwise_not(torch.bitwise_or(y, pred))).item() / numt\n",
        "        FN = torch.sum(torch.bitwise_and(y, torch.bitwise_not(pred))).item() / numt\n",
        "        FP = torch.sum(torch.bitwise_and(torch.bitwise_not(y), pred)).item() / numt\n",
        "        return (loss, torch.tensor([TP, FP, FN, TN]))\n",
        "        \n",
        "        \n"
      ]
    },
    {
      "cell_type": "code",
      "execution_count": 12,
      "id": "7a89661e-c270-4c0b-94da-9011f439890f",
      "metadata": {
        "tags": [],
        "id": "7a89661e-c270-4c0b-94da-9011f439890f"
      },
      "outputs": [],
      "source": [
        "net = CPCUNet()"
      ]
    },
    {
      "cell_type": "code",
      "execution_count": 22,
      "id": "79a173a7-7363-4367-8f5a-e9d948c5b96e",
      "metadata": {
        "tags": [],
        "id": "79a173a7-7363-4367-8f5a-e9d948c5b96e",
        "outputId": "b90dc87b-bc4e-4b19-cbb3-f96073748f3f",
        "colab": {
          "base_uri": "https://localhost:8080/"
        }
      },
      "outputs": [
        {
          "output_type": "execute_result",
          "data": {
            "text/plain": [
              "====================================================================================================\n",
              "Layer (type:depth-idx)                             Output Shape              Param #\n",
              "====================================================================================================\n",
              "CPCUNet                                            [1, 1, 384, 512]          --\n",
              "├─UNetRes50: 1-1                                   [1, 1, 384, 512]          --\n",
              "│    └─Sequential: 2-1                             [1, 64, 192, 256]         --\n",
              "│    │    └─Conv2d: 3-1                            [1, 64, 192, 256]         1,792\n",
              "│    │    └─BatchNorm2d: 3-2                       [1, 64, 192, 256]         128\n",
              "│    │    └─ReLU: 3-3                              [1, 64, 192, 256]         --\n",
              "│    └─Sequential: 2-2                             [1, 256, 96, 128]         --\n",
              "│    │    └─MaxPool2d: 3-4                         [1, 64, 96, 128]          --\n",
              "│    │    └─Sequential: 3-5                        [1, 256, 96, 128]         (215,808)\n",
              "│    └─Sequential: 2-3                             [1, 512, 48, 64]          --\n",
              "│    │    └─Sequential: 3-6                        [1, 512, 48, 64]          (1,219,584)\n",
              "│    └─Sequential: 2-4                             [1, 1024, 24, 32]         --\n",
              "│    │    └─Sequential: 3-7                        [1, 1024, 24, 32]         (7,098,368)\n",
              "│    └─ConvTranspose2d: 2-5                        [1, 512, 48, 64]          2,097,664\n",
              "│    └─Sequential: 2-6                             [1, 512, 48, 64]          --\n",
              "│    │    └─Conv2d: 3-8                            [1, 512, 48, 64]          4,719,104\n",
              "│    │    └─BatchNorm2d: 3-9                       [1, 512, 48, 64]          1,024\n",
              "│    │    └─ReLU: 3-10                             [1, 512, 48, 64]          --\n",
              "│    │    └─Conv2d: 3-11                           [1, 512, 48, 64]          2,359,808\n",
              "│    │    └─BatchNorm2d: 3-12                      [1, 512, 48, 64]          1,024\n",
              "│    │    └─ReLU: 3-13                             [1, 512, 48, 64]          --\n",
              "│    └─ConvTranspose2d: 2-7                        [1, 256, 96, 128]         524,544\n",
              "│    └─Sequential: 2-8                             [1, 256, 96, 128]         --\n",
              "│    │    └─Conv2d: 3-14                           [1, 256, 96, 128]         1,179,904\n",
              "│    │    └─BatchNorm2d: 3-15                      [1, 256, 96, 128]         512\n",
              "│    │    └─ReLU: 3-16                             [1, 256, 96, 128]         --\n",
              "│    │    └─Conv2d: 3-17                           [1, 256, 96, 128]         590,080\n",
              "│    │    └─BatchNorm2d: 3-18                      [1, 256, 96, 128]         512\n",
              "│    │    └─ReLU: 3-19                             [1, 256, 96, 128]         --\n",
              "│    └─ConvTranspose2d: 2-9                        [1, 128, 192, 256]        131,200\n",
              "│    └─Sequential: 2-10                            [1, 128, 192, 256]        --\n",
              "│    │    └─Conv2d: 3-20                           [1, 128, 192, 256]        221,312\n",
              "│    │    └─BatchNorm2d: 3-21                      [1, 128, 192, 256]        256\n",
              "│    │    └─ReLU: 3-22                             [1, 128, 192, 256]        --\n",
              "│    │    └─Conv2d: 3-23                           [1, 128, 192, 256]        147,584\n",
              "│    │    └─BatchNorm2d: 3-24                      [1, 128, 192, 256]        256\n",
              "│    │    └─ReLU: 3-25                             [1, 128, 192, 256]        --\n",
              "│    └─ConvTranspose2d: 2-11                       [1, 64, 384, 512]         32,832\n",
              "│    └─Sequential: 2-12                            [1, 64, 384, 512]         --\n",
              "│    │    └─Conv2d: 3-26                           [1, 64, 384, 512]         38,656\n",
              "│    │    └─BatchNorm2d: 3-27                      [1, 64, 384, 512]         128\n",
              "│    │    └─ReLU: 3-28                             [1, 64, 384, 512]         --\n",
              "│    │    └─Conv2d: 3-29                           [1, 64, 384, 512]         36,928\n",
              "│    │    └─BatchNorm2d: 3-30                      [1, 64, 384, 512]         128\n",
              "│    │    └─ReLU: 3-31                             [1, 64, 384, 512]         --\n",
              "│    └─Conv2d: 2-13                                [1, 1, 384, 512]          65\n",
              "├─UNetRes50: 1-2                                   [1, 1, 384, 512]          --\n",
              "│    └─Sequential: 2-14                            [1, 64, 192, 256]         --\n",
              "│    │    └─Conv2d: 3-32                           [1, 64, 192, 256]         2,944\n",
              "│    │    └─BatchNorm2d: 3-33                      [1, 64, 192, 256]         128\n",
              "│    │    └─ReLU: 3-34                             [1, 64, 192, 256]         --\n",
              "│    └─Sequential: 2-15                            [1, 256, 96, 128]         --\n",
              "│    │    └─MaxPool2d: 3-35                        [1, 64, 96, 128]          --\n",
              "│    │    └─Sequential: 3-36                       [1, 256, 96, 128]         (215,808)\n",
              "│    └─Sequential: 2-16                            [1, 512, 48, 64]          --\n",
              "│    │    └─Sequential: 3-37                       [1, 512, 48, 64]          (1,219,584)\n",
              "│    └─Sequential: 2-17                            [1, 1024, 24, 32]         --\n",
              "│    │    └─Sequential: 3-38                       [1, 1024, 24, 32]         (7,098,368)\n",
              "│    └─ConvTranspose2d: 2-18                       [1, 512, 48, 64]          2,097,664\n",
              "│    └─Sequential: 2-19                            [1, 512, 48, 64]          --\n",
              "│    │    └─Conv2d: 3-39                           [1, 512, 48, 64]          4,719,104\n",
              "│    │    └─BatchNorm2d: 3-40                      [1, 512, 48, 64]          1,024\n",
              "│    │    └─ReLU: 3-41                             [1, 512, 48, 64]          --\n",
              "│    │    └─Conv2d: 3-42                           [1, 512, 48, 64]          2,359,808\n",
              "│    │    └─BatchNorm2d: 3-43                      [1, 512, 48, 64]          1,024\n",
              "│    │    └─ReLU: 3-44                             [1, 512, 48, 64]          --\n",
              "│    └─ConvTranspose2d: 2-20                       [1, 256, 96, 128]         524,544\n",
              "│    └─Sequential: 2-21                            [1, 256, 96, 128]         --\n",
              "│    │    └─Conv2d: 3-45                           [1, 256, 96, 128]         1,179,904\n",
              "│    │    └─BatchNorm2d: 3-46                      [1, 256, 96, 128]         512\n",
              "│    │    └─ReLU: 3-47                             [1, 256, 96, 128]         --\n",
              "│    │    └─Conv2d: 3-48                           [1, 256, 96, 128]         590,080\n",
              "│    │    └─BatchNorm2d: 3-49                      [1, 256, 96, 128]         512\n",
              "│    │    └─ReLU: 3-50                             [1, 256, 96, 128]         --\n",
              "│    └─ConvTranspose2d: 2-22                       [1, 128, 192, 256]        131,200\n",
              "│    └─Sequential: 2-23                            [1, 128, 192, 256]        --\n",
              "│    │    └─Conv2d: 3-51                           [1, 128, 192, 256]        221,312\n",
              "│    │    └─BatchNorm2d: 3-52                      [1, 128, 192, 256]        256\n",
              "│    │    └─ReLU: 3-53                             [1, 128, 192, 256]        --\n",
              "│    │    └─Conv2d: 3-54                           [1, 128, 192, 256]        147,584\n",
              "│    │    └─BatchNorm2d: 3-55                      [1, 128, 192, 256]        256\n",
              "│    │    └─ReLU: 3-56                             [1, 128, 192, 256]        --\n",
              "│    └─ConvTranspose2d: 2-24                       [1, 64, 384, 512]         32,832\n",
              "│    └─Sequential: 2-25                            [1, 64, 384, 512]         --\n",
              "│    │    └─Conv2d: 3-57                           [1, 64, 384, 512]         39,808\n",
              "│    │    └─BatchNorm2d: 3-58                      [1, 64, 384, 512]         128\n",
              "│    │    └─ReLU: 3-59                             [1, 64, 384, 512]         --\n",
              "│    │    └─Conv2d: 3-60                           [1, 64, 384, 512]         36,928\n",
              "│    │    └─BatchNorm2d: 3-61                      [1, 64, 384, 512]         128\n",
              "│    │    └─ReLU: 3-62                             [1, 64, 384, 512]         --\n",
              "│    └─Conv2d: 2-26                                [1, 1, 384, 512]          65\n",
              "├─UNetRes50: 1-3                                   [1, 1, 384, 512]          --\n",
              "│    └─Sequential: 2-27                            [1, 64, 192, 256]         --\n",
              "│    │    └─Conv2d: 3-63                           [1, 64, 192, 256]         2,368\n",
              "│    │    └─BatchNorm2d: 3-64                      [1, 64, 192, 256]         128\n",
              "│    │    └─ReLU: 3-65                             [1, 64, 192, 256]         --\n",
              "│    └─Sequential: 2-28                            [1, 256, 96, 128]         --\n",
              "│    │    └─MaxPool2d: 3-66                        [1, 64, 96, 128]          --\n",
              "│    │    └─Sequential: 3-67                       [1, 256, 96, 128]         (215,808)\n",
              "│    └─Sequential: 2-29                            [1, 512, 48, 64]          --\n",
              "│    │    └─Sequential: 3-68                       [1, 512, 48, 64]          (1,219,584)\n",
              "│    └─Sequential: 2-30                            [1, 1024, 24, 32]         --\n",
              "│    │    └─Sequential: 3-69                       [1, 1024, 24, 32]         (7,098,368)\n",
              "│    └─ConvTranspose2d: 2-31                       [1, 512, 48, 64]          2,097,664\n",
              "│    └─Sequential: 2-32                            [1, 512, 48, 64]          --\n",
              "│    │    └─Conv2d: 3-70                           [1, 512, 48, 64]          4,719,104\n",
              "│    │    └─BatchNorm2d: 3-71                      [1, 512, 48, 64]          1,024\n",
              "│    │    └─ReLU: 3-72                             [1, 512, 48, 64]          --\n",
              "│    │    └─Conv2d: 3-73                           [1, 512, 48, 64]          2,359,808\n",
              "│    │    └─BatchNorm2d: 3-74                      [1, 512, 48, 64]          1,024\n",
              "│    │    └─ReLU: 3-75                             [1, 512, 48, 64]          --\n",
              "│    └─ConvTranspose2d: 2-33                       [1, 256, 96, 128]         524,544\n",
              "│    └─Sequential: 2-34                            [1, 256, 96, 128]         --\n",
              "│    │    └─Conv2d: 3-76                           [1, 256, 96, 128]         1,179,904\n",
              "│    │    └─BatchNorm2d: 3-77                      [1, 256, 96, 128]         512\n",
              "│    │    └─ReLU: 3-78                             [1, 256, 96, 128]         --\n",
              "│    │    └─Conv2d: 3-79                           [1, 256, 96, 128]         590,080\n",
              "│    │    └─BatchNorm2d: 3-80                      [1, 256, 96, 128]         512\n",
              "│    │    └─ReLU: 3-81                             [1, 256, 96, 128]         --\n",
              "│    └─ConvTranspose2d: 2-35                       [1, 128, 192, 256]        131,200\n",
              "│    └─Sequential: 2-36                            [1, 128, 192, 256]        --\n",
              "│    │    └─Conv2d: 3-82                           [1, 128, 192, 256]        221,312\n",
              "│    │    └─BatchNorm2d: 3-83                      [1, 128, 192, 256]        256\n",
              "│    │    └─ReLU: 3-84                             [1, 128, 192, 256]        --\n",
              "│    │    └─Conv2d: 3-85                           [1, 128, 192, 256]        147,584\n",
              "│    │    └─BatchNorm2d: 3-86                      [1, 128, 192, 256]        256\n",
              "│    │    └─ReLU: 3-87                             [1, 128, 192, 256]        --\n",
              "│    └─ConvTranspose2d: 2-37                       [1, 64, 384, 512]         32,832\n",
              "│    └─Sequential: 2-38                            [1, 64, 384, 512]         --\n",
              "│    │    └─Conv2d: 3-88                           [1, 64, 384, 512]         39,232\n",
              "│    │    └─BatchNorm2d: 3-89                      [1, 64, 384, 512]         128\n",
              "│    │    └─ReLU: 3-90                             [1, 64, 384, 512]         --\n",
              "│    │    └─Conv2d: 3-91                           [1, 64, 384, 512]         36,928\n",
              "│    │    └─BatchNorm2d: 3-92                      [1, 64, 384, 512]         128\n",
              "│    │    └─ReLU: 3-93                             [1, 64, 384, 512]         --\n",
              "│    └─Conv2d: 2-39                                [1, 1, 384, 512]          65\n",
              "====================================================================================================\n",
              "Total params: 61,861,059\n",
              "Trainable params: 36,259,779\n",
              "Non-trainable params: 25,601,280\n",
              "Total mult-adds (G): 344.72\n",
              "====================================================================================================\n",
              "Input size (MB): 2.36\n",
              "Forward/backward pass size (MB): 4808.25\n",
              "Params size (MB): 247.44\n",
              "Estimated Total Size (MB): 5058.05\n",
              "===================================================================================================="
            ]
          },
          "metadata": {},
          "execution_count": 22
        }
      ],
      "source": [
        "torchinfo.summary(net, input_size=(1, 3, IM_H, IM_W))"
      ]
    },
    {
      "cell_type": "code",
      "source": [
        "for t in range(EPOCHS):\n",
        "  torch.cuda.empty_cache()\n",
        "  print(f\"Epoch {t+1} ---------------------\")\n",
        "  print(f\"Training Set -----\")\n",
        "  train_loss, _ = train(net, 0)\n",
        "  print(f\"Validation Set -----\")\n",
        "  train_loss, met = test(net, 0)\n",
        "  print(f\"\\rIoU: {met[0] / (met[0] + met[1] + met[2]): .4f}, Dice: {met[0] / (met[0] + 0.5 * (met[1] + met[2])): .4f}, Acc: {met[0] + met[3] : .4f}\")"
      ],
      "metadata": {
        "id": "N-qcif1jksOA",
        "outputId": "411c3dbb-c2d8-4464-a25e-67f20c13c293",
        "colab": {
          "base_uri": "https://localhost:8080/",
          "height": 852
        }
      },
      "id": "N-qcif1jksOA",
      "execution_count": 34,
      "outputs": [
        {
          "output_type": "stream",
          "name": "stdout",
          "text": [
            "Epoch 1 ---------------------\n",
            "Training Set -----\n"
          ]
        },
        {
          "output_type": "stream",
          "name": "stderr",
          "text": [
            "Avg. Loss:  0.3673, Avg. Accuracy:  0.8848: 100%|██████████| 518/518 [07:02<00:00,  1.22it/s]\n"
          ]
        },
        {
          "output_type": "stream",
          "name": "stdout",
          "text": [
            "Validation Set -----\n"
          ]
        },
        {
          "output_type": "stream",
          "name": "stderr",
          "text": [
            "Avg. Loss:  0.3561, Avg. Accuracy:  0.8652: 100%|██████████| 20/20 [00:06<00:00,  3.22it/s]\n"
          ]
        },
        {
          "output_type": "stream",
          "name": "stdout",
          "text": [
            "\rIoU:  0.6105, Dice:  0.7582, Acc:  0.8652\n",
            "Epoch 2 ---------------------\n",
            "Training Set -----\n"
          ]
        },
        {
          "output_type": "stream",
          "name": "stderr",
          "text": [
            "Avg. Loss:  0.2675, Avg. Accuracy:  0.9065: 100%|██████████| 518/518 [07:00<00:00,  1.23it/s]\n"
          ]
        },
        {
          "output_type": "stream",
          "name": "stdout",
          "text": [
            "Validation Set -----\n"
          ]
        },
        {
          "output_type": "stream",
          "name": "stderr",
          "text": [
            "Avg. Loss:  0.3095, Avg. Accuracy:  0.8746: 100%|██████████| 20/20 [00:06<00:00,  3.25it/s]\n"
          ]
        },
        {
          "output_type": "stream",
          "name": "stdout",
          "text": [
            "\rIoU:  0.6149, Dice:  0.7615, Acc:  0.8746\n",
            "Epoch 3 ---------------------\n",
            "Training Set -----\n"
          ]
        },
        {
          "output_type": "stream",
          "name": "stderr",
          "text": [
            "Avg. Loss:  0.2422, Avg. Accuracy:  0.9116: 100%|██████████| 518/518 [07:01<00:00,  1.23it/s]\n"
          ]
        },
        {
          "output_type": "stream",
          "name": "stdout",
          "text": [
            "Validation Set -----\n"
          ]
        },
        {
          "output_type": "stream",
          "name": "stderr",
          "text": [
            "Avg. Loss:  0.3080, Avg. Accuracy:  0.8703: 100%|██████████| 20/20 [00:06<00:00,  3.22it/s]\n"
          ]
        },
        {
          "output_type": "stream",
          "name": "stdout",
          "text": [
            "\rIoU:  0.6146, Dice:  0.7613, Acc:  0.8703\n",
            "Epoch 4 ---------------------\n",
            "Training Set -----\n"
          ]
        },
        {
          "output_type": "stream",
          "name": "stderr",
          "text": [
            "Avg. Loss:  0.2299, Avg. Accuracy:  0.9147: 100%|██████████| 518/518 [07:00<00:00,  1.23it/s]\n"
          ]
        },
        {
          "output_type": "stream",
          "name": "stdout",
          "text": [
            "Validation Set -----\n"
          ]
        },
        {
          "output_type": "stream",
          "name": "stderr",
          "text": [
            "Avg. Loss:  0.3130, Avg. Accuracy:  0.8668: 100%|██████████| 20/20 [00:06<00:00,  3.24it/s]\n"
          ]
        },
        {
          "output_type": "stream",
          "name": "stdout",
          "text": [
            "\rIoU:  0.6143, Dice:  0.7611, Acc:  0.8668\n",
            "Epoch 5 ---------------------\n",
            "Training Set -----\n"
          ]
        },
        {
          "output_type": "stream",
          "name": "stderr",
          "text": [
            "Avg. Loss:  0.1327, Avg. Accuracy:  0.9651:   0%|          | 2/518 [00:02<10:05,  1.17s/it]\n"
          ]
        },
        {
          "output_type": "error",
          "ename": "KeyboardInterrupt",
          "evalue": "ignored",
          "traceback": [
            "\u001b[0;31m---------------------------------------------------------------------------\u001b[0m",
            "\u001b[0;31mKeyboardInterrupt\u001b[0m                         Traceback (most recent call last)",
            "\u001b[0;32m<ipython-input-34-fd245f74a908>\u001b[0m in \u001b[0;36m<module>\u001b[0;34m\u001b[0m\n\u001b[1;32m      3\u001b[0m   \u001b[0mprint\u001b[0m\u001b[0;34m(\u001b[0m\u001b[0;34mf\"Epoch {t+1} ---------------------\"\u001b[0m\u001b[0;34m)\u001b[0m\u001b[0;34m\u001b[0m\u001b[0;34m\u001b[0m\u001b[0m\n\u001b[1;32m      4\u001b[0m   \u001b[0mprint\u001b[0m\u001b[0;34m(\u001b[0m\u001b[0;34mf\"Training Set -----\"\u001b[0m\u001b[0;34m)\u001b[0m\u001b[0;34m\u001b[0m\u001b[0;34m\u001b[0m\u001b[0m\n\u001b[0;32m----> 5\u001b[0;31m   \u001b[0mtrain_loss\u001b[0m\u001b[0;34m,\u001b[0m \u001b[0m_\u001b[0m \u001b[0;34m=\u001b[0m \u001b[0mtrain\u001b[0m\u001b[0;34m(\u001b[0m\u001b[0mnet\u001b[0m\u001b[0;34m,\u001b[0m \u001b[0;36m0\u001b[0m\u001b[0;34m)\u001b[0m\u001b[0;34m\u001b[0m\u001b[0;34m\u001b[0m\u001b[0m\n\u001b[0m\u001b[1;32m      6\u001b[0m   \u001b[0mprint\u001b[0m\u001b[0;34m(\u001b[0m\u001b[0;34mf\"Validation Set -----\"\u001b[0m\u001b[0;34m)\u001b[0m\u001b[0;34m\u001b[0m\u001b[0;34m\u001b[0m\u001b[0m\n\u001b[1;32m      7\u001b[0m   \u001b[0mtrain_loss\u001b[0m\u001b[0;34m,\u001b[0m \u001b[0mmet\u001b[0m \u001b[0;34m=\u001b[0m \u001b[0mtest\u001b[0m\u001b[0;34m(\u001b[0m\u001b[0mnet\u001b[0m\u001b[0;34m,\u001b[0m \u001b[0;36m0\u001b[0m\u001b[0;34m)\u001b[0m\u001b[0;34m\u001b[0m\u001b[0;34m\u001b[0m\u001b[0m\n",
            "\u001b[0;32m<ipython-input-25-3ce32415e90f>\u001b[0m in \u001b[0;36mtrain\u001b[0;34m(model, stage)\u001b[0m\n\u001b[1;32m     10\u001b[0m       \u001b[0mloss\u001b[0m\u001b[0;34m,\u001b[0m \u001b[0mmet\u001b[0m \u001b[0;34m=\u001b[0m \u001b[0;32mNone\u001b[0m\u001b[0;34m,\u001b[0m \u001b[0;32mNone\u001b[0m\u001b[0;34m\u001b[0m\u001b[0;34m\u001b[0m\u001b[0m\n\u001b[1;32m     11\u001b[0m       \u001b[0;32mif\u001b[0m \u001b[0mstage\u001b[0m \u001b[0;34m==\u001b[0m \u001b[0;36m0\u001b[0m\u001b[0;34m:\u001b[0m\u001b[0;34m\u001b[0m\u001b[0;34m\u001b[0m\u001b[0m\n\u001b[0;32m---> 12\u001b[0;31m           \u001b[0mloss\u001b[0m\u001b[0;34m,\u001b[0m \u001b[0mmet\u001b[0m \u001b[0;34m=\u001b[0m \u001b[0mmodel\u001b[0m\u001b[0;34m.\u001b[0m\u001b[0mfit0\u001b[0m\u001b[0;34m(\u001b[0m\u001b[0mX\u001b[0m\u001b[0;34m,\u001b[0m \u001b[0my\u001b[0m\u001b[0;34m)\u001b[0m\u001b[0;34m\u001b[0m\u001b[0;34m\u001b[0m\u001b[0m\n\u001b[0m\u001b[1;32m     13\u001b[0m       \u001b[0;32melif\u001b[0m \u001b[0mstage\u001b[0m \u001b[0;34m==\u001b[0m \u001b[0;36m1\u001b[0m\u001b[0;34m:\u001b[0m\u001b[0;34m\u001b[0m\u001b[0;34m\u001b[0m\u001b[0m\n\u001b[1;32m     14\u001b[0m           \u001b[0mloss\u001b[0m\u001b[0;34m,\u001b[0m \u001b[0mmet\u001b[0m \u001b[0;34m=\u001b[0m \u001b[0mmodel\u001b[0m\u001b[0;34m.\u001b[0m\u001b[0mfit1\u001b[0m\u001b[0;34m(\u001b[0m\u001b[0mX\u001b[0m\u001b[0;34m,\u001b[0m \u001b[0my\u001b[0m\u001b[0;34m)\u001b[0m\u001b[0;34m\u001b[0m\u001b[0;34m\u001b[0m\u001b[0m\n",
            "\u001b[0;32m<ipython-input-28-f26923337f3b>\u001b[0m in \u001b[0;36mfit0\u001b[0;34m(self, X, y)\u001b[0m\n\u001b[1;32m     71\u001b[0m         \u001b[0mloss\u001b[0m\u001b[0;34m.\u001b[0m\u001b[0mbackward\u001b[0m\u001b[0;34m(\u001b[0m\u001b[0;34m)\u001b[0m\u001b[0;34m\u001b[0m\u001b[0;34m\u001b[0m\u001b[0m\n\u001b[1;32m     72\u001b[0m         \u001b[0mself\u001b[0m\u001b[0;34m.\u001b[0m\u001b[0moptimizer\u001b[0m\u001b[0;34m.\u001b[0m\u001b[0mstep\u001b[0m\u001b[0;34m(\u001b[0m\u001b[0;34m)\u001b[0m\u001b[0;34m\u001b[0m\u001b[0;34m\u001b[0m\u001b[0m\n\u001b[0;32m---> 73\u001b[0;31m         \u001b[0mloss\u001b[0m \u001b[0;34m=\u001b[0m \u001b[0mloss\u001b[0m\u001b[0;34m.\u001b[0m\u001b[0mitem\u001b[0m\u001b[0;34m(\u001b[0m\u001b[0;34m)\u001b[0m\u001b[0;34m\u001b[0m\u001b[0;34m\u001b[0m\u001b[0m\n\u001b[0m\u001b[1;32m     74\u001b[0m         \u001b[0my\u001b[0m \u001b[0;34m=\u001b[0m \u001b[0;34m(\u001b[0m\u001b[0my\u001b[0m \u001b[0;34m>\u001b[0m \u001b[0;36m0.5\u001b[0m\u001b[0;34m)\u001b[0m\u001b[0;34m\u001b[0m\u001b[0;34m\u001b[0m\u001b[0m\n\u001b[1;32m     75\u001b[0m         \u001b[0mpred\u001b[0m \u001b[0;34m=\u001b[0m \u001b[0;34m(\u001b[0m\u001b[0mpred\u001b[0m \u001b[0;34m>\u001b[0m \u001b[0;36m0.5\u001b[0m\u001b[0;34m)\u001b[0m\u001b[0;34m\u001b[0m\u001b[0;34m\u001b[0m\u001b[0m\n",
            "\u001b[0;31mKeyboardInterrupt\u001b[0m: "
          ]
        }
      ]
    },
    {
      "cell_type": "code",
      "source": [
        "for t in range(EPOCHS):\n",
        "  torch.cuda.empty_cache()\n",
        "  print(f\"Epoch {t+1} ---------------------\")\n",
        "  print(f\"Training Set -----\")\n",
        "  train_loss, _ = train(net, 1)\n",
        "  print(f\"Validation Set -----\")\n",
        "  train_loss, met = test(net, 1)\n",
        "  print(f\"\\rIoU: {met[0] / (met[0] + met[1] + met[2]): .4f}, Dice: {met[0] / (met[0] + 0.5 * (met[1] + met[2])): .4f}, Acc: {met[0] + met[3] : .4f}\")"
      ],
      "metadata": {
        "id": "nOFxZUFDmiPB",
        "outputId": "eaca0bc1-cfca-41dd-ca52-09e0c6989f4b",
        "colab": {
          "base_uri": "https://localhost:8080/",
          "height": 435
        }
      },
      "id": "nOFxZUFDmiPB",
      "execution_count": 12,
      "outputs": [
        {
          "output_type": "stream",
          "name": "stdout",
          "text": [
            "Epoch 1 ---------------------\n",
            "Training Set -----\n"
          ]
        },
        {
          "output_type": "stream",
          "name": "stderr",
          "text": [
            "Avg. Loss:  0.5416, Avg. Accuracy:  0.7801:   5%|▍         | 24/518 [00:32<11:14,  1.37s/it]\n"
          ]
        },
        {
          "output_type": "error",
          "ename": "KeyboardInterrupt",
          "evalue": "ignored",
          "traceback": [
            "\u001b[0;31m---------------------------------------------------------------------------\u001b[0m",
            "\u001b[0;31mKeyboardInterrupt\u001b[0m                         Traceback (most recent call last)",
            "\u001b[0;32m<ipython-input-12-ad3832daffdc>\u001b[0m in \u001b[0;36m<module>\u001b[0;34m\u001b[0m\n\u001b[1;32m      3\u001b[0m   \u001b[0mprint\u001b[0m\u001b[0;34m(\u001b[0m\u001b[0;34mf\"Epoch {t+1} ---------------------\"\u001b[0m\u001b[0;34m)\u001b[0m\u001b[0;34m\u001b[0m\u001b[0;34m\u001b[0m\u001b[0m\n\u001b[1;32m      4\u001b[0m   \u001b[0mprint\u001b[0m\u001b[0;34m(\u001b[0m\u001b[0;34mf\"Training Set -----\"\u001b[0m\u001b[0;34m)\u001b[0m\u001b[0;34m\u001b[0m\u001b[0;34m\u001b[0m\u001b[0m\n\u001b[0;32m----> 5\u001b[0;31m   \u001b[0mtrain_loss\u001b[0m\u001b[0;34m,\u001b[0m \u001b[0m_\u001b[0m \u001b[0;34m=\u001b[0m \u001b[0mtrain\u001b[0m\u001b[0;34m(\u001b[0m\u001b[0mnet\u001b[0m\u001b[0;34m,\u001b[0m \u001b[0;36m1\u001b[0m\u001b[0;34m)\u001b[0m\u001b[0;34m\u001b[0m\u001b[0;34m\u001b[0m\u001b[0m\n\u001b[0m\u001b[1;32m      6\u001b[0m   \u001b[0mprint\u001b[0m\u001b[0;34m(\u001b[0m\u001b[0;34mf\"Validation Set -----\"\u001b[0m\u001b[0;34m)\u001b[0m\u001b[0;34m\u001b[0m\u001b[0;34m\u001b[0m\u001b[0m\n\u001b[1;32m      7\u001b[0m   \u001b[0mtrain_loss\u001b[0m\u001b[0;34m,\u001b[0m \u001b[0mmet\u001b[0m \u001b[0;34m=\u001b[0m \u001b[0mtest\u001b[0m\u001b[0;34m(\u001b[0m\u001b[0mnet\u001b[0m\u001b[0;34m,\u001b[0m \u001b[0;36m1\u001b[0m\u001b[0;34m)\u001b[0m\u001b[0;34m\u001b[0m\u001b[0;34m\u001b[0m\u001b[0m\n",
            "\u001b[0;32m<ipython-input-5-3ce32415e90f>\u001b[0m in \u001b[0;36mtrain\u001b[0;34m(model, stage)\u001b[0m\n\u001b[1;32m     12\u001b[0m           \u001b[0mloss\u001b[0m\u001b[0;34m,\u001b[0m \u001b[0mmet\u001b[0m \u001b[0;34m=\u001b[0m \u001b[0mmodel\u001b[0m\u001b[0;34m.\u001b[0m\u001b[0mfit0\u001b[0m\u001b[0;34m(\u001b[0m\u001b[0mX\u001b[0m\u001b[0;34m,\u001b[0m \u001b[0my\u001b[0m\u001b[0;34m)\u001b[0m\u001b[0;34m\u001b[0m\u001b[0;34m\u001b[0m\u001b[0m\n\u001b[1;32m     13\u001b[0m       \u001b[0;32melif\u001b[0m \u001b[0mstage\u001b[0m \u001b[0;34m==\u001b[0m \u001b[0;36m1\u001b[0m\u001b[0;34m:\u001b[0m\u001b[0;34m\u001b[0m\u001b[0;34m\u001b[0m\u001b[0m\n\u001b[0;32m---> 14\u001b[0;31m           \u001b[0mloss\u001b[0m\u001b[0;34m,\u001b[0m \u001b[0mmet\u001b[0m \u001b[0;34m=\u001b[0m \u001b[0mmodel\u001b[0m\u001b[0;34m.\u001b[0m\u001b[0mfit1\u001b[0m\u001b[0;34m(\u001b[0m\u001b[0mX\u001b[0m\u001b[0;34m,\u001b[0m \u001b[0my\u001b[0m\u001b[0;34m)\u001b[0m\u001b[0;34m\u001b[0m\u001b[0;34m\u001b[0m\u001b[0m\n\u001b[0m\u001b[1;32m     15\u001b[0m       \u001b[0;32melif\u001b[0m \u001b[0mstage\u001b[0m \u001b[0;34m==\u001b[0m \u001b[0;36m2\u001b[0m\u001b[0;34m:\u001b[0m\u001b[0;34m\u001b[0m\u001b[0;34m\u001b[0m\u001b[0m\n\u001b[1;32m     16\u001b[0m           \u001b[0mloss\u001b[0m\u001b[0;34m,\u001b[0m \u001b[0mmet\u001b[0m \u001b[0;34m=\u001b[0m \u001b[0mmodel\u001b[0m\u001b[0;34m.\u001b[0m\u001b[0mfit2\u001b[0m\u001b[0;34m(\u001b[0m\u001b[0mX\u001b[0m\u001b[0;34m,\u001b[0m \u001b[0my\u001b[0m\u001b[0;34m)\u001b[0m\u001b[0;34m\u001b[0m\u001b[0;34m\u001b[0m\u001b[0m\n",
            "\u001b[0;32m<ipython-input-10-45826b3c5cba>\u001b[0m in \u001b[0;36mfit1\u001b[0;34m(self, X, y)\u001b[0m\n\u001b[1;32m    109\u001b[0m         \u001b[0mloss\u001b[0m\u001b[0;34m.\u001b[0m\u001b[0mbackward\u001b[0m\u001b[0;34m(\u001b[0m\u001b[0;34m)\u001b[0m\u001b[0;34m\u001b[0m\u001b[0;34m\u001b[0m\u001b[0m\n\u001b[1;32m    110\u001b[0m         \u001b[0mself\u001b[0m\u001b[0;34m.\u001b[0m\u001b[0moptimizer\u001b[0m\u001b[0;34m.\u001b[0m\u001b[0mstep\u001b[0m\u001b[0;34m(\u001b[0m\u001b[0;34m)\u001b[0m\u001b[0;34m\u001b[0m\u001b[0;34m\u001b[0m\u001b[0m\n\u001b[0;32m--> 111\u001b[0;31m         \u001b[0mloss\u001b[0m \u001b[0;34m=\u001b[0m \u001b[0mloss\u001b[0m\u001b[0;34m.\u001b[0m\u001b[0mitem\u001b[0m\u001b[0;34m(\u001b[0m\u001b[0;34m)\u001b[0m\u001b[0;34m\u001b[0m\u001b[0;34m\u001b[0m\u001b[0m\n\u001b[0m\u001b[1;32m    112\u001b[0m         \u001b[0my\u001b[0m \u001b[0;34m=\u001b[0m \u001b[0;34m(\u001b[0m\u001b[0my\u001b[0m \u001b[0;34m>\u001b[0m \u001b[0;36m0.5\u001b[0m\u001b[0;34m)\u001b[0m\u001b[0;34m\u001b[0m\u001b[0;34m\u001b[0m\u001b[0m\n\u001b[1;32m    113\u001b[0m         \u001b[0mpred\u001b[0m \u001b[0;34m=\u001b[0m \u001b[0;34m(\u001b[0m\u001b[0mpred\u001b[0m \u001b[0;34m>\u001b[0m \u001b[0;36m0.5\u001b[0m\u001b[0;34m)\u001b[0m\u001b[0;34m\u001b[0m\u001b[0;34m\u001b[0m\u001b[0m\n",
            "\u001b[0;31mKeyboardInterrupt\u001b[0m: "
          ]
        }
      ]
    },
    {
      "cell_type": "code",
      "source": [
        "for t in range(EPOCHS):\n",
        "  torch.cuda.empty_cache()\n",
        "  print(f\"Epoch {t+1} ---------------------\")\n",
        "  print(f\"Training Set -----\")\n",
        "  train_loss, _ = train(net, 2)\n",
        "  print(f\"Validation Set -----\")\n",
        "  train_loss, met = test(net, 2)\n",
        "  print(f\"\\rIoU: {met[0] / (met[0] + met[1] + met[2]): .4f}, Dice: {met[0] / (met[0] + 0.5 * (met[1] + met[2])): .4f}, Acc: {met[0] + met[3] : .4f}\")"
      ],
      "metadata": {
        "id": "q4vCXcC3mkMK",
        "outputId": "1c0290a3-0faf-4f74-c195-c8ff1552d47f",
        "colab": {
          "base_uri": "https://localhost:8080/",
          "height": 435
        }
      },
      "id": "q4vCXcC3mkMK",
      "execution_count": 13,
      "outputs": [
        {
          "output_type": "stream",
          "name": "stdout",
          "text": [
            "Epoch 1 ---------------------\n",
            "Training Set -----\n"
          ]
        },
        {
          "output_type": "stream",
          "name": "stderr",
          "text": [
            "Avg. Loss:  0.7349, Avg. Accuracy:  0.4113:   4%|▍         | 22/518 [00:34<12:59,  1.57s/it]\n"
          ]
        },
        {
          "output_type": "error",
          "ename": "KeyboardInterrupt",
          "evalue": "ignored",
          "traceback": [
            "\u001b[0;31m---------------------------------------------------------------------------\u001b[0m",
            "\u001b[0;31mKeyboardInterrupt\u001b[0m                         Traceback (most recent call last)",
            "\u001b[0;32m<ipython-input-13-28e1587cb052>\u001b[0m in \u001b[0;36m<module>\u001b[0;34m\u001b[0m\n\u001b[1;32m      3\u001b[0m   \u001b[0mprint\u001b[0m\u001b[0;34m(\u001b[0m\u001b[0;34mf\"Epoch {t+1} ---------------------\"\u001b[0m\u001b[0;34m)\u001b[0m\u001b[0;34m\u001b[0m\u001b[0;34m\u001b[0m\u001b[0m\n\u001b[1;32m      4\u001b[0m   \u001b[0mprint\u001b[0m\u001b[0;34m(\u001b[0m\u001b[0;34mf\"Training Set -----\"\u001b[0m\u001b[0;34m)\u001b[0m\u001b[0;34m\u001b[0m\u001b[0;34m\u001b[0m\u001b[0m\n\u001b[0;32m----> 5\u001b[0;31m   \u001b[0mtrain_loss\u001b[0m\u001b[0;34m,\u001b[0m \u001b[0m_\u001b[0m \u001b[0;34m=\u001b[0m \u001b[0mtrain\u001b[0m\u001b[0;34m(\u001b[0m\u001b[0mnet\u001b[0m\u001b[0;34m,\u001b[0m \u001b[0;36m2\u001b[0m\u001b[0;34m)\u001b[0m\u001b[0;34m\u001b[0m\u001b[0;34m\u001b[0m\u001b[0m\n\u001b[0m\u001b[1;32m      6\u001b[0m   \u001b[0mprint\u001b[0m\u001b[0;34m(\u001b[0m\u001b[0;34mf\"Validation Set -----\"\u001b[0m\u001b[0;34m)\u001b[0m\u001b[0;34m\u001b[0m\u001b[0;34m\u001b[0m\u001b[0m\n\u001b[1;32m      7\u001b[0m   \u001b[0mtrain_loss\u001b[0m\u001b[0;34m,\u001b[0m \u001b[0mmet\u001b[0m \u001b[0;34m=\u001b[0m \u001b[0mtest\u001b[0m\u001b[0;34m(\u001b[0m\u001b[0mnet\u001b[0m\u001b[0;34m,\u001b[0m \u001b[0;36m2\u001b[0m\u001b[0;34m)\u001b[0m\u001b[0;34m\u001b[0m\u001b[0;34m\u001b[0m\u001b[0m\n",
            "\u001b[0;32m<ipython-input-5-3ce32415e90f>\u001b[0m in \u001b[0;36mtrain\u001b[0;34m(model, stage)\u001b[0m\n\u001b[1;32m     14\u001b[0m           \u001b[0mloss\u001b[0m\u001b[0;34m,\u001b[0m \u001b[0mmet\u001b[0m \u001b[0;34m=\u001b[0m \u001b[0mmodel\u001b[0m\u001b[0;34m.\u001b[0m\u001b[0mfit1\u001b[0m\u001b[0;34m(\u001b[0m\u001b[0mX\u001b[0m\u001b[0;34m,\u001b[0m \u001b[0my\u001b[0m\u001b[0;34m)\u001b[0m\u001b[0;34m\u001b[0m\u001b[0;34m\u001b[0m\u001b[0m\n\u001b[1;32m     15\u001b[0m       \u001b[0;32melif\u001b[0m \u001b[0mstage\u001b[0m \u001b[0;34m==\u001b[0m \u001b[0;36m2\u001b[0m\u001b[0;34m:\u001b[0m\u001b[0;34m\u001b[0m\u001b[0;34m\u001b[0m\u001b[0m\n\u001b[0;32m---> 16\u001b[0;31m           \u001b[0mloss\u001b[0m\u001b[0;34m,\u001b[0m \u001b[0mmet\u001b[0m \u001b[0;34m=\u001b[0m \u001b[0mmodel\u001b[0m\u001b[0;34m.\u001b[0m\u001b[0mfit2\u001b[0m\u001b[0;34m(\u001b[0m\u001b[0mX\u001b[0m\u001b[0;34m,\u001b[0m \u001b[0my\u001b[0m\u001b[0;34m)\u001b[0m\u001b[0;34m\u001b[0m\u001b[0;34m\u001b[0m\u001b[0m\n\u001b[0m\u001b[1;32m     17\u001b[0m       \u001b[0mt_loss\u001b[0m \u001b[0;34m+=\u001b[0m \u001b[0mloss\u001b[0m\u001b[0;34m*\u001b[0m\u001b[0mlen\u001b[0m\u001b[0;34m(\u001b[0m\u001b[0mX\u001b[0m\u001b[0;34m)\u001b[0m\u001b[0;34m\u001b[0m\u001b[0;34m\u001b[0m\u001b[0m\n\u001b[1;32m     18\u001b[0m       \u001b[0mt_met\u001b[0m \u001b[0;34m+=\u001b[0m \u001b[0mmet\u001b[0m\u001b[0;34m\u001b[0m\u001b[0;34m\u001b[0m\u001b[0m\n",
            "\u001b[0;32m<ipython-input-11-45826b3c5cba>\u001b[0m in \u001b[0;36mfit2\u001b[0;34m(self, X, y)\u001b[0m\n\u001b[1;32m    123\u001b[0m         \u001b[0mtorch\u001b[0m\u001b[0;34m.\u001b[0m\u001b[0mcuda\u001b[0m\u001b[0;34m.\u001b[0m\u001b[0mempty_cache\u001b[0m\u001b[0;34m(\u001b[0m\u001b[0;34m)\u001b[0m\u001b[0;34m\u001b[0m\u001b[0;34m\u001b[0m\u001b[0m\n\u001b[1;32m    124\u001b[0m         \u001b[0mself\u001b[0m\u001b[0;34m.\u001b[0m\u001b[0moptimizer\u001b[0m\u001b[0;34m.\u001b[0m\u001b[0mzero_grad\u001b[0m\u001b[0;34m(\u001b[0m\u001b[0;34m)\u001b[0m\u001b[0;34m\u001b[0m\u001b[0;34m\u001b[0m\u001b[0m\n\u001b[0;32m--> 125\u001b[0;31m         \u001b[0mpred\u001b[0m \u001b[0;34m=\u001b[0m \u001b[0mself\u001b[0m\u001b[0;34m(\u001b[0m\u001b[0mX\u001b[0m\u001b[0;34m)\u001b[0m\u001b[0;34m[\u001b[0m\u001b[0;36m2\u001b[0m\u001b[0;34m]\u001b[0m\u001b[0;34m\u001b[0m\u001b[0;34m\u001b[0m\u001b[0m\n\u001b[0m\u001b[1;32m    126\u001b[0m         \u001b[0mloss\u001b[0m \u001b[0;34m=\u001b[0m \u001b[0mself\u001b[0m\u001b[0;34m.\u001b[0m\u001b[0mloss_fn\u001b[0m\u001b[0;34m(\u001b[0m\u001b[0mpred\u001b[0m\u001b[0;34m,\u001b[0m \u001b[0my\u001b[0m\u001b[0;34m)\u001b[0m\u001b[0;34m\u001b[0m\u001b[0;34m\u001b[0m\u001b[0m\n\u001b[1;32m    127\u001b[0m         \u001b[0mloss\u001b[0m\u001b[0;34m.\u001b[0m\u001b[0mbackward\u001b[0m\u001b[0;34m(\u001b[0m\u001b[0;34m)\u001b[0m\u001b[0;34m\u001b[0m\u001b[0;34m\u001b[0m\u001b[0m\n",
            "\u001b[0;32m/usr/local/lib/python3.8/dist-packages/torch/nn/modules/module.py\u001b[0m in \u001b[0;36m_call_impl\u001b[0;34m(self, *input, **kwargs)\u001b[0m\n\u001b[1;32m   1192\u001b[0m         if not (self._backward_hooks or self._forward_hooks or self._forward_pre_hooks or _global_backward_hooks\n\u001b[1;32m   1193\u001b[0m                 or _global_forward_hooks or _global_forward_pre_hooks):\n\u001b[0;32m-> 1194\u001b[0;31m             \u001b[0;32mreturn\u001b[0m \u001b[0mforward_call\u001b[0m\u001b[0;34m(\u001b[0m\u001b[0;34m*\u001b[0m\u001b[0minput\u001b[0m\u001b[0;34m,\u001b[0m \u001b[0;34m**\u001b[0m\u001b[0mkwargs\u001b[0m\u001b[0;34m)\u001b[0m\u001b[0;34m\u001b[0m\u001b[0;34m\u001b[0m\u001b[0m\n\u001b[0m\u001b[1;32m   1195\u001b[0m         \u001b[0;31m# Do not call functions when jit is used\u001b[0m\u001b[0;34m\u001b[0m\u001b[0;34m\u001b[0m\u001b[0;34m\u001b[0m\u001b[0m\n\u001b[1;32m   1196\u001b[0m         \u001b[0mfull_backward_hooks\u001b[0m\u001b[0;34m,\u001b[0m \u001b[0mnon_full_backward_hooks\u001b[0m \u001b[0;34m=\u001b[0m \u001b[0;34m[\u001b[0m\u001b[0;34m]\u001b[0m\u001b[0;34m,\u001b[0m \u001b[0;34m[\u001b[0m\u001b[0;34m]\u001b[0m\u001b[0;34m\u001b[0m\u001b[0;34m\u001b[0m\u001b[0m\n",
            "\u001b[0;32m<ipython-input-11-45826b3c5cba>\u001b[0m in \u001b[0;36mforward\u001b[0;34m(self, X)\u001b[0m\n\u001b[1;32m     51\u001b[0m \u001b[0;34m\u001b[0m\u001b[0m\n\u001b[1;32m     52\u001b[0m         \u001b[0mX_final\u001b[0m \u001b[0;34m=\u001b[0m \u001b[0mtorch\u001b[0m\u001b[0;34m.\u001b[0m\u001b[0mzeros\u001b[0m\u001b[0;34m(\u001b[0m\u001b[0;34m(\u001b[0m\u001b[0mX\u001b[0m\u001b[0;34m.\u001b[0m\u001b[0mshape\u001b[0m\u001b[0;34m[\u001b[0m\u001b[0;36m0\u001b[0m\u001b[0;34m]\u001b[0m\u001b[0;34m,\u001b[0m \u001b[0;36m4\u001b[0m\u001b[0;34m,\u001b[0m \u001b[0mX\u001b[0m\u001b[0;34m.\u001b[0m\u001b[0mshape\u001b[0m\u001b[0;34m[\u001b[0m\u001b[0;36m2\u001b[0m\u001b[0;34m]\u001b[0m\u001b[0;34m,\u001b[0m \u001b[0mX\u001b[0m\u001b[0;34m.\u001b[0m\u001b[0mshape\u001b[0m\u001b[0;34m[\u001b[0m\u001b[0;36m3\u001b[0m\u001b[0;34m]\u001b[0m\u001b[0;34m)\u001b[0m\u001b[0;34m)\u001b[0m\u001b[0;34m\u001b[0m\u001b[0;34m\u001b[0m\u001b[0m\n\u001b[0;32m---> 53\u001b[0;31m         \u001b[0mX_final\u001b[0m\u001b[0;34m[\u001b[0m\u001b[0;34m:\u001b[0m\u001b[0;34m,\u001b[0m\u001b[0;34m:\u001b[0m\u001b[0;36m3\u001b[0m\u001b[0;34m,\u001b[0m\u001b[0;34m:\u001b[0m\u001b[0;34m,\u001b[0m\u001b[0;34m:\u001b[0m\u001b[0;34m]\u001b[0m \u001b[0;34m=\u001b[0m \u001b[0mX\u001b[0m\u001b[0;34m\u001b[0m\u001b[0;34m\u001b[0m\u001b[0m\n\u001b[0m\u001b[1;32m     54\u001b[0m \u001b[0;34m\u001b[0m\u001b[0m\n\u001b[1;32m     55\u001b[0m         \u001b[0;32mfor\u001b[0m \u001b[0mi\u001b[0m \u001b[0;32min\u001b[0m \u001b[0mrange\u001b[0m\u001b[0;34m(\u001b[0m\u001b[0mX\u001b[0m\u001b[0;34m.\u001b[0m\u001b[0mshape\u001b[0m\u001b[0;34m[\u001b[0m\u001b[0;36m0\u001b[0m\u001b[0;34m]\u001b[0m\u001b[0;34m)\u001b[0m\u001b[0;34m:\u001b[0m\u001b[0;34m\u001b[0m\u001b[0;34m\u001b[0m\u001b[0m\n",
            "\u001b[0;31mKeyboardInterrupt\u001b[0m: "
          ]
        }
      ]
    }
  ],
  "metadata": {
    "kernelspec": {
      "display_name": "Python 3 (ipykernel)",
      "language": "python",
      "name": "python3"
    },
    "language_info": {
      "codemirror_mode": {
        "name": "ipython",
        "version": 3
      },
      "file_extension": ".py",
      "mimetype": "text/x-python",
      "name": "python",
      "nbconvert_exporter": "python",
      "pygments_lexer": "ipython3",
      "version": "3.10.9"
    },
    "colab": {
      "provenance": []
    },
    "accelerator": "GPU",
    "gpuClass": "standard"
  },
  "nbformat": 4,
  "nbformat_minor": 5
}