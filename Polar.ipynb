{
 "cells": [
  {
   "cell_type": "code",
   "execution_count": 1,
   "id": "5ce76dce-5ae0-4743-a190-d6848e29c991",
   "metadata": {
    "tags": []
   },
   "outputs": [],
   "source": [
    "import os\n",
    "from tqdm import tqdm\n",
    "import torchinfo\n",
    "import torch\n",
    "import torchvision\n",
    "import cv2 as cv\n",
    "import numpy as np\n",
    "from matplotlib import pyplot as plt"
   ]
  },
  {
   "cell_type": "code",
   "execution_count": 2,
   "id": "3ef4d54d-cc1b-48a7-9d1b-af0427e5264b",
   "metadata": {
    "tags": []
   },
   "outputs": [],
   "source": [
    "TRAIN_INPUT_DIR = 'ISIC2018_Task1-2_Training_Input/'\n",
    "TRAIN_GT_DIR = 'ISIC2018_Task1_Training_GroundTruth/'\n",
    "\n",
    "VAL_INPUT_DIR = 'ISIC2018_Task1-2_Validation_Input/'\n",
    "VAL_GT_DIR = 'ISIC2018_Task1_Validation_GroundTruth/'\n",
    "\n",
    "BATCH_SIZE = 2\n",
    "LEARNING_RATE = 1e-5\n",
    "EPOCHS = 100\n",
    "IM_H, IM_W = 384, 512\n",
    "\n",
    "DEVICE = \"cuda\" if torch.cuda.is_available() else \"cpu\""
   ]
  },
  {
   "cell_type": "code",
   "execution_count": 3,
   "id": "6b7d53fb-a716-4bbb-8c87-2b1210077039",
   "metadata": {
    "tags": []
   },
   "outputs": [
    {
     "name": "stdout",
     "output_type": "stream",
     "text": [
      "2594 100\n"
     ]
    }
   ],
   "source": [
    "training_input_files = os.listdir(TRAIN_INPUT_DIR)\n",
    "for filename in training_input_files:\n",
    "  if (filename[-3:] != \"jpg\" and filename[-3:] != \"png\"):\n",
    "    training_input_files.remove(filename)\n",
    "n_train = len(training_input_files)\n",
    "\n",
    "val_input_files = os.listdir(VAL_INPUT_DIR)\n",
    "for filename in val_input_files:\n",
    "  if (filename[-3:] != \"jpg\" and filename[-3:] != \"png\"):\n",
    "    val_input_files.remove(filename)\n",
    "n_val = len(val_input_files)\n",
    "n_train -= n_train % BATCH_SIZE\n",
    "n_val -= n_val % BATCH_SIZE\n",
    "print(n_train, n_val)"
   ]
  },
  {
   "cell_type": "code",
   "execution_count": 4,
   "id": "156d031a-d5e6-4a77-ad08-e914d71173ed",
   "metadata": {
    "tags": []
   },
   "outputs": [],
   "source": [
    "def centroid(img, lcc=False):\n",
    "  if lcc:\n",
    "    img = img.astype(np.uint8)\n",
    "    nb_components, output, stats, centroids = cv.connectedComponentsWithStats(img, connectivity=4)\n",
    "    sizes = stats[:, -1]\n",
    "    if len(sizes) > 2:\n",
    "      max_label = 1\n",
    "      max_size = sizes[1]\n",
    "\n",
    "      for i in range(2, nb_components):\n",
    "          if sizes[i] > max_size:\n",
    "              max_label = i\n",
    "              max_size = sizes[i]\n",
    "\n",
    "      img2 = np.zeros(output.shape)\n",
    "      img2[output == max_label] = 255\n",
    "      img = img2\n",
    "\n",
    "  if len(img.shape) > 2:\n",
    "    M = cv.moments(img[:,:,1])\n",
    "  else:\n",
    "    M = cv.moments(img)\n",
    "\n",
    "  if M[\"m00\"] == 0:\n",
    "    return (img.shape[0] // 2, img.shape[1] // 2)\n",
    "  \n",
    "  cX = int(M[\"m10\"] / M[\"m00\"])\n",
    "  cY = int(M[\"m01\"] / M[\"m00\"])\n",
    "  return (cX, cY)\n",
    "\n",
    "def to_polar(input_img, center):\n",
    "  input_img = input_img.astype(np.float32)\n",
    "  value = np.sqrt(((input_img.shape[0]/2.0)**2.0)+((input_img.shape[1]/2.0)**2.0))\n",
    "  polar_image = cv.linearPolar(input_img, center, value, cv.WARP_FILL_OUTLIERS)\n",
    "  return polar_image\n",
    "\n",
    "def to_cart(input_img, center):\n",
    "  input_img = input_img.astype(np.float32)\n",
    "  value = np.sqrt(((input_img.shape[1]/2.0)**2.0)+((input_img.shape[0]/2.0)**2.0))\n",
    "  polar_image = cv.linearPolar(input_img, center, value, cv.WARP_FILL_OUTLIERS + cv.WARP_INVERSE_MAP)\n",
    "  polar_image = polar_image.astype(np.uint8)\n",
    "  return polar_image"
   ]
  },
  {
   "cell_type": "code",
   "execution_count": 59,
   "id": "53cc6a45-7789-4402-9870-a2a6b71acad4",
   "metadata": {},
   "outputs": [
    {
     "name": "stderr",
     "output_type": "stream",
     "text": [
      "100%|████████████████████████████████████████████████████████████████████████████████| 100/100 [00:22<00:00,  4.40it/s]\n"
     ]
    }
   ],
   "source": [
    "train_X_cart = torch.zeros((BATCH_SIZE, 3, IM_H, IM_W)).to(DEVICE)\n",
    "train_y_cart = torch.zeros((BATCH_SIZE, 1, IM_H, IM_W)).to(DEVICE)\n",
    "train_X_pol = torch.zeros((BATCH_SIZE, 3, IM_H, IM_W)).to(DEVICE)\n",
    "train_y_pol = torch.zeros((BATCH_SIZE, 1, IM_H, IM_W)).to(DEVICE)\n",
    "nb = n_train//BATCH_SIZE\n",
    "with tqdm(total=n_train) as pbar:\n",
    "    for f in range(nb):\n",
    "        l, r = f*BATCH_SIZE, (f+1)*BATCH_SIZE\n",
    "        filename = None\n",
    "        for i in range(l, r):\n",
    "            filename = training_input_files[i]\n",
    "            in_image = cv.resize(cv.imread(TRAIN_INPUT_DIR + filename), (IM_W, IM_H))\n",
    "            gt_image = cv.resize(cv.imread(TRAIN_GT_DIR + filename[:-4] + \"_segmentation.png\", cv.IMREAD_GRAYSCALE), (IM_W, IM_H))\n",
    "            center = centroid(gt_image)\n",
    "            gt_image = np.expand_dims(gt_image, axis=2)\n",
    "            train_X_cart[i-l, :, :, :] = torch.tensor(in_image).transpose(2, 1).transpose(1, 0).to(DEVICE)\n",
    "            train_y_cart[i-l, :, :, :] = torch.tensor(gt_image).transpose(2, 1).transpose(1, 0).to(DEVICE)\n",
    "            \n",
    "            in_image_pol = to_polar(in_image, center)\n",
    "            gt_image_pol = to_polar(gt_image, center)\n",
    "            gt_image_pol = np.expand_dims(gt_image_pol, axis=2)\n",
    "            train_X_pol[i-l, :, :, :] = torch.tensor(in_image_pol).transpose(2, 1).transpose(1, 0).to(DEVICE)\n",
    "            train_y_pol[i-l, :, :, :] = torch.tensor(gt_image_pol).transpose(2, 1).transpose(1, 0).to(DEVICE)\n",
    "            \n",
    "            pbar.update(1)\n",
    "\n",
    "        train_y_cart = torch.div(train_y_cart, 128, rounding_mode='trunc')\n",
    "        train_y_pol = torch.div(train_y_pol, 128, rounding_mode='trunc')\n",
    "        \n",
    "        torch.save(train_X_cart, f\"./Preproc/train_X_cart_{f}.torch\")\n",
    "        torch.save(train_y_cart, f\"./Preproc/train_y_cart_{f}.torch\")\n",
    "        torch.save(train_X_pol, f\"./Preproc/train_X_pol_{f}.torch\")\n",
    "        torch.save(train_y_pol, f\"./Preproc/train_y_pol_{f}.torch\")\n",
    "        \n",
    "   \n",
    "val_X_cart = torch.zeros((BATCH_SIZE, 3, IM_H, IM_W)).to(DEVICE)\n",
    "val_y_cart = torch.zeros((BATCH_SIZE, 1, IM_H, IM_W)).to(DEVICE)\n",
    "val_X_pol = torch.zeros((BATCH_SIZE, 3, IM_H, IM_W)).to(DEVICE)\n",
    "val_y_pol = torch.zeros((BATCH_SIZE, 1, IM_H, IM_W)).to(DEVICE)\n",
    "nb = n_val//BATCH_SIZE\n",
    "with tqdm(total=n_val) as pbar:\n",
    "    for f in range(nb):\n",
    "        l, r = f*BATCH_SIZE, (f+1)*BATCH_SIZE\n",
    "        filename = None\n",
    "        for i in range(l, r):\n",
    "            filename = val_input_files[i]\n",
    "            in_image = cv.resize(cv.imread(VAL_INPUT_DIR + filename), (IM_W, IM_H))\n",
    "            gt_image = cv.resize(cv.imread(VAL_GT_DIR + filename[:-4] + \"_segmentation.png\", cv.IMREAD_GRAYSCALE), (IM_W, IM_H))\n",
    "            center = centroid(gt_image)\n",
    "            gt_image = np.expand_dims(gt_image, axis=2)\n",
    "            val_X_cart[i-l, :, :, :] = torch.tensor(in_image).transpose(2, 1).transpose(1, 0).to(DEVICE)\n",
    "            val_y_cart[i-l, :, :, :] = torch.tensor(gt_image).transpose(2, 1).transpose(1, 0).to(DEVICE)\n",
    "            \n",
    "            in_image_pol = to_polar(in_image, center)\n",
    "            gt_image_pol = to_polar(gt_image, center)\n",
    "            gt_image_pol = np.expand_dims(gt_image_pol, axis=2)\n",
    "            val_X_pol[i-l, :, :, :] = torch.tensor(in_image_pol).transpose(2, 1).transpose(1, 0).to(DEVICE)\n",
    "            val_y_pol[i-l, :, :, :] = torch.tensor(gt_image_pol).transpose(2, 1).transpose(1, 0).to(DEVICE)\n",
    "            \n",
    "            pbar.update(1)\n",
    "\n",
    "        val_y_cart = torch.div(val_y_cart, 128, rounding_mode='trunc')\n",
    "        val_y_pol = torch.div(val_y_pol, 128, rounding_mode='trunc')\n",
    "        \n",
    "        torch.save(val_X_cart, f\"./Preproc/val_X_cart_{f}.torch\")\n",
    "        torch.save(val_y_cart, f\"./Preproc/val_y_cart_{f}.torch\")\n",
    "        torch.save(val_X_pol, f\"./Preproc/val_X_pol_{f}.torch\")\n",
    "        torch.save(val_y_pol, f\"./Preproc/val_y_pol_{f}.torch\")\n",
    "        \n",
    "   \n",
    "   "
   ]
  },
  {
   "cell_type": "code",
   "execution_count": 5,
   "id": "af7a3380-7f9b-4fbc-81d9-a6cb7ace73ce",
   "metadata": {
    "tags": []
   },
   "outputs": [],
   "source": [
    "def train(model):\n",
    "  num_batches = n_train // BATCH_SIZE\n",
    "  model.train()\n",
    "  t_loss, t_met, proc = 0, torch.tensor([0., 0., 0., 0.]), 0\n",
    "  with tqdm(total=num_batches) as pbar:\n",
    "    pbar.set_description(\"Avg.Loss: 0.0000, Avg. Accuracy: 0.0000\")\n",
    "    for batch in range(num_batches):\n",
    "      X = torch.load(f\"./Preproc/train_X_pol_{batch}.torch\")\n",
    "      y = torch.load(f\"./Preproc/train_y_pol_{batch}.torch\")\n",
    "      loss, met = model.fit(X, y)\n",
    "      t_loss += loss*len(X)\n",
    "      t_met += met\n",
    "      proc += len(X)\n",
    "      pbar.update(1)\n",
    "      pbar.set_description(f\"Avg. Loss: {t_loss/proc: .4f}, Avg. Accuracy: {(t_met[0] + t_met[3])/proc: .4f}\")\n",
    "  return (t_loss/n_train, t_met/n_train)\n",
    "\n",
    "def test(model):\n",
    "  num_batches = n_val // BATCH_SIZE\n",
    "  model.eval()\n",
    "  t_loss, t_met, proc = 0, torch.tensor([0., 0., 0., 0.]), 0\n",
    "  with tqdm(total=num_batches) as pbar:\n",
    "    pbar.set_description(\"Avg.Loss: 0.0000, Avg. Accuracy: 0.0000\")\n",
    "    with torch.no_grad():\n",
    "      for batch in range(num_batches):\n",
    "        X = torch.load(f\"./Preproc/val_X_pol_{batch}.torch\")\n",
    "        y = torch.load(f\"./Preproc/val_y_pol_{batch}.torch\")\n",
    "        loss, met = model.test(X, y)\n",
    "        t_loss += loss*len(X)\n",
    "        t_met += met\n",
    "        proc += len(X)\n",
    "        pbar.update(1)\n",
    "        pbar.set_description(f\"Avg. Loss: {t_loss/proc : .4f}, Avg. Accuracy: {(t_met[0] + t_met[3])/proc: .4f}\")\n",
    "  return (t_loss/n_val, t_met/n_val)"
   ]
  },
  {
   "cell_type": "code",
   "execution_count": 6,
   "id": "90fd918e-7368-4086-8347-4b9e28b96022",
   "metadata": {
    "tags": []
   },
   "outputs": [],
   "source": [
    "import torch\n",
    "import torch.nn as nn\n",
    "import torch.nn.functional as F\n",
    "import torchvision\n",
    "from LossNormModel import LossNormModel\n",
    "\n",
    "class UNetRes50(LossNormModel):\n",
    "    def __init__(self, learning_rate=None,  loss_fn=None, optimizer=None, device=None, weight_decay=None):\n",
    "        super(UNetRes50, self).__init__()\n",
    "\n",
    "        if (device is None):\n",
    "            self.device = \"cuda\" if torch.cuda.is_available() else \"cpu\"\n",
    "        else:\n",
    "            self.device = device\n",
    "\n",
    "        if (learning_rate is None):\n",
    "            self.learning_rate = 1e-5\n",
    "        else:\n",
    "            self.learning_rate = learning_rate\n",
    "        \n",
    "        if (weight_decay is None):\n",
    "            self.weight_decay = 1e-5\n",
    "        else:\n",
    "            self.weight_decay = weight_decay\n",
    "\n",
    "        resnet50 = torchvision.models.resnet50(weights=\"DEFAULT\")\n",
    "        self.e1 = nn.Sequential(resnet50._modules['conv1'], resnet50._modules['bn1'], resnet50._modules['relu'])\n",
    "        self.e2 = nn.Sequential(resnet50._modules['maxpool'], resnet50._modules['layer1'])\n",
    "        self.e3 = nn.Sequential(resnet50._modules['layer2'])\n",
    "        self.e4 = nn.Sequential(resnet50._modules['layer3'])\n",
    "        \n",
    "        self.c1 = self.convblock(512+128, 128)\n",
    "        self.c2 = self.convblock(256+64, 64)\n",
    "        self.c3 = self.convblock(64+32, 32)\n",
    "        self.c4 = self.convblock(3+16, 16)\n",
    "        \n",
    "        self.u1 = nn.ConvTranspose2d(1024, 128, (2, 2), stride=(2, 2))\n",
    "        self.u2 = nn.ConvTranspose2d(128, 64, (2, 2), stride=(2, 2))\n",
    "        self.u3 = nn.ConvTranspose2d(64, 32, (2, 2), stride=(2, 2))\n",
    "        self.u4 = nn.ConvTranspose2d(32, 16, (2, 2), stride=(2, 2))\n",
    "        \n",
    "        self.out = nn.Conv2d(16, 1, (1, 1), padding=\"same\")\n",
    "\n",
    "        if (loss_fn is None):\n",
    "            self.loss_fn = nn.BCELoss()\n",
    "        else:\n",
    "            self.loss_fn = loss_fn\n",
    "\n",
    "        if (optimizer is None):\n",
    "            self.optimizer = torch.optim.Adam(self.parameters(), lr=self.learning_rate, weight_decay=self.weight_decay)\n",
    "        else:\n",
    "            self.optimizer = optimizer(self.parameters(), lr=self.learning_rate, weight_decay=self.weight_decay)\n",
    "\n",
    "\n",
    "        self = self.to(self.device)\n",
    "\n",
    "    def setfinetuning(self, option):\n",
    "        for param in self.e1.parameters():\n",
    "            param.requires_grad_(option)\n",
    "            \n",
    "        for param in self.e2.parameters():\n",
    "            param.requires_grad_(option)\n",
    "            \n",
    "        for param in self.e3.parameters():\n",
    "            param.requires_grad_(option)\n",
    "            \n",
    "        for param in self.e4.parameters():\n",
    "            param.requires_grad_(option)\n",
    "\n",
    "    def convblock(self, in_features, out_features):\n",
    "        block = nn.Sequential(\n",
    "            nn.Conv2d(in_features, out_features, (3, 3), padding=\"same\"),\n",
    "            nn.BatchNorm2d(out_features),\n",
    "            nn.ReLU(),\n",
    "            nn.Conv2d(out_features, out_features, (3, 3), padding=\"same\"),\n",
    "            nn.BatchNorm2d(out_features),\n",
    "            nn.ReLU()\n",
    "            )\n",
    "        block = block.to(self.device)\n",
    "        return block\n",
    "\n",
    "\n",
    "    def forward(self, X):\n",
    "        X = X.to(self.device)\n",
    "\n",
    "        s1 = self.e1(X)\n",
    "        s2 = self.e2(s1)\n",
    "        s3 = self.e3(s2)\n",
    "        s4 = self.e4(s3)\n",
    "        \n",
    "        s4 = self.u1(s4)\n",
    "        s3 = self.c1(torch.cat([s3, s4], dim=1))\n",
    "        s4 = None\n",
    "\n",
    "        s3 = self.u2(s3)\n",
    "        s2 = self.c2(torch.cat([s2, s3], dim=1))\n",
    "        s3 = None\n",
    "\n",
    "        s2 = self.u3(s2)\n",
    "        s1 = self.c3(torch.cat([s1, s2], dim=1))\n",
    "        s2 = None\n",
    "\n",
    "        s1 = self.u4(s1)\n",
    "        X = self.c4(torch.cat([X, s1], dim=1))\n",
    "        s1 = None\n",
    "\n",
    "        X = torch.sigmoid(self.out(X))\n",
    "\n",
    "        return X\n"
   ]
  },
  {
   "cell_type": "code",
   "execution_count": 51,
   "id": "a505a47e-67ef-4ad2-8e00-042f692bff39",
   "metadata": {
    "tags": []
   },
   "outputs": [],
   "source": [
    "import torch\n",
    "import torch.nn as nn\n",
    "import torch.nn.functional as F\n",
    "import torchvision\n",
    "from LossNormModel import LossNormModel\n",
    "\n",
    "class UNetRes50Spat(LossNormModel):\n",
    "    def __init__(self, learning_rate=None,  loss_fn=None, optimizer=None, device=None, weight_decay=None):\n",
    "        super(UNetRes50Spat, self).__init__()\n",
    "\n",
    "        if (device is None):\n",
    "            self.device = \"cuda\" if torch.cuda.is_available() else \"cpu\"\n",
    "        else:\n",
    "            self.device = device\n",
    "\n",
    "        if (learning_rate is None):\n",
    "            self.learning_rate = 1e-5\n",
    "        else:\n",
    "            self.learning_rate = learning_rate\n",
    "        \n",
    "        if (weight_decay is None):\n",
    "            self.weight_decay = 1e-5\n",
    "        else:\n",
    "            self.weight_decay = weight_decay\n",
    "\n",
    "        resnet50 = torchvision.models.resnet50(weights=\"DEFAULT\")\n",
    "        self.e1 = nn.Sequential(resnet50._modules['conv1'], resnet50._modules['bn1'], resnet50._modules['relu'])\n",
    "        self.e2 = nn.Sequential(resnet50._modules['maxpool'], resnet50._modules['layer1'])\n",
    "        self.e3 = nn.Sequential(resnet50._modules['layer2'])\n",
    "        self.e4 = nn.Sequential(resnet50._modules['layer3'])\n",
    "        \n",
    "        self.c1 = self.convblock(512+128+2, 128)\n",
    "        self.c2 = self.convblock(256+64+2, 64)\n",
    "        self.c3 = self.convblock(64+32+2, 32)\n",
    "        self.c4 = self.convblock(3+16+2, 16)\n",
    "        \n",
    "        self.u1 = nn.ConvTranspose2d(1024+2, 128, (2, 2), stride=(2, 2))\n",
    "        self.u2 = nn.ConvTranspose2d(128, 64, (2, 2), stride=(2, 2))\n",
    "        self.u3 = nn.ConvTranspose2d(64, 32, (2, 2), stride=(2, 2))\n",
    "        self.u4 = nn.ConvTranspose2d(32, 16, (2, 2), stride=(2, 2))\n",
    "        \n",
    "        self.out = nn.Conv2d(16, 1, (1, 1), padding=\"same\")\n",
    "\n",
    "        if (loss_fn is None):\n",
    "            self.loss_fn = nn.BCELoss()\n",
    "        else:\n",
    "            self.loss_fn = loss_fn\n",
    "\n",
    "        if (optimizer is None):\n",
    "            self.optimizer = torch.optim.Adam(self.parameters(), lr=self.learning_rate, weight_decay=self.weight_decay)\n",
    "        else:\n",
    "            self.optimizer = optimizer(self.parameters(), lr=self.learning_rate, weight_decay=self.weight_decay)\n",
    "\n",
    "\n",
    "        self = self.to(self.device)\n",
    "\n",
    "    def setfinetuning(self, option):\n",
    "        for param in self.e1.parameters():\n",
    "            param.requires_grad_(option)\n",
    "            \n",
    "        for param in self.e2.parameters():\n",
    "            param.requires_grad_(option)\n",
    "            \n",
    "        for param in self.e3.parameters():\n",
    "            param.requires_grad_(option)\n",
    "            \n",
    "        for param in self.e4.parameters():\n",
    "            param.requires_grad_(option)\n",
    "\n",
    "    def convblock(self, in_features, out_features):\n",
    "        block = nn.Sequential(\n",
    "            nn.Conv2d(in_features, out_features, (3, 3), padding=\"same\"),\n",
    "            nn.BatchNorm2d(out_features),\n",
    "            nn.ReLU(),\n",
    "            nn.Conv2d(out_features, out_features, (3, 3), padding=\"same\"),\n",
    "            nn.BatchNorm2d(out_features),\n",
    "            nn.ReLU()\n",
    "            )\n",
    "        block = block.to(self.device)\n",
    "        return block\n",
    "\n",
    "\n",
    "    def forward(self, X):\n",
    "        X = X.to(self.device)\n",
    "        \n",
    "        spat = torch.ones((X.shape[0], 1, X.shape[2], X.shape[3])).to(self.device)\n",
    "        i_spat = (torch.cumsum(spat, dim=2) - 1)\n",
    "        j_spat = (torch.cumsum(spat, dim=3) - 1)\n",
    "\n",
    "        s1 = self.e1(X)\n",
    "        s2 = self.e2(s1)\n",
    "        s3 = self.e3(s2)\n",
    "        s4 = self.e4(s3)\n",
    "        s4 = torch.cat([s4, i_spat[:, :, :s4.shape[2], :s4.shape[3]] / s4.shape[2], j_spat[:, :, :s4.shape[2], :s4.shape[3]] / s4.shape[3]], dim=1)\n",
    "        \n",
    "        s4 = self.u1(s4)\n",
    "        s3 = torch.cat([s3, s4, i_spat[:, :, :s3.shape[2], :s3.shape[3]] / s3.shape[2], j_spat[:, :, :s3.shape[2], :s3.shape[3]] / s3.shape[2]], dim=1)\n",
    "        s3 = self.c1(s3)\n",
    "\n",
    "        s3 = self.u2(s3)\n",
    "        s2 = torch.cat([s2, s3, i_spat[:, :, :s2.shape[2], :s2.shape[3]] / s2.shape[2], j_spat[:, :, :s2.shape[2], :s2.shape[3]] / s2.shape[2]], dim=1)\n",
    "        s2 = self.c2(s2)\n",
    "\n",
    "        s2 = self.u3(s2)\n",
    "        s1 = torch.cat([s1, s2, i_spat[:, :, :s1.shape[2], :s1.shape[3]] / s1.shape[2], j_spat[:, :, :s1.shape[2], :s1.shape[3]] / s1.shape[2]], dim=1)\n",
    "        s1 = self.c3(s1)\n",
    "\n",
    "        s1 = self.u4(s1)\n",
    "        X = torch.cat([X, s1, i_spat / X.shape[2], j_spat / X.shape[3]], dim=1)\n",
    "        X = self.c4(X)\n",
    "\n",
    "        X = torch.sigmoid(self.out(X))\n",
    "\n",
    "        return X\n"
   ]
  },
  {
   "cell_type": "code",
   "execution_count": 52,
   "id": "23cde423-2fe2-4265-9341-2c23fdf4f948",
   "metadata": {
    "tags": []
   },
   "outputs": [],
   "source": [
    "net = UNetRes50Spat(learning_rate=5e-6, weight_decay=1.2e-2)"
   ]
  },
  {
   "cell_type": "code",
   "execution_count": 35,
   "id": "db9115c6-4f43-4994-a90b-c190d7b4bc4b",
   "metadata": {
    "tags": []
   },
   "outputs": [
    {
     "data": {
      "text/plain": [
       "===============================================================================================\n",
       "Layer (type:depth-idx)                        Output Shape              Param #\n",
       "===============================================================================================\n",
       "UNetRes50Spat                                 [2, 1, 512, 384]          --\n",
       "├─Sequential: 1-1                             [2, 64, 256, 192]         --\n",
       "│    └─Conv2d: 2-1                            [2, 64, 256, 192]         9,408\n",
       "│    └─BatchNorm2d: 2-2                       [2, 64, 256, 192]         128\n",
       "│    └─ReLU: 2-3                              [2, 64, 256, 192]         --\n",
       "├─Sequential: 1-2                             [2, 256, 128, 96]         --\n",
       "│    └─MaxPool2d: 2-4                         [2, 64, 128, 96]          --\n",
       "│    └─Sequential: 2-5                        [2, 256, 128, 96]         --\n",
       "│    │    └─Bottleneck: 3-1                   [2, 256, 128, 96]         75,008\n",
       "│    │    └─Bottleneck: 3-2                   [2, 256, 128, 96]         70,400\n",
       "│    │    └─Bottleneck: 3-3                   [2, 256, 128, 96]         70,400\n",
       "├─Sequential: 1-3                             [2, 512, 64, 48]          --\n",
       "│    └─Sequential: 2-6                        [2, 512, 64, 48]          --\n",
       "│    │    └─Bottleneck: 3-4                   [2, 512, 64, 48]          379,392\n",
       "│    │    └─Bottleneck: 3-5                   [2, 512, 64, 48]          280,064\n",
       "│    │    └─Bottleneck: 3-6                   [2, 512, 64, 48]          280,064\n",
       "│    │    └─Bottleneck: 3-7                   [2, 512, 64, 48]          280,064\n",
       "├─Sequential: 1-4                             [2, 1024, 32, 24]         --\n",
       "│    └─Sequential: 2-7                        [2, 1024, 32, 24]         --\n",
       "│    │    └─Bottleneck: 3-8                   [2, 1024, 32, 24]         1,512,448\n",
       "│    │    └─Bottleneck: 3-9                   [2, 1024, 32, 24]         1,117,184\n",
       "│    │    └─Bottleneck: 3-10                  [2, 1024, 32, 24]         1,117,184\n",
       "│    │    └─Bottleneck: 3-11                  [2, 1024, 32, 24]         1,117,184\n",
       "│    │    └─Bottleneck: 3-12                  [2, 1024, 32, 24]         1,117,184\n",
       "│    │    └─Bottleneck: 3-13                  [2, 1024, 32, 24]         1,117,184\n",
       "├─ConvTranspose2d: 1-5                        [2, 128, 64, 48]          525,440\n",
       "├─Sequential: 1-6                             [2, 128, 64, 48]          --\n",
       "│    └─Conv2d: 2-8                            [2, 128, 64, 48]          739,712\n",
       "│    └─BatchNorm2d: 2-9                       [2, 128, 64, 48]          256\n",
       "│    └─ReLU: 2-10                             [2, 128, 64, 48]          --\n",
       "│    └─Conv2d: 2-11                           [2, 128, 64, 48]          147,584\n",
       "│    └─BatchNorm2d: 2-12                      [2, 128, 64, 48]          256\n",
       "│    └─ReLU: 2-13                             [2, 128, 64, 48]          --\n",
       "├─ConvTranspose2d: 1-7                        [2, 64, 128, 96]          32,832\n",
       "├─Sequential: 1-8                             [2, 64, 128, 96]          --\n",
       "│    └─Conv2d: 2-14                           [2, 64, 128, 96]          185,536\n",
       "│    └─BatchNorm2d: 2-15                      [2, 64, 128, 96]          128\n",
       "│    └─ReLU: 2-16                             [2, 64, 128, 96]          --\n",
       "│    └─Conv2d: 2-17                           [2, 64, 128, 96]          36,928\n",
       "│    └─BatchNorm2d: 2-18                      [2, 64, 128, 96]          128\n",
       "│    └─ReLU: 2-19                             [2, 64, 128, 96]          --\n",
       "├─ConvTranspose2d: 1-9                        [2, 32, 256, 192]         8,224\n",
       "├─Sequential: 1-10                            [2, 32, 256, 192]         --\n",
       "│    └─Conv2d: 2-20                           [2, 32, 256, 192]         28,256\n",
       "│    └─BatchNorm2d: 2-21                      [2, 32, 256, 192]         64\n",
       "│    └─ReLU: 2-22                             [2, 32, 256, 192]         --\n",
       "│    └─Conv2d: 2-23                           [2, 32, 256, 192]         9,248\n",
       "│    └─BatchNorm2d: 2-24                      [2, 32, 256, 192]         64\n",
       "│    └─ReLU: 2-25                             [2, 32, 256, 192]         --\n",
       "├─ConvTranspose2d: 1-11                       [2, 16, 512, 384]         2,064\n",
       "├─Sequential: 1-12                            [2, 16, 512, 384]         --\n",
       "│    └─Conv2d: 2-26                           [2, 16, 512, 384]         3,040\n",
       "│    └─BatchNorm2d: 2-27                      [2, 16, 512, 384]         32\n",
       "│    └─ReLU: 2-28                             [2, 16, 512, 384]         --\n",
       "│    └─Conv2d: 2-29                           [2, 16, 512, 384]         2,320\n",
       "│    └─BatchNorm2d: 2-30                      [2, 16, 512, 384]         32\n",
       "│    └─ReLU: 2-31                             [2, 16, 512, 384]         --\n",
       "├─Conv2d: 1-13                                [2, 1, 512, 384]          17\n",
       "===============================================================================================\n",
       "Total params: 10,265,457\n",
       "Trainable params: 10,265,457\n",
       "Non-trainable params: 0\n",
       "Total mult-adds (G): 48.06\n",
       "===============================================================================================\n",
       "Input size (MB): 4.72\n",
       "Forward/backward pass size (MB): 1789.92\n",
       "Params size (MB): 41.06\n",
       "Estimated Total Size (MB): 1835.70\n",
       "==============================================================================================="
      ]
     },
     "execution_count": 35,
     "metadata": {},
     "output_type": "execute_result"
    }
   ],
   "source": [
    "torchinfo.summary(net, input_size=(BATCH_SIZE, 3, IM_W, IM_H))"
   ]
  },
  {
   "cell_type": "code",
   "execution_count": 53,
   "id": "aea355ef-eced-4019-83e3-8136dc5f74fe",
   "metadata": {
    "tags": []
   },
   "outputs": [
    {
     "name": "stdout",
     "output_type": "stream",
     "text": [
      "Epoch 1 ---------------------\n",
      "Training Set -----\n"
     ]
    },
    {
     "name": "stderr",
     "output_type": "stream",
     "text": [
      "Avg. Loss:  55.2467, Avg. Accuracy:  0.6787: 100%|█████████████████████████████████| 1297/1297 [07:29<00:00,  2.88it/s]\n"
     ]
    },
    {
     "name": "stdout",
     "output_type": "stream",
     "text": [
      "Validation Set -----\n"
     ]
    },
    {
     "name": "stderr",
     "output_type": "stream",
     "text": [
      "Avg. Loss:  67.2501, Avg. Accuracy:  0.7837: 100%|█████████████████████████████████████| 50/50 [00:11<00:00,  4.33it/s]\n"
     ]
    },
    {
     "name": "stdout",
     "output_type": "stream",
     "text": [
      "IoU:  0.5983, Dice:  0.7487, Acc:  0.7837\n",
      "Epoch 2 ---------------------\n",
      "Training Set -----\n"
     ]
    },
    {
     "name": "stderr",
     "output_type": "stream",
     "text": [
      "Avg. Loss:  55.0727, Avg. Accuracy:  0.7855: 100%|█████████████████████████████████| 1297/1297 [07:31<00:00,  2.87it/s]\n"
     ]
    },
    {
     "name": "stdout",
     "output_type": "stream",
     "text": [
      "Validation Set -----\n"
     ]
    },
    {
     "name": "stderr",
     "output_type": "stream",
     "text": [
      "Avg. Loss:  67.2124, Avg. Accuracy:  0.7925: 100%|█████████████████████████████████████| 50/50 [00:11<00:00,  4.32it/s]\n"
     ]
    },
    {
     "name": "stdout",
     "output_type": "stream",
     "text": [
      "IoU:  0.6049, Dice:  0.7538, Acc:  0.7925\n",
      "Epoch 3 ---------------------\n",
      "Training Set -----\n"
     ]
    },
    {
     "name": "stderr",
     "output_type": "stream",
     "text": [
      "Avg. Loss:  55.0197, Avg. Accuracy:  0.8113: 100%|█████████████████████████████████| 1297/1297 [07:29<00:00,  2.89it/s]\n"
     ]
    },
    {
     "name": "stdout",
     "output_type": "stream",
     "text": [
      "Validation Set -----\n"
     ]
    },
    {
     "name": "stderr",
     "output_type": "stream",
     "text": [
      "Avg. Loss:  67.1318, Avg. Accuracy:  0.8088: 100%|█████████████████████████████████████| 50/50 [00:11<00:00,  4.35it/s]\n"
     ]
    },
    {
     "name": "stdout",
     "output_type": "stream",
     "text": [
      "IoU:  0.6266, Dice:  0.7704, Acc:  0.8088\n",
      "Epoch 4 ---------------------\n",
      "Training Set -----\n"
     ]
    },
    {
     "name": "stderr",
     "output_type": "stream",
     "text": [
      "Avg. Loss:  54.9584, Avg. Accuracy:  0.8408: 100%|█████████████████████████████████| 1297/1297 [07:30<00:00,  2.88it/s]\n"
     ]
    },
    {
     "name": "stdout",
     "output_type": "stream",
     "text": [
      "Validation Set -----\n"
     ]
    },
    {
     "name": "stderr",
     "output_type": "stream",
     "text": [
      "Avg. Loss:  66.9963, Avg. Accuracy:  0.8397: 100%|█████████████████████████████████████| 50/50 [00:11<00:00,  4.34it/s]\n"
     ]
    },
    {
     "name": "stdout",
     "output_type": "stream",
     "text": [
      "IoU:  0.6715, Dice:  0.8035, Acc:  0.8397\n",
      "Epoch 5 ---------------------\n",
      "Training Set -----\n"
     ]
    },
    {
     "name": "stderr",
     "output_type": "stream",
     "text": [
      "Avg. Loss:  54.8980, Avg. Accuracy:  0.8752: 100%|█████████████████████████████████| 1297/1297 [07:28<00:00,  2.89it/s]\n"
     ]
    },
    {
     "name": "stdout",
     "output_type": "stream",
     "text": [
      "Validation Set -----\n"
     ]
    },
    {
     "name": "stderr",
     "output_type": "stream",
     "text": [
      "Avg. Loss:  66.8952, Avg. Accuracy:  0.8859: 100%|█████████████████████████████████████| 50/50 [00:11<00:00,  4.33it/s]\n"
     ]
    },
    {
     "name": "stdout",
     "output_type": "stream",
     "text": [
      "IoU:  0.7441, Dice:  0.8533, Acc:  0.8859\n",
      "Epoch 6 ---------------------\n",
      "Training Set -----\n"
     ]
    },
    {
     "name": "stderr",
     "output_type": "stream",
     "text": [
      "Avg. Loss:  54.8475, Avg. Accuracy:  0.9095: 100%|█████████████████████████████████| 1297/1297 [07:30<00:00,  2.88it/s]\n"
     ]
    },
    {
     "name": "stdout",
     "output_type": "stream",
     "text": [
      "Validation Set -----\n"
     ]
    },
    {
     "name": "stderr",
     "output_type": "stream",
     "text": [
      "Avg. Loss:  66.8553, Avg. Accuracy:  0.9154: 100%|█████████████████████████████████████| 50/50 [00:11<00:00,  4.34it/s]\n"
     ]
    },
    {
     "name": "stdout",
     "output_type": "stream",
     "text": [
      "IoU:  0.7965, Dice:  0.8867, Acc:  0.9154\n",
      "Epoch 7 ---------------------\n",
      "Training Set -----\n"
     ]
    },
    {
     "name": "stderr",
     "output_type": "stream",
     "text": [
      "Avg. Loss:  54.8070, Avg. Accuracy:  0.9306: 100%|█████████████████████████████████| 1297/1297 [07:35<00:00,  2.85it/s]\n"
     ]
    },
    {
     "name": "stdout",
     "output_type": "stream",
     "text": [
      "Validation Set -----\n"
     ]
    },
    {
     "name": "stderr",
     "output_type": "stream",
     "text": [
      "Avg. Loss:  66.8345, Avg. Accuracy:  0.9272: 100%|█████████████████████████████████████| 50/50 [00:11<00:00,  4.32it/s]\n"
     ]
    },
    {
     "name": "stdout",
     "output_type": "stream",
     "text": [
      "IoU:  0.8200, Dice:  0.9011, Acc:  0.9272\n",
      "Epoch 8 ---------------------\n",
      "Training Set -----\n"
     ]
    },
    {
     "name": "stderr",
     "output_type": "stream",
     "text": [
      "Avg. Loss:  54.7729, Avg. Accuracy:  0.9396: 100%|█████████████████████████████████| 1297/1297 [07:27<00:00,  2.90it/s]\n"
     ]
    },
    {
     "name": "stdout",
     "output_type": "stream",
     "text": [
      "Validation Set -----\n"
     ]
    },
    {
     "name": "stderr",
     "output_type": "stream",
     "text": [
      "Avg. Loss:  66.8202, Avg. Accuracy:  0.9303: 100%|█████████████████████████████████████| 50/50 [00:11<00:00,  4.34it/s]\n"
     ]
    },
    {
     "name": "stdout",
     "output_type": "stream",
     "text": [
      "IoU:  0.8267, Dice:  0.9051, Acc:  0.9303\n",
      "Epoch 9 ---------------------\n",
      "Training Set -----\n"
     ]
    },
    {
     "name": "stderr",
     "output_type": "stream",
     "text": [
      "Avg. Loss:  54.7448, Avg. Accuracy:  0.9463: 100%|█████████████████████████████████| 1297/1297 [07:28<00:00,  2.89it/s]\n"
     ]
    },
    {
     "name": "stdout",
     "output_type": "stream",
     "text": [
      "Validation Set -----\n"
     ]
    },
    {
     "name": "stderr",
     "output_type": "stream",
     "text": [
      "Avg. Loss:  66.8135, Avg. Accuracy:  0.9308: 100%|█████████████████████████████████████| 50/50 [00:11<00:00,  4.34it/s]\n"
     ]
    },
    {
     "name": "stdout",
     "output_type": "stream",
     "text": [
      "IoU:  0.8270, Dice:  0.9053, Acc:  0.9308\n",
      "Epoch 10 ---------------------\n",
      "Training Set -----\n"
     ]
    },
    {
     "name": "stderr",
     "output_type": "stream",
     "text": [
      "Avg. Loss:  54.7212, Avg. Accuracy:  0.9509: 100%|█████████████████████████████████| 1297/1297 [07:28<00:00,  2.89it/s]\n"
     ]
    },
    {
     "name": "stdout",
     "output_type": "stream",
     "text": [
      "Validation Set -----\n"
     ]
    },
    {
     "name": "stderr",
     "output_type": "stream",
     "text": [
      "Avg. Loss:  66.8072, Avg. Accuracy:  0.9301: 100%|█████████████████████████████████████| 50/50 [00:11<00:00,  4.35it/s]\n"
     ]
    },
    {
     "name": "stdout",
     "output_type": "stream",
     "text": [
      "IoU:  0.8249, Dice:  0.9041, Acc:  0.9301\n",
      "Epoch 11 ---------------------\n",
      "Training Set -----\n"
     ]
    },
    {
     "name": "stderr",
     "output_type": "stream",
     "text": [
      "Avg. Loss:  54.7003, Avg. Accuracy:  0.9544: 100%|█████████████████████████████████| 1297/1297 [07:29<00:00,  2.88it/s]\n"
     ]
    },
    {
     "name": "stdout",
     "output_type": "stream",
     "text": [
      "Validation Set -----\n"
     ]
    },
    {
     "name": "stderr",
     "output_type": "stream",
     "text": [
      "Avg. Loss:  66.7970, Avg. Accuracy:  0.9298: 100%|█████████████████████████████████████| 50/50 [00:11<00:00,  4.34it/s]\n"
     ]
    },
    {
     "name": "stdout",
     "output_type": "stream",
     "text": [
      "IoU:  0.8244, Dice:  0.9037, Acc:  0.9298\n",
      "Epoch 12 ---------------------\n",
      "Training Set -----\n"
     ]
    },
    {
     "name": "stderr",
     "output_type": "stream",
     "text": [
      "Avg. Loss:  54.6810, Avg. Accuracy:  0.9573: 100%|█████████████████████████████████| 1297/1297 [07:28<00:00,  2.89it/s]\n"
     ]
    },
    {
     "name": "stdout",
     "output_type": "stream",
     "text": [
      "Validation Set -----\n"
     ]
    },
    {
     "name": "stderr",
     "output_type": "stream",
     "text": [
      "Avg. Loss:  66.7874, Avg. Accuracy:  0.9296: 100%|█████████████████████████████████████| 50/50 [00:11<00:00,  4.31it/s]\n"
     ]
    },
    {
     "name": "stdout",
     "output_type": "stream",
     "text": [
      "IoU:  0.8242, Dice:  0.9036, Acc:  0.9296\n",
      "Epoch 13 ---------------------\n",
      "Training Set -----\n"
     ]
    },
    {
     "name": "stderr",
     "output_type": "stream",
     "text": [
      "Avg. Loss:  54.6628, Avg. Accuracy:  0.9598: 100%|█████████████████████████████████| 1297/1297 [07:26<00:00,  2.90it/s]\n"
     ]
    },
    {
     "name": "stdout",
     "output_type": "stream",
     "text": [
      "Validation Set -----\n"
     ]
    },
    {
     "name": "stderr",
     "output_type": "stream",
     "text": [
      "Avg. Loss:  66.7812, Avg. Accuracy:  0.9290: 100%|█████████████████████████████████████| 50/50 [00:11<00:00,  4.34it/s]\n"
     ]
    },
    {
     "name": "stdout",
     "output_type": "stream",
     "text": [
      "IoU:  0.8230, Dice:  0.9029, Acc:  0.9290\n",
      "Epoch 14 ---------------------\n",
      "Training Set -----\n"
     ]
    },
    {
     "name": "stderr",
     "output_type": "stream",
     "text": [
      "Avg. Loss:  54.6453, Avg. Accuracy:  0.9621: 100%|█████████████████████████████████| 1297/1297 [07:27<00:00,  2.90it/s]\n"
     ]
    },
    {
     "name": "stdout",
     "output_type": "stream",
     "text": [
      "Validation Set -----\n"
     ]
    },
    {
     "name": "stderr",
     "output_type": "stream",
     "text": [
      "Avg. Loss:  66.7757, Avg. Accuracy:  0.9285: 100%|█████████████████████████████████████| 50/50 [00:11<00:00,  4.34it/s]\n"
     ]
    },
    {
     "name": "stdout",
     "output_type": "stream",
     "text": [
      "IoU:  0.8219, Dice:  0.9022, Acc:  0.9285\n",
      "Epoch 15 ---------------------\n",
      "Training Set -----\n"
     ]
    },
    {
     "name": "stderr",
     "output_type": "stream",
     "text": [
      "Avg. Loss:  54.6285, Avg. Accuracy:  0.9643: 100%|█████████████████████████████████| 1297/1297 [07:27<00:00,  2.90it/s]\n"
     ]
    },
    {
     "name": "stdout",
     "output_type": "stream",
     "text": [
      "Validation Set -----\n"
     ]
    },
    {
     "name": "stderr",
     "output_type": "stream",
     "text": [
      "Avg. Loss:  66.7714, Avg. Accuracy:  0.9277: 100%|█████████████████████████████████████| 50/50 [00:11<00:00,  4.35it/s]\n"
     ]
    },
    {
     "name": "stdout",
     "output_type": "stream",
     "text": [
      "IoU:  0.8204, Dice:  0.9013, Acc:  0.9277\n",
      "Epoch 16 ---------------------\n",
      "Training Set -----\n"
     ]
    },
    {
     "name": "stderr",
     "output_type": "stream",
     "text": [
      "Avg. Loss:  54.6120, Avg. Accuracy:  0.9663: 100%|█████████████████████████████████| 1297/1297 [07:27<00:00,  2.90it/s]\n"
     ]
    },
    {
     "name": "stdout",
     "output_type": "stream",
     "text": [
      "Validation Set -----\n"
     ]
    },
    {
     "name": "stderr",
     "output_type": "stream",
     "text": [
      "Avg. Loss:  66.7683, Avg. Accuracy:  0.9267: 100%|█████████████████████████████████████| 50/50 [00:11<00:00,  4.34it/s]\n"
     ]
    },
    {
     "name": "stdout",
     "output_type": "stream",
     "text": [
      "IoU:  0.8184, Dice:  0.9001, Acc:  0.9267\n",
      "Epoch 17 ---------------------\n",
      "Training Set -----\n"
     ]
    },
    {
     "name": "stderr",
     "output_type": "stream",
     "text": [
      "Avg. Loss:  54.5960, Avg. Accuracy:  0.9681: 100%|█████████████████████████████████| 1297/1297 [07:35<00:00,  2.85it/s]\n"
     ]
    },
    {
     "name": "stdout",
     "output_type": "stream",
     "text": [
      "Validation Set -----\n"
     ]
    },
    {
     "name": "stderr",
     "output_type": "stream",
     "text": [
      "Avg. Loss:  66.7672, Avg. Accuracy:  0.9257: 100%|█████████████████████████████████████| 50/50 [00:11<00:00,  4.33it/s]\n"
     ]
    },
    {
     "name": "stdout",
     "output_type": "stream",
     "text": [
      "IoU:  0.8163, Dice:  0.8989, Acc:  0.9257\n",
      "Epoch 18 ---------------------\n",
      "Training Set -----\n"
     ]
    },
    {
     "name": "stderr",
     "output_type": "stream",
     "text": [
      "Avg. Loss:  54.5804, Avg. Accuracy:  0.9699: 100%|█████████████████████████████████| 1297/1297 [07:30<00:00,  2.88it/s]\n"
     ]
    },
    {
     "name": "stdout",
     "output_type": "stream",
     "text": [
      "Validation Set -----\n"
     ]
    },
    {
     "name": "stderr",
     "output_type": "stream",
     "text": [
      "Avg. Loss:  66.7663, Avg. Accuracy:  0.9248: 100%|█████████████████████████████████████| 50/50 [00:11<00:00,  4.37it/s]\n"
     ]
    },
    {
     "name": "stdout",
     "output_type": "stream",
     "text": [
      "IoU:  0.8147, Dice:  0.8979, Acc:  0.9248\n",
      "Epoch 19 ---------------------\n",
      "Training Set -----\n"
     ]
    },
    {
     "name": "stderr",
     "output_type": "stream",
     "text": [
      "Avg. Loss:  54.5651, Avg. Accuracy:  0.9715: 100%|█████████████████████████████████| 1297/1297 [07:28<00:00,  2.89it/s]\n"
     ]
    },
    {
     "name": "stdout",
     "output_type": "stream",
     "text": [
      "Validation Set -----\n"
     ]
    },
    {
     "name": "stderr",
     "output_type": "stream",
     "text": [
      "Avg. Loss:  66.7663, Avg. Accuracy:  0.9240: 100%|█████████████████████████████████████| 50/50 [00:11<00:00,  4.34it/s]\n"
     ]
    },
    {
     "name": "stdout",
     "output_type": "stream",
     "text": [
      "IoU:  0.8127, Dice:  0.8967, Acc:  0.9240\n",
      "Epoch 20 ---------------------\n",
      "Training Set -----\n"
     ]
    },
    {
     "name": "stderr",
     "output_type": "stream",
     "text": [
      "Avg. Loss:  54.5502, Avg. Accuracy:  0.9730: 100%|█████████████████████████████████| 1297/1297 [07:28<00:00,  2.89it/s]\n"
     ]
    },
    {
     "name": "stdout",
     "output_type": "stream",
     "text": [
      "Validation Set -----\n"
     ]
    },
    {
     "name": "stderr",
     "output_type": "stream",
     "text": [
      "Avg. Loss:  66.7640, Avg. Accuracy:  0.9235: 100%|█████████████████████████████████████| 50/50 [00:11<00:00,  4.32it/s]\n"
     ]
    },
    {
     "name": "stdout",
     "output_type": "stream",
     "text": [
      "IoU:  0.8113, Dice:  0.8958, Acc:  0.9235\n",
      "Epoch 21 ---------------------\n",
      "Training Set -----\n"
     ]
    },
    {
     "name": "stderr",
     "output_type": "stream",
     "text": [
      "Avg. Loss:  54.5355, Avg. Accuracy:  0.9745: 100%|█████████████████████████████████| 1297/1297 [07:27<00:00,  2.90it/s]\n"
     ]
    },
    {
     "name": "stdout",
     "output_type": "stream",
     "text": [
      "Validation Set -----\n"
     ]
    },
    {
     "name": "stderr",
     "output_type": "stream",
     "text": [
      "Avg. Loss:  66.7570, Avg. Accuracy:  0.9237: 100%|█████████████████████████████████████| 50/50 [00:11<00:00,  4.34it/s]\n"
     ]
    },
    {
     "name": "stdout",
     "output_type": "stream",
     "text": [
      "IoU:  0.8115, Dice:  0.8960, Acc:  0.9237\n",
      "Epoch 22 ---------------------\n",
      "Training Set -----\n"
     ]
    },
    {
     "name": "stderr",
     "output_type": "stream",
     "text": [
      "Avg. Loss:  54.5210, Avg. Accuracy:  0.9758: 100%|█████████████████████████████████| 1297/1297 [07:27<00:00,  2.90it/s]\n"
     ]
    },
    {
     "name": "stdout",
     "output_type": "stream",
     "text": [
      "Validation Set -----\n"
     ]
    },
    {
     "name": "stderr",
     "output_type": "stream",
     "text": [
      "Avg. Loss:  66.7499, Avg. Accuracy:  0.9234: 100%|█████████████████████████████████████| 50/50 [00:11<00:00,  4.33it/s]\n"
     ]
    },
    {
     "name": "stdout",
     "output_type": "stream",
     "text": [
      "IoU:  0.8107, Dice:  0.8955, Acc:  0.9234\n",
      "Epoch 23 ---------------------\n",
      "Training Set -----\n"
     ]
    },
    {
     "name": "stderr",
     "output_type": "stream",
     "text": [
      "Avg. Loss:  54.5065, Avg. Accuracy:  0.9770: 100%|█████████████████████████████████| 1297/1297 [07:26<00:00,  2.91it/s]\n"
     ]
    },
    {
     "name": "stdout",
     "output_type": "stream",
     "text": [
      "Validation Set -----\n"
     ]
    },
    {
     "name": "stderr",
     "output_type": "stream",
     "text": [
      "Avg. Loss:  66.7465, Avg. Accuracy:  0.9238: 100%|█████████████████████████████████████| 50/50 [00:11<00:00,  4.35it/s]\n"
     ]
    },
    {
     "name": "stdout",
     "output_type": "stream",
     "text": [
      "IoU:  0.8125, Dice:  0.8965, Acc:  0.9238\n",
      "Epoch 24 ---------------------\n",
      "Training Set -----\n"
     ]
    },
    {
     "name": "stderr",
     "output_type": "stream",
     "text": [
      "Avg. Loss:  54.4929, Avg. Accuracy:  0.9780: 100%|█████████████████████████████████| 1297/1297 [07:26<00:00,  2.90it/s]\n"
     ]
    },
    {
     "name": "stdout",
     "output_type": "stream",
     "text": [
      "Validation Set -----\n"
     ]
    },
    {
     "name": "stderr",
     "output_type": "stream",
     "text": [
      "Avg. Loss:  66.7469, Avg. Accuracy:  0.9230: 100%|█████████████████████████████████████| 50/50 [00:11<00:00,  4.35it/s]\n"
     ]
    },
    {
     "name": "stdout",
     "output_type": "stream",
     "text": [
      "IoU:  0.8119, Dice:  0.8962, Acc:  0.9230\n",
      "Epoch 25 ---------------------\n",
      "Training Set -----\n"
     ]
    },
    {
     "name": "stderr",
     "output_type": "stream",
     "text": [
      "Avg. Loss:  54.4800, Avg. Accuracy:  0.9789: 100%|█████████████████████████████████| 1297/1297 [07:26<00:00,  2.90it/s]\n"
     ]
    },
    {
     "name": "stdout",
     "output_type": "stream",
     "text": [
      "Validation Set -----\n"
     ]
    },
    {
     "name": "stderr",
     "output_type": "stream",
     "text": [
      "Avg. Loss:  66.7430, Avg. Accuracy:  0.9213: 100%|█████████████████████████████████████| 50/50 [00:11<00:00,  4.34it/s]\n"
     ]
    },
    {
     "name": "stdout",
     "output_type": "stream",
     "text": [
      "IoU:  0.8059, Dice:  0.8925, Acc:  0.9213\n",
      "Epoch 26 ---------------------\n",
      "Training Set -----\n"
     ]
    },
    {
     "name": "stderr",
     "output_type": "stream",
     "text": [
      "Avg. Loss:  54.4685, Avg. Accuracy:  0.9795: 100%|█████████████████████████████████| 1297/1297 [07:26<00:00,  2.91it/s]\n"
     ]
    },
    {
     "name": "stdout",
     "output_type": "stream",
     "text": [
      "Validation Set -----\n"
     ]
    },
    {
     "name": "stderr",
     "output_type": "stream",
     "text": [
      "Avg. Loss:  66.7407, Avg. Accuracy:  0.9189: 100%|█████████████████████████████████████| 50/50 [00:11<00:00,  4.34it/s]\n"
     ]
    },
    {
     "name": "stdout",
     "output_type": "stream",
     "text": [
      "IoU:  0.7990, Dice:  0.8882, Acc:  0.9189\n",
      "Epoch 27 ---------------------\n",
      "Training Set -----\n"
     ]
    },
    {
     "name": "stderr",
     "output_type": "stream",
     "text": [
      "Avg. Loss:  54.4559, Avg. Accuracy:  0.9805: 100%|█████████████████████████████████| 1297/1297 [07:28<00:00,  2.89it/s]\n"
     ]
    },
    {
     "name": "stdout",
     "output_type": "stream",
     "text": [
      "Validation Set -----\n"
     ]
    },
    {
     "name": "stderr",
     "output_type": "stream",
     "text": [
      "Avg. Loss:  66.7389, Avg. Accuracy:  0.9184: 100%|█████████████████████████████████████| 50/50 [00:11<00:00,  4.35it/s]\n"
     ]
    },
    {
     "name": "stdout",
     "output_type": "stream",
     "text": [
      "IoU:  0.7971, Dice:  0.8871, Acc:  0.9184\n",
      "Epoch 28 ---------------------\n",
      "Training Set -----\n"
     ]
    },
    {
     "name": "stderr",
     "output_type": "stream",
     "text": [
      "Avg. Loss:  54.4451, Avg. Accuracy:  0.9810: 100%|█████████████████████████████████| 1297/1297 [07:27<00:00,  2.90it/s]\n"
     ]
    },
    {
     "name": "stdout",
     "output_type": "stream",
     "text": [
      "Validation Set -----\n"
     ]
    },
    {
     "name": "stderr",
     "output_type": "stream",
     "text": [
      "Avg. Loss:  66.7450, Avg. Accuracy:  0.9169: 100%|█████████████████████████████████████| 50/50 [00:11<00:00,  4.36it/s]\n"
     ]
    },
    {
     "name": "stdout",
     "output_type": "stream",
     "text": [
      "IoU:  0.7946, Dice:  0.8855, Acc:  0.9169\n",
      "Epoch 29 ---------------------\n",
      "Training Set -----\n"
     ]
    },
    {
     "name": "stderr",
     "output_type": "stream",
     "text": [
      "Avg. Loss:  54.4351, Avg. Accuracy:  0.9814: 100%|█████████████████████████████████| 1297/1297 [07:26<00:00,  2.91it/s]\n"
     ]
    },
    {
     "name": "stdout",
     "output_type": "stream",
     "text": [
      "Validation Set -----\n"
     ]
    },
    {
     "name": "stderr",
     "output_type": "stream",
     "text": [
      "Avg. Loss:  66.7290, Avg. Accuracy:  0.9189: 100%|█████████████████████████████████████| 50/50 [00:11<00:00,  4.35it/s]\n"
     ]
    },
    {
     "name": "stdout",
     "output_type": "stream",
     "text": [
      "IoU:  0.7988, Dice:  0.8881, Acc:  0.9189\n",
      "Epoch 30 ---------------------\n",
      "Training Set -----\n"
     ]
    },
    {
     "name": "stderr",
     "output_type": "stream",
     "text": [
      "Avg. Loss:  54.4246, Avg. Accuracy:  0.9820: 100%|█████████████████████████████████| 1297/1297 [07:26<00:00,  2.91it/s]\n"
     ]
    },
    {
     "name": "stdout",
     "output_type": "stream",
     "text": [
      "Validation Set -----\n"
     ]
    },
    {
     "name": "stderr",
     "output_type": "stream",
     "text": [
      "Avg. Loss:  66.7279, Avg. Accuracy:  0.9182: 100%|█████████████████████████████████████| 50/50 [00:11<00:00,  4.35it/s]\n"
     ]
    },
    {
     "name": "stdout",
     "output_type": "stream",
     "text": [
      "IoU:  0.7974, Dice:  0.8873, Acc:  0.9182\n",
      "Epoch 31 ---------------------\n",
      "Training Set -----\n"
     ]
    },
    {
     "name": "stderr",
     "output_type": "stream",
     "text": [
      "Avg. Loss:  54.4173, Avg. Accuracy:  0.9816: 100%|█████████████████████████████████| 1297/1297 [07:26<00:00,  2.90it/s]\n"
     ]
    },
    {
     "name": "stdout",
     "output_type": "stream",
     "text": [
      "Validation Set -----\n"
     ]
    },
    {
     "name": "stderr",
     "output_type": "stream",
     "text": [
      "Avg. Loss:  66.7446, Avg. Accuracy:  0.9108: 100%|█████████████████████████████████████| 50/50 [00:11<00:00,  4.33it/s]\n"
     ]
    },
    {
     "name": "stdout",
     "output_type": "stream",
     "text": [
      "IoU:  0.7758, Dice:  0.8737, Acc:  0.9108\n",
      "Epoch 32 ---------------------\n",
      "Training Set -----\n"
     ]
    },
    {
     "name": "stderr",
     "output_type": "stream",
     "text": [
      "Avg. Loss:  54.4077, Avg. Accuracy:  0.9822: 100%|█████████████████████████████████| 1297/1297 [07:26<00:00,  2.90it/s]\n"
     ]
    },
    {
     "name": "stdout",
     "output_type": "stream",
     "text": [
      "Validation Set -----\n"
     ]
    },
    {
     "name": "stderr",
     "output_type": "stream",
     "text": [
      "Avg. Loss:  66.7281, Avg. Accuracy:  0.9153: 100%|█████████████████████████████████████| 50/50 [00:11<00:00,  4.35it/s]\n"
     ]
    },
    {
     "name": "stdout",
     "output_type": "stream",
     "text": [
      "IoU:  0.7890, Dice:  0.8820, Acc:  0.9153\n",
      "Epoch 33 ---------------------\n",
      "Training Set -----\n"
     ]
    },
    {
     "name": "stderr",
     "output_type": "stream",
     "text": [
      "Avg. Loss:  54.3971, Avg. Accuracy:  0.9832: 100%|█████████████████████████████████| 1297/1297 [07:26<00:00,  2.90it/s]\n"
     ]
    },
    {
     "name": "stdout",
     "output_type": "stream",
     "text": [
      "Validation Set -----\n"
     ]
    },
    {
     "name": "stderr",
     "output_type": "stream",
     "text": [
      "Avg. Loss:  66.7340, Avg. Accuracy:  0.9122: 100%|█████████████████████████████████████| 50/50 [00:11<00:00,  4.34it/s]\n"
     ]
    },
    {
     "name": "stdout",
     "output_type": "stream",
     "text": [
      "IoU:  0.7785, Dice:  0.8755, Acc:  0.9122\n",
      "Epoch 34 ---------------------\n",
      "Training Set -----\n"
     ]
    },
    {
     "name": "stderr",
     "output_type": "stream",
     "text": [
      "Avg. Loss:  54.3886, Avg. Accuracy:  0.9835: 100%|█████████████████████████████████| 1297/1297 [07:26<00:00,  2.90it/s]\n"
     ]
    },
    {
     "name": "stdout",
     "output_type": "stream",
     "text": [
      "Validation Set -----\n"
     ]
    },
    {
     "name": "stderr",
     "output_type": "stream",
     "text": [
      "Avg. Loss:  66.7439, Avg. Accuracy:  0.9081: 100%|█████████████████████████████████████| 50/50 [00:11<00:00,  4.32it/s]\n"
     ]
    },
    {
     "name": "stdout",
     "output_type": "stream",
     "text": [
      "IoU:  0.7667, Dice:  0.8679, Acc:  0.9081\n",
      "Epoch 35 ---------------------\n",
      "Training Set -----\n"
     ]
    },
    {
     "name": "stderr",
     "output_type": "stream",
     "text": [
      "Avg. Loss:  54.3823, Avg. Accuracy:  0.9832: 100%|█████████████████████████████████| 1297/1297 [07:28<00:00,  2.89it/s]\n"
     ]
    },
    {
     "name": "stdout",
     "output_type": "stream",
     "text": [
      "Validation Set -----\n"
     ]
    },
    {
     "name": "stderr",
     "output_type": "stream",
     "text": [
      "Avg. Loss:  66.7465, Avg. Accuracy:  0.9063: 100%|█████████████████████████████████████| 50/50 [00:11<00:00,  4.32it/s]\n"
     ]
    },
    {
     "name": "stdout",
     "output_type": "stream",
     "text": [
      "IoU:  0.7622, Dice:  0.8650, Acc:  0.9063\n",
      "Epoch 36 ---------------------\n",
      "Training Set -----\n"
     ]
    },
    {
     "name": "stderr",
     "output_type": "stream",
     "text": [
      "Avg. Loss:  54.3730, Avg. Accuracy:  0.9840: 100%|█████████████████████████████████| 1297/1297 [07:27<00:00,  2.90it/s]\n"
     ]
    },
    {
     "name": "stdout",
     "output_type": "stream",
     "text": [
      "Validation Set -----\n"
     ]
    },
    {
     "name": "stderr",
     "output_type": "stream",
     "text": [
      "Avg. Loss:  66.7592, Avg. Accuracy:  0.9028: 100%|█████████████████████████████████████| 50/50 [00:11<00:00,  4.32it/s]\n"
     ]
    },
    {
     "name": "stdout",
     "output_type": "stream",
     "text": [
      "IoU:  0.7529, Dice:  0.8591, Acc:  0.9028\n",
      "Epoch 37 ---------------------\n",
      "Training Set -----\n"
     ]
    },
    {
     "name": "stderr",
     "output_type": "stream",
     "text": [
      "Avg. Loss:  54.3646, Avg. Accuracy:  0.9846: 100%|█████████████████████████████████| 1297/1297 [07:26<00:00,  2.91it/s]\n"
     ]
    },
    {
     "name": "stdout",
     "output_type": "stream",
     "text": [
      "Validation Set -----\n"
     ]
    },
    {
     "name": "stderr",
     "output_type": "stream",
     "text": [
      "Avg. Loss:  66.7284, Avg. Accuracy:  0.9098: 100%|█████████████████████████████████████| 50/50 [00:11<00:00,  4.35it/s]\n"
     ]
    },
    {
     "name": "stdout",
     "output_type": "stream",
     "text": [
      "IoU:  0.7720, Dice:  0.8713, Acc:  0.9098\n",
      "Epoch 38 ---------------------\n",
      "Training Set -----\n"
     ]
    },
    {
     "name": "stderr",
     "output_type": "stream",
     "text": [
      "Avg. Loss:  54.3570, Avg. Accuracy:  0.9850: 100%|█████████████████████████████████| 1297/1297 [07:26<00:00,  2.91it/s]\n"
     ]
    },
    {
     "name": "stdout",
     "output_type": "stream",
     "text": [
      "Validation Set -----\n"
     ]
    },
    {
     "name": "stderr",
     "output_type": "stream",
     "text": [
      "Avg. Loss:  66.7050, Avg. Accuracy:  0.9152: 100%|█████████████████████████████████████| 50/50 [00:11<00:00,  4.35it/s]\n"
     ]
    },
    {
     "name": "stdout",
     "output_type": "stream",
     "text": [
      "IoU:  0.7854, Dice:  0.8798, Acc:  0.9152\n",
      "Epoch 39 ---------------------\n",
      "Training Set -----\n"
     ]
    },
    {
     "name": "stderr",
     "output_type": "stream",
     "text": [
      "Avg. Loss:  54.3504, Avg. Accuracy:  0.9851: 100%|█████████████████████████████████| 1297/1297 [07:26<00:00,  2.91it/s]\n"
     ]
    },
    {
     "name": "stdout",
     "output_type": "stream",
     "text": [
      "Validation Set -----\n"
     ]
    },
    {
     "name": "stderr",
     "output_type": "stream",
     "text": [
      "Avg. Loss:  66.7024, Avg. Accuracy:  0.9149: 100%|█████████████████████████████████████| 50/50 [00:11<00:00,  4.30it/s]\n"
     ]
    },
    {
     "name": "stdout",
     "output_type": "stream",
     "text": [
      "IoU:  0.7850, Dice:  0.8796, Acc:  0.9149\n",
      "Epoch 40 ---------------------\n",
      "Training Set -----\n"
     ]
    },
    {
     "name": "stderr",
     "output_type": "stream",
     "text": [
      "Avg. Loss:  54.3438, Avg. Accuracy:  0.9853: 100%|█████████████████████████████████| 1297/1297 [07:26<00:00,  2.91it/s]\n"
     ]
    },
    {
     "name": "stdout",
     "output_type": "stream",
     "text": [
      "Validation Set -----\n"
     ]
    },
    {
     "name": "stderr",
     "output_type": "stream",
     "text": [
      "Avg. Loss:  66.7228, Avg. Accuracy:  0.9111: 100%|█████████████████████████████████████| 50/50 [00:11<00:00,  4.34it/s]\n"
     ]
    },
    {
     "name": "stdout",
     "output_type": "stream",
     "text": [
      "IoU:  0.7758, Dice:  0.8738, Acc:  0.9111\n",
      "Epoch 41 ---------------------\n",
      "Training Set -----\n"
     ]
    },
    {
     "name": "stderr",
     "output_type": "stream",
     "text": [
      "Avg. Loss:  54.3374, Avg. Accuracy:  0.9856: 100%|█████████████████████████████████| 1297/1297 [07:26<00:00,  2.91it/s]\n"
     ]
    },
    {
     "name": "stdout",
     "output_type": "stream",
     "text": [
      "Validation Set -----\n"
     ]
    },
    {
     "name": "stderr",
     "output_type": "stream",
     "text": [
      "Avg. Loss:  66.6912, Avg. Accuracy:  0.9174: 100%|█████████████████████████████████████| 50/50 [00:11<00:00,  4.35it/s]\n"
     ]
    },
    {
     "name": "stdout",
     "output_type": "stream",
     "text": [
      "IoU:  0.7931, Dice:  0.8846, Acc:  0.9174\n",
      "Epoch 42 ---------------------\n",
      "Training Set -----\n"
     ]
    },
    {
     "name": "stderr",
     "output_type": "stream",
     "text": [
      "Avg. Loss:  54.3302, Avg. Accuracy:  0.9861: 100%|█████████████████████████████████| 1297/1297 [07:25<00:00,  2.91it/s]\n"
     ]
    },
    {
     "name": "stdout",
     "output_type": "stream",
     "text": [
      "Validation Set -----\n"
     ]
    },
    {
     "name": "stderr",
     "output_type": "stream",
     "text": [
      "Avg. Loss:  66.7084, Avg. Accuracy:  0.9129: 100%|█████████████████████████████████████| 50/50 [00:11<00:00,  4.35it/s]\n"
     ]
    },
    {
     "name": "stdout",
     "output_type": "stream",
     "text": [
      "IoU:  0.7796, Dice:  0.8761, Acc:  0.9129\n",
      "Epoch 43 ---------------------\n",
      "Training Set -----\n"
     ]
    },
    {
     "name": "stderr",
     "output_type": "stream",
     "text": [
      "Avg. Loss:  54.3244, Avg. Accuracy:  0.9862: 100%|█████████████████████████████████| 1297/1297 [07:27<00:00,  2.90it/s]\n"
     ]
    },
    {
     "name": "stdout",
     "output_type": "stream",
     "text": [
      "Validation Set -----\n"
     ]
    },
    {
     "name": "stderr",
     "output_type": "stream",
     "text": [
      "Avg. Loss:  66.6863, Avg. Accuracy:  0.9194: 100%|█████████████████████████████████████| 50/50 [00:11<00:00,  4.34it/s]\n"
     ]
    },
    {
     "name": "stdout",
     "output_type": "stream",
     "text": [
      "IoU:  0.7997, Dice:  0.8887, Acc:  0.9194\n",
      "Epoch 44 ---------------------\n",
      "Training Set -----\n"
     ]
    },
    {
     "name": "stderr",
     "output_type": "stream",
     "text": [
      "Avg. Loss:  54.3213, Avg. Accuracy:  0.9857: 100%|█████████████████████████████████| 1297/1297 [07:27<00:00,  2.90it/s]\n"
     ]
    },
    {
     "name": "stdout",
     "output_type": "stream",
     "text": [
      "Validation Set -----\n"
     ]
    },
    {
     "name": "stderr",
     "output_type": "stream",
     "text": [
      "Avg. Loss:  66.6850, Avg. Accuracy:  0.9193: 100%|█████████████████████████████████████| 50/50 [00:11<00:00,  4.34it/s]\n"
     ]
    },
    {
     "name": "stdout",
     "output_type": "stream",
     "text": [
      "IoU:  0.7979, Dice:  0.8876, Acc:  0.9193\n",
      "Epoch 45 ---------------------\n",
      "Training Set -----\n"
     ]
    },
    {
     "name": "stderr",
     "output_type": "stream",
     "text": [
      "Avg. Loss:  54.3147, Avg. Accuracy:  0.9863: 100%|█████████████████████████████████| 1297/1297 [07:25<00:00,  2.91it/s]\n"
     ]
    },
    {
     "name": "stdout",
     "output_type": "stream",
     "text": [
      "Validation Set -----\n"
     ]
    },
    {
     "name": "stderr",
     "output_type": "stream",
     "text": [
      "Avg. Loss:  66.6682, Avg. Accuracy:  0.9217: 100%|█████████████████████████████████████| 50/50 [00:11<00:00,  4.35it/s]\n"
     ]
    },
    {
     "name": "stdout",
     "output_type": "stream",
     "text": [
      "IoU:  0.8028, Dice:  0.8906, Acc:  0.9217\n",
      "Epoch 46 ---------------------\n",
      "Training Set -----\n"
     ]
    },
    {
     "name": "stderr",
     "output_type": "stream",
     "text": [
      "Avg. Loss:  54.3073, Avg. Accuracy:  0.9871: 100%|█████████████████████████████████| 1297/1297 [07:25<00:00,  2.91it/s]\n"
     ]
    },
    {
     "name": "stdout",
     "output_type": "stream",
     "text": [
      "Validation Set -----\n"
     ]
    },
    {
     "name": "stderr",
     "output_type": "stream",
     "text": [
      "Avg. Loss:  66.6582, Avg. Accuracy:  0.9236: 100%|█████████████████████████████████████| 50/50 [00:11<00:00,  4.35it/s]\n"
     ]
    },
    {
     "name": "stdout",
     "output_type": "stream",
     "text": [
      "IoU:  0.8081, Dice:  0.8939, Acc:  0.9236\n",
      "Epoch 47 ---------------------\n",
      "Training Set -----\n"
     ]
    },
    {
     "name": "stderr",
     "output_type": "stream",
     "text": [
      "Avg. Loss:  54.3044, Avg. Accuracy:  0.9866: 100%|█████████████████████████████████| 1297/1297 [07:26<00:00,  2.91it/s]\n"
     ]
    },
    {
     "name": "stdout",
     "output_type": "stream",
     "text": [
      "Validation Set -----\n"
     ]
    },
    {
     "name": "stderr",
     "output_type": "stream",
     "text": [
      "Avg. Loss:  66.6504, Avg. Accuracy:  0.9257: 100%|█████████████████████████████████████| 50/50 [00:11<00:00,  4.35it/s]\n"
     ]
    },
    {
     "name": "stdout",
     "output_type": "stream",
     "text": [
      "IoU:  0.8139, Dice:  0.8974, Acc:  0.9257\n",
      "Epoch 48 ---------------------\n",
      "Training Set -----\n"
     ]
    },
    {
     "name": "stderr",
     "output_type": "stream",
     "text": [
      "Avg. Loss:  54.2963, Avg. Accuracy:  0.9874: 100%|█████████████████████████████████| 1297/1297 [07:26<00:00,  2.91it/s]\n"
     ]
    },
    {
     "name": "stdout",
     "output_type": "stream",
     "text": [
      "Validation Set -----\n"
     ]
    },
    {
     "name": "stderr",
     "output_type": "stream",
     "text": [
      "Avg. Loss:  66.6671, Avg. Accuracy:  0.9273: 100%|█████████████████████████████████████| 50/50 [00:11<00:00,  4.31it/s]\n"
     ]
    },
    {
     "name": "stdout",
     "output_type": "stream",
     "text": [
      "IoU:  0.8207, Dice:  0.9015, Acc:  0.9273\n",
      "Epoch 49 ---------------------\n",
      "Training Set -----\n"
     ]
    },
    {
     "name": "stderr",
     "output_type": "stream",
     "text": [
      "Avg. Loss:  54.2903, Avg. Accuracy:  0.9872: 100%|█████████████████████████████████| 1297/1297 [07:25<00:00,  2.91it/s]\n"
     ]
    },
    {
     "name": "stdout",
     "output_type": "stream",
     "text": [
      "Validation Set -----\n"
     ]
    },
    {
     "name": "stderr",
     "output_type": "stream",
     "text": [
      "Avg. Loss:  66.6813, Avg. Accuracy:  0.9216: 100%|█████████████████████████████████████| 50/50 [00:11<00:00,  4.35it/s]\n"
     ]
    },
    {
     "name": "stdout",
     "output_type": "stream",
     "text": [
      "IoU:  0.8029, Dice:  0.8907, Acc:  0.9216\n",
      "Epoch 50 ---------------------\n",
      "Training Set -----\n"
     ]
    },
    {
     "name": "stderr",
     "output_type": "stream",
     "text": [
      "Avg. Loss:  54.2845, Avg. Accuracy:  0.9875: 100%|█████████████████████████████████| 1297/1297 [07:25<00:00,  2.91it/s]\n"
     ]
    },
    {
     "name": "stdout",
     "output_type": "stream",
     "text": [
      "Validation Set -----\n"
     ]
    },
    {
     "name": "stderr",
     "output_type": "stream",
     "text": [
      "Avg. Loss:  66.6717, Avg. Accuracy:  0.9228: 100%|█████████████████████████████████████| 50/50 [00:11<00:00,  4.35it/s]\n"
     ]
    },
    {
     "name": "stdout",
     "output_type": "stream",
     "text": [
      "IoU:  0.8047, Dice:  0.8918, Acc:  0.9228\n",
      "Epoch 51 ---------------------\n",
      "Training Set -----\n"
     ]
    },
    {
     "name": "stderr",
     "output_type": "stream",
     "text": [
      "Avg. Loss:  54.2798, Avg. Accuracy:  0.9878: 100%|█████████████████████████████████| 1297/1297 [07:26<00:00,  2.90it/s]\n"
     ]
    },
    {
     "name": "stdout",
     "output_type": "stream",
     "text": [
      "Validation Set -----\n"
     ]
    },
    {
     "name": "stderr",
     "output_type": "stream",
     "text": [
      "Avg. Loss:  66.6771, Avg. Accuracy:  0.9234: 100%|█████████████████████████████████████| 50/50 [00:11<00:00,  4.37it/s]\n"
     ]
    },
    {
     "name": "stdout",
     "output_type": "stream",
     "text": [
      "IoU:  0.8107, Dice:  0.8955, Acc:  0.9234\n",
      "Epoch 52 ---------------------\n",
      "Training Set -----\n"
     ]
    },
    {
     "name": "stderr",
     "output_type": "stream",
     "text": [
      "Avg. Loss:  54.2767, Avg. Accuracy:  0.9876: 100%|█████████████████████████████████| 1297/1297 [07:26<00:00,  2.90it/s]\n"
     ]
    },
    {
     "name": "stdout",
     "output_type": "stream",
     "text": [
      "Validation Set -----\n"
     ]
    },
    {
     "name": "stderr",
     "output_type": "stream",
     "text": [
      "Avg. Loss:  66.6616, Avg. Accuracy:  0.9226: 100%|█████████████████████████████████████| 50/50 [00:11<00:00,  4.32it/s]\n"
     ]
    },
    {
     "name": "stdout",
     "output_type": "stream",
     "text": [
      "IoU:  0.8100, Dice:  0.8950, Acc:  0.9226\n",
      "Epoch 53 ---------------------\n",
      "Training Set -----\n"
     ]
    },
    {
     "name": "stderr",
     "output_type": "stream",
     "text": [
      "Avg. Loss:  54.2764, Avg. Accuracy:  0.9869: 100%|█████████████████████████████████| 1297/1297 [07:25<00:00,  2.91it/s]\n"
     ]
    },
    {
     "name": "stdout",
     "output_type": "stream",
     "text": [
      "Validation Set -----\n"
     ]
    },
    {
     "name": "stderr",
     "output_type": "stream",
     "text": [
      "Avg. Loss:  66.6906, Avg. Accuracy:  0.9184: 100%|█████████████████████████████████████| 50/50 [00:11<00:00,  4.34it/s]\n"
     ]
    },
    {
     "name": "stdout",
     "output_type": "stream",
     "text": [
      "IoU:  0.7937, Dice:  0.8850, Acc:  0.9184\n",
      "Epoch 54 ---------------------\n",
      "Training Set -----\n"
     ]
    },
    {
     "name": "stderr",
     "output_type": "stream",
     "text": [
      "Avg. Loss:  54.2715, Avg. Accuracy:  0.9874: 100%|█████████████████████████████████| 1297/1297 [07:25<00:00,  2.91it/s]\n"
     ]
    },
    {
     "name": "stdout",
     "output_type": "stream",
     "text": [
      "Validation Set -----\n"
     ]
    },
    {
     "name": "stderr",
     "output_type": "stream",
     "text": [
      "Avg. Loss:  66.7083, Avg. Accuracy:  0.9156: 100%|█████████████████████████████████████| 50/50 [00:11<00:00,  4.35it/s]\n"
     ]
    },
    {
     "name": "stdout",
     "output_type": "stream",
     "text": [
      "IoU:  0.7861, Dice:  0.8803, Acc:  0.9156\n",
      "Epoch 55 ---------------------\n",
      "Training Set -----\n"
     ]
    },
    {
     "name": "stderr",
     "output_type": "stream",
     "text": [
      "Avg. Loss:  54.2670, Avg. Accuracy:  0.9879: 100%|█████████████████████████████████| 1297/1297 [07:25<00:00,  2.91it/s]\n"
     ]
    },
    {
     "name": "stdout",
     "output_type": "stream",
     "text": [
      "Validation Set -----\n"
     ]
    },
    {
     "name": "stderr",
     "output_type": "stream",
     "text": [
      "Avg. Loss:  66.6875, Avg. Accuracy:  0.9197: 100%|█████████████████████████████████████| 50/50 [00:11<00:00,  4.36it/s]\n"
     ]
    },
    {
     "name": "stdout",
     "output_type": "stream",
     "text": [
      "IoU:  0.7969, Dice:  0.8870, Acc:  0.9197\n",
      "Epoch 56 ---------------------\n",
      "Training Set -----\n"
     ]
    },
    {
     "name": "stderr",
     "output_type": "stream",
     "text": [
      "Avg. Loss:  54.2620, Avg. Accuracy:  0.9884: 100%|█████████████████████████████████| 1297/1297 [07:25<00:00,  2.91it/s]\n"
     ]
    },
    {
     "name": "stdout",
     "output_type": "stream",
     "text": [
      "Validation Set -----\n"
     ]
    },
    {
     "name": "stderr",
     "output_type": "stream",
     "text": [
      "Avg. Loss:  66.6829, Avg. Accuracy:  0.9220: 100%|█████████████████████████████████████| 50/50 [00:11<00:00,  4.35it/s]\n"
     ]
    },
    {
     "name": "stdout",
     "output_type": "stream",
     "text": [
      "IoU:  0.8033, Dice:  0.8909, Acc:  0.9220\n",
      "Epoch 57 ---------------------\n",
      "Training Set -----\n"
     ]
    },
    {
     "name": "stderr",
     "output_type": "stream",
     "text": [
      "Avg. Loss:  54.2590, Avg. Accuracy:  0.9886: 100%|█████████████████████████████████| 1297/1297 [07:25<00:00,  2.91it/s]\n"
     ]
    },
    {
     "name": "stdout",
     "output_type": "stream",
     "text": [
      "Validation Set -----\n"
     ]
    },
    {
     "name": "stderr",
     "output_type": "stream",
     "text": [
      "Avg. Loss:  66.6909, Avg. Accuracy:  0.9218: 100%|█████████████████████████████████████| 50/50 [00:11<00:00,  4.35it/s]\n"
     ]
    },
    {
     "name": "stdout",
     "output_type": "stream",
     "text": [
      "IoU:  0.8033, Dice:  0.8909, Acc:  0.9218\n",
      "Epoch 58 ---------------------\n",
      "Training Set -----\n"
     ]
    },
    {
     "name": "stderr",
     "output_type": "stream",
     "text": [
      "Avg. Loss:  54.2582, Avg. Accuracy:  0.9882: 100%|█████████████████████████████████| 1297/1297 [07:25<00:00,  2.91it/s]\n"
     ]
    },
    {
     "name": "stdout",
     "output_type": "stream",
     "text": [
      "Validation Set -----\n"
     ]
    },
    {
     "name": "stderr",
     "output_type": "stream",
     "text": [
      "Avg. Loss:  66.7188, Avg. Accuracy:  0.9160: 100%|█████████████████████████████████████| 50/50 [00:11<00:00,  4.34it/s]\n"
     ]
    },
    {
     "name": "stdout",
     "output_type": "stream",
     "text": [
      "IoU:  0.7865, Dice:  0.8805, Acc:  0.9160\n",
      "Epoch 59 ---------------------\n",
      "Training Set -----\n"
     ]
    },
    {
     "name": "stderr",
     "output_type": "stream",
     "text": [
      "Avg. Loss:  54.2577, Avg. Accuracy:  0.9877: 100%|█████████████████████████████████| 1297/1297 [07:27<00:00,  2.90it/s]\n"
     ]
    },
    {
     "name": "stdout",
     "output_type": "stream",
     "text": [
      "Validation Set -----\n"
     ]
    },
    {
     "name": "stderr",
     "output_type": "stream",
     "text": [
      "Avg. Loss:  66.6967, Avg. Accuracy:  0.9197: 100%|█████████████████████████████████████| 50/50 [00:11<00:00,  4.35it/s]\n"
     ]
    },
    {
     "name": "stdout",
     "output_type": "stream",
     "text": [
      "IoU:  0.7984, Dice:  0.8879, Acc:  0.9197\n",
      "Epoch 60 ---------------------\n",
      "Training Set -----\n"
     ]
    },
    {
     "name": "stderr",
     "output_type": "stream",
     "text": [
      "Avg. Loss:  54.2522, Avg. Accuracy:  0.9886: 100%|█████████████████████████████████| 1297/1297 [07:26<00:00,  2.91it/s]\n"
     ]
    },
    {
     "name": "stdout",
     "output_type": "stream",
     "text": [
      "Validation Set -----\n"
     ]
    },
    {
     "name": "stderr",
     "output_type": "stream",
     "text": [
      "Avg. Loss:  66.6818, Avg. Accuracy:  0.9218: 100%|█████████████████████████████████████| 50/50 [00:11<00:00,  4.32it/s]\n"
     ]
    },
    {
     "name": "stdout",
     "output_type": "stream",
     "text": [
      "IoU:  0.8028, Dice:  0.8906, Acc:  0.9218\n",
      "Epoch 61 ---------------------\n",
      "Training Set -----\n"
     ]
    },
    {
     "name": "stderr",
     "output_type": "stream",
     "text": [
      "Avg. Loss:  54.2496, Avg. Accuracy:  0.9887: 100%|█████████████████████████████████| 1297/1297 [07:25<00:00,  2.91it/s]\n"
     ]
    },
    {
     "name": "stdout",
     "output_type": "stream",
     "text": [
      "Validation Set -----\n"
     ]
    },
    {
     "name": "stderr",
     "output_type": "stream",
     "text": [
      "Avg. Loss:  66.6676, Avg. Accuracy:  0.9243: 100%|█████████████████████████████████████| 50/50 [00:11<00:00,  4.35it/s]\n"
     ]
    },
    {
     "name": "stdout",
     "output_type": "stream",
     "text": [
      "IoU:  0.8081, Dice:  0.8939, Acc:  0.9243\n",
      "Epoch 62 ---------------------\n",
      "Training Set -----\n"
     ]
    },
    {
     "name": "stderr",
     "output_type": "stream",
     "text": [
      "Avg. Loss:  54.2494, Avg. Accuracy:  0.9884: 100%|█████████████████████████████████| 1297/1297 [07:25<00:00,  2.91it/s]\n"
     ]
    },
    {
     "name": "stdout",
     "output_type": "stream",
     "text": [
      "Validation Set -----\n"
     ]
    },
    {
     "name": "stderr",
     "output_type": "stream",
     "text": [
      "Avg. Loss:  66.7446, Avg. Accuracy:  0.9126: 100%|█████████████████████████████████████| 50/50 [00:11<00:00,  4.31it/s]\n"
     ]
    },
    {
     "name": "stdout",
     "output_type": "stream",
     "text": [
      "IoU:  0.7761, Dice:  0.8740, Acc:  0.9126\n",
      "Epoch 63 ---------------------\n",
      "Training Set -----\n"
     ]
    },
    {
     "name": "stderr",
     "output_type": "stream",
     "text": [
      "Avg. Loss:  54.2461, Avg. Accuracy:  0.9887: 100%|█████████████████████████████████| 1297/1297 [07:25<00:00,  2.91it/s]\n"
     ]
    },
    {
     "name": "stdout",
     "output_type": "stream",
     "text": [
      "Validation Set -----\n"
     ]
    },
    {
     "name": "stderr",
     "output_type": "stream",
     "text": [
      "Avg. Loss:  66.7042, Avg. Accuracy:  0.9196: 100%|█████████████████████████████████████| 50/50 [00:11<00:00,  4.35it/s]\n"
     ]
    },
    {
     "name": "stdout",
     "output_type": "stream",
     "text": [
      "IoU:  0.7954, Dice:  0.8861, Acc:  0.9196\n",
      "Epoch 64 ---------------------\n",
      "Training Set -----\n"
     ]
    },
    {
     "name": "stderr",
     "output_type": "stream",
     "text": [
      "Avg. Loss:  54.2451, Avg. Accuracy:  0.9885: 100%|█████████████████████████████████| 1297/1297 [07:25<00:00,  2.91it/s]\n"
     ]
    },
    {
     "name": "stdout",
     "output_type": "stream",
     "text": [
      "Validation Set -----\n"
     ]
    },
    {
     "name": "stderr",
     "output_type": "stream",
     "text": [
      "Avg. Loss:  66.8229, Avg. Accuracy:  0.8995: 100%|█████████████████████████████████████| 50/50 [00:11<00:00,  4.35it/s]\n"
     ]
    },
    {
     "name": "stdout",
     "output_type": "stream",
     "text": [
      "IoU:  0.7424, Dice:  0.8521, Acc:  0.8995\n",
      "Epoch 65 ---------------------\n",
      "Training Set -----\n"
     ]
    },
    {
     "name": "stderr",
     "output_type": "stream",
     "text": [
      "Avg. Loss:  54.2461, Avg. Accuracy:  0.9878: 100%|█████████████████████████████████| 1297/1297 [07:25<00:00,  2.91it/s]\n"
     ]
    },
    {
     "name": "stdout",
     "output_type": "stream",
     "text": [
      "Validation Set -----\n"
     ]
    },
    {
     "name": "stderr",
     "output_type": "stream",
     "text": [
      "Avg. Loss:  66.7110, Avg. Accuracy:  0.9184: 100%|█████████████████████████████████████| 50/50 [00:11<00:00,  4.35it/s]\n"
     ]
    },
    {
     "name": "stdout",
     "output_type": "stream",
     "text": [
      "IoU:  0.7922, Dice:  0.8841, Acc:  0.9184\n",
      "Epoch 66 ---------------------\n",
      "Training Set -----\n"
     ]
    },
    {
     "name": "stderr",
     "output_type": "stream",
     "text": [
      "Avg. Loss:  54.2423, Avg. Accuracy:  0.9885: 100%|█████████████████████████████████| 1297/1297 [07:27<00:00,  2.90it/s]\n"
     ]
    },
    {
     "name": "stdout",
     "output_type": "stream",
     "text": [
      "Validation Set -----\n"
     ]
    },
    {
     "name": "stderr",
     "output_type": "stream",
     "text": [
      "Avg. Loss:  66.7666, Avg. Accuracy:  0.9082: 100%|█████████████████████████████████████| 50/50 [00:11<00:00,  4.35it/s]\n"
     ]
    },
    {
     "name": "stdout",
     "output_type": "stream",
     "text": [
      "IoU:  0.7657, Dice:  0.8673, Acc:  0.9082\n",
      "Epoch 67 ---------------------\n",
      "Training Set -----\n"
     ]
    },
    {
     "name": "stderr",
     "output_type": "stream",
     "text": [
      "Avg. Loss:  54.2385, Avg. Accuracy:  0.9891: 100%|█████████████████████████████████| 1297/1297 [07:27<00:00,  2.90it/s]\n"
     ]
    },
    {
     "name": "stdout",
     "output_type": "stream",
     "text": [
      "Validation Set -----\n"
     ]
    },
    {
     "name": "stderr",
     "output_type": "stream",
     "text": [
      "Avg. Loss:  66.7634, Avg. Accuracy:  0.9094: 100%|█████████████████████████████████████| 50/50 [00:11<00:00,  4.34it/s]\n"
     ]
    },
    {
     "name": "stdout",
     "output_type": "stream",
     "text": [
      "IoU:  0.7685, Dice:  0.8691, Acc:  0.9094\n",
      "Epoch 68 ---------------------\n",
      "Training Set -----\n"
     ]
    },
    {
     "name": "stderr",
     "output_type": "stream",
     "text": [
      "Avg. Loss:  54.2337, Avg. Accuracy:  0.9899: 100%|█████████████████████████████████| 1297/1297 [07:26<00:00,  2.91it/s]\n"
     ]
    },
    {
     "name": "stdout",
     "output_type": "stream",
     "text": [
      "Validation Set -----\n"
     ]
    },
    {
     "name": "stderr",
     "output_type": "stream",
     "text": [
      "Avg. Loss:  66.7035, Avg. Accuracy:  0.9211: 100%|█████████████████████████████████████| 50/50 [00:11<00:00,  4.32it/s]\n"
     ]
    },
    {
     "name": "stdout",
     "output_type": "stream",
     "text": [
      "IoU:  0.7994, Dice:  0.8885, Acc:  0.9211\n",
      "Epoch 69 ---------------------\n",
      "Training Set -----\n"
     ]
    },
    {
     "name": "stderr",
     "output_type": "stream",
     "text": [
      "Avg. Loss:  54.2295, Avg. Accuracy:  0.9906: 100%|█████████████████████████████████| 1297/1297 [07:25<00:00,  2.91it/s]\n"
     ]
    },
    {
     "name": "stdout",
     "output_type": "stream",
     "text": [
      "Validation Set -----\n"
     ]
    },
    {
     "name": "stderr",
     "output_type": "stream",
     "text": [
      "Avg. Loss:  66.6845, Avg. Accuracy:  0.9248: 100%|█████████████████████████████████████| 50/50 [00:11<00:00,  4.35it/s]\n"
     ]
    },
    {
     "name": "stdout",
     "output_type": "stream",
     "text": [
      "IoU:  0.8102, Dice:  0.8951, Acc:  0.9248\n",
      "Epoch 70 ---------------------\n",
      "Training Set -----\n"
     ]
    },
    {
     "name": "stderr",
     "output_type": "stream",
     "text": [
      "Avg. Loss:  54.2281, Avg. Accuracy:  0.9907: 100%|█████████████████████████████████| 1297/1297 [07:25<00:00,  2.91it/s]\n"
     ]
    },
    {
     "name": "stdout",
     "output_type": "stream",
     "text": [
      "Validation Set -----\n"
     ]
    },
    {
     "name": "stderr",
     "output_type": "stream",
     "text": [
      "Avg. Loss:  66.7229, Avg. Accuracy:  0.9204: 100%|█████████████████████████████████████| 50/50 [00:11<00:00,  4.35it/s]\n"
     ]
    },
    {
     "name": "stdout",
     "output_type": "stream",
     "text": [
      "IoU:  0.8001, Dice:  0.8889, Acc:  0.9204\n",
      "Epoch 71 ---------------------\n",
      "Training Set -----\n"
     ]
    },
    {
     "name": "stderr",
     "output_type": "stream",
     "text": [
      "Avg. Loss:  54.2296, Avg. Accuracy:  0.9900: 100%|█████████████████████████████████| 1297/1297 [07:25<00:00,  2.91it/s]\n"
     ]
    },
    {
     "name": "stdout",
     "output_type": "stream",
     "text": [
      "Validation Set -----\n"
     ]
    },
    {
     "name": "stderr",
     "output_type": "stream",
     "text": [
      "Avg. Loss:  66.6817, Avg. Accuracy:  0.9268: 100%|█████████████████████████████████████| 50/50 [00:11<00:00,  4.33it/s]\n"
     ]
    },
    {
     "name": "stdout",
     "output_type": "stream",
     "text": [
      "IoU:  0.8179, Dice:  0.8999, Acc:  0.9268\n",
      "Epoch 72 ---------------------\n",
      "Training Set -----\n"
     ]
    },
    {
     "name": "stderr",
     "output_type": "stream",
     "text": [
      "Avg. Loss:  54.2261, Avg. Accuracy:  0.9906: 100%|█████████████████████████████████| 1297/1297 [07:25<00:00,  2.91it/s]\n"
     ]
    },
    {
     "name": "stdout",
     "output_type": "stream",
     "text": [
      "Validation Set -----\n"
     ]
    },
    {
     "name": "stderr",
     "output_type": "stream",
     "text": [
      "Avg. Loss:  66.7297, Avg. Accuracy:  0.9185: 100%|█████████████████████████████████████| 50/50 [00:11<00:00,  4.35it/s]\n"
     ]
    },
    {
     "name": "stdout",
     "output_type": "stream",
     "text": [
      "IoU:  0.7932, Dice:  0.8847, Acc:  0.9185\n",
      "Epoch 73 ---------------------\n",
      "Training Set -----\n"
     ]
    },
    {
     "name": "stderr",
     "output_type": "stream",
     "text": [
      "Avg. Loss:  54.2276, Avg. Accuracy:  0.9899: 100%|█████████████████████████████████| 1297/1297 [07:24<00:00,  2.91it/s]\n"
     ]
    },
    {
     "name": "stdout",
     "output_type": "stream",
     "text": [
      "Validation Set -----\n"
     ]
    },
    {
     "name": "stderr",
     "output_type": "stream",
     "text": [
      "Avg. Loss:  66.8007, Avg. Accuracy:  0.9087: 100%|█████████████████████████████████████| 50/50 [00:11<00:00,  4.34it/s]\n"
     ]
    },
    {
     "name": "stdout",
     "output_type": "stream",
     "text": [
      "IoU:  0.7644, Dice:  0.8665, Acc:  0.9087\n",
      "Epoch 74 ---------------------\n",
      "Training Set -----\n"
     ]
    },
    {
     "name": "stderr",
     "output_type": "stream",
     "text": [
      "Avg. Loss:  54.2233, Avg. Accuracy:  0.9907: 100%|█████████████████████████████████| 1297/1297 [07:25<00:00,  2.91it/s]\n"
     ]
    },
    {
     "name": "stdout",
     "output_type": "stream",
     "text": [
      "Validation Set -----\n"
     ]
    },
    {
     "name": "stderr",
     "output_type": "stream",
     "text": [
      "Avg. Loss:  66.6792, Avg. Accuracy:  0.9265: 100%|█████████████████████████████████████| 50/50 [00:11<00:00,  4.35it/s]\n"
     ]
    },
    {
     "name": "stdout",
     "output_type": "stream",
     "text": [
      "IoU:  0.8172, Dice:  0.8994, Acc:  0.9265\n",
      "Epoch 75 ---------------------\n",
      "Training Set -----\n"
     ]
    },
    {
     "name": "stderr",
     "output_type": "stream",
     "text": [
      "Avg. Loss:  54.2226, Avg. Accuracy:  0.9907: 100%|█████████████████████████████████| 1297/1297 [07:26<00:00,  2.91it/s]\n"
     ]
    },
    {
     "name": "stdout",
     "output_type": "stream",
     "text": [
      "Validation Set -----\n"
     ]
    },
    {
     "name": "stderr",
     "output_type": "stream",
     "text": [
      "Avg. Loss:  66.7735, Avg. Accuracy:  0.9141: 100%|█████████████████████████████████████| 50/50 [00:11<00:00,  4.34it/s]\n"
     ]
    },
    {
     "name": "stdout",
     "output_type": "stream",
     "text": [
      "IoU:  0.7815, Dice:  0.8774, Acc:  0.9141\n",
      "Epoch 76 ---------------------\n",
      "Training Set -----\n"
     ]
    },
    {
     "name": "stderr",
     "output_type": "stream",
     "text": [
      "Avg. Loss:  54.2219, Avg. Accuracy:  0.9906: 100%|█████████████████████████████████| 1297/1297 [07:25<00:00,  2.91it/s]\n"
     ]
    },
    {
     "name": "stdout",
     "output_type": "stream",
     "text": [
      "Validation Set -----\n"
     ]
    },
    {
     "name": "stderr",
     "output_type": "stream",
     "text": [
      "Avg. Loss:  66.7435, Avg. Accuracy:  0.9190: 100%|█████████████████████████████████████| 50/50 [00:11<00:00,  4.35it/s]\n"
     ]
    },
    {
     "name": "stdout",
     "output_type": "stream",
     "text": [
      "IoU:  0.7963, Dice:  0.8866, Acc:  0.9190\n",
      "Epoch 77 ---------------------\n",
      "Training Set -----\n"
     ]
    },
    {
     "name": "stderr",
     "output_type": "stream",
     "text": [
      "Avg. Loss:  54.2197, Avg. Accuracy:  0.9909: 100%|█████████████████████████████████| 1297/1297 [07:25<00:00,  2.91it/s]\n"
     ]
    },
    {
     "name": "stdout",
     "output_type": "stream",
     "text": [
      "Validation Set -----\n"
     ]
    },
    {
     "name": "stderr",
     "output_type": "stream",
     "text": [
      "Avg. Loss:  66.7949, Avg. Accuracy:  0.9118: 100%|█████████████████████████████████████| 50/50 [00:11<00:00,  4.35it/s]\n"
     ]
    },
    {
     "name": "stdout",
     "output_type": "stream",
     "text": [
      "IoU:  0.7779, Dice:  0.8751, Acc:  0.9118\n",
      "Epoch 78 ---------------------\n",
      "Training Set -----\n"
     ]
    },
    {
     "name": "stderr",
     "output_type": "stream",
     "text": [
      "Avg. Loss:  54.2179, Avg. Accuracy:  0.9911: 100%|█████████████████████████████████| 1297/1297 [07:25<00:00,  2.91it/s]\n"
     ]
    },
    {
     "name": "stdout",
     "output_type": "stream",
     "text": [
      "Validation Set -----\n"
     ]
    },
    {
     "name": "stderr",
     "output_type": "stream",
     "text": [
      "Avg. Loss:  66.8052, Avg. Accuracy:  0.9116: 100%|█████████████████████████████████████| 50/50 [00:11<00:00,  4.35it/s]\n"
     ]
    },
    {
     "name": "stdout",
     "output_type": "stream",
     "text": [
      "IoU:  0.7741, Dice:  0.8727, Acc:  0.9116\n",
      "Epoch 79 ---------------------\n",
      "Training Set -----\n"
     ]
    },
    {
     "name": "stderr",
     "output_type": "stream",
     "text": [
      "Avg. Loss:  54.2186, Avg. Accuracy:  0.9908: 100%|█████████████████████████████████| 1297/1297 [07:25<00:00,  2.91it/s]\n"
     ]
    },
    {
     "name": "stdout",
     "output_type": "stream",
     "text": [
      "Validation Set -----\n"
     ]
    },
    {
     "name": "stderr",
     "output_type": "stream",
     "text": [
      "Avg. Loss:  66.7351, Avg. Accuracy:  0.9215: 100%|█████████████████████████████████████| 50/50 [00:11<00:00,  4.36it/s]\n"
     ]
    },
    {
     "name": "stdout",
     "output_type": "stream",
     "text": [
      "IoU:  0.8009, Dice:  0.8894, Acc:  0.9215\n",
      "Epoch 80 ---------------------\n",
      "Training Set -----\n"
     ]
    },
    {
     "name": "stderr",
     "output_type": "stream",
     "text": [
      "Avg. Loss:  54.2191, Avg. Accuracy:  0.9905: 100%|█████████████████████████████████| 1297/1297 [07:24<00:00,  2.92it/s]\n"
     ]
    },
    {
     "name": "stdout",
     "output_type": "stream",
     "text": [
      "Validation Set -----\n"
     ]
    },
    {
     "name": "stderr",
     "output_type": "stream",
     "text": [
      "Avg. Loss:  66.7135, Avg. Accuracy:  0.9238: 100%|█████████████████████████████████████| 50/50 [00:11<00:00,  4.32it/s]\n"
     ]
    },
    {
     "name": "stdout",
     "output_type": "stream",
     "text": [
      "IoU:  0.8083, Dice:  0.8940, Acc:  0.9238\n",
      "Epoch 81 ---------------------\n",
      "Training Set -----\n"
     ]
    },
    {
     "name": "stderr",
     "output_type": "stream",
     "text": [
      "Avg. Loss:  54.2196, Avg. Accuracy:  0.9902: 100%|█████████████████████████████████| 1297/1297 [07:25<00:00,  2.91it/s]\n"
     ]
    },
    {
     "name": "stdout",
     "output_type": "stream",
     "text": [
      "Validation Set -----\n"
     ]
    },
    {
     "name": "stderr",
     "output_type": "stream",
     "text": [
      "Avg. Loss:  66.6889, Avg. Accuracy:  0.9261: 100%|█████████████████████████████████████| 50/50 [00:11<00:00,  4.36it/s]\n"
     ]
    },
    {
     "name": "stdout",
     "output_type": "stream",
     "text": [
      "IoU:  0.8145, Dice:  0.8978, Acc:  0.9261\n",
      "Epoch 82 ---------------------\n",
      "Training Set -----\n"
     ]
    },
    {
     "name": "stderr",
     "output_type": "stream",
     "text": [
      "Avg. Loss:  54.2171, Avg. Accuracy:  0.9906: 100%|█████████████████████████████████| 1297/1297 [07:25<00:00,  2.91it/s]\n"
     ]
    },
    {
     "name": "stdout",
     "output_type": "stream",
     "text": [
      "Validation Set -----\n"
     ]
    },
    {
     "name": "stderr",
     "output_type": "stream",
     "text": [
      "Avg. Loss:  66.7203, Avg. Accuracy:  0.9223: 100%|█████████████████████████████████████| 50/50 [00:11<00:00,  4.33it/s]\n"
     ]
    },
    {
     "name": "stdout",
     "output_type": "stream",
     "text": [
      "IoU:  0.8050, Dice:  0.8920, Acc:  0.9223\n",
      "Epoch 83 ---------------------\n",
      "Training Set -----\n"
     ]
    },
    {
     "name": "stderr",
     "output_type": "stream",
     "text": [
      "Avg. Loss:  54.2158, Avg. Accuracy:  0.9908: 100%|█████████████████████████████████| 1297/1297 [07:25<00:00,  2.91it/s]\n"
     ]
    },
    {
     "name": "stdout",
     "output_type": "stream",
     "text": [
      "Validation Set -----\n"
     ]
    },
    {
     "name": "stderr",
     "output_type": "stream",
     "text": [
      "Avg. Loss:  66.7221, Avg. Accuracy:  0.9227: 100%|█████████████████████████████████████| 50/50 [00:11<00:00,  4.34it/s]\n"
     ]
    },
    {
     "name": "stdout",
     "output_type": "stream",
     "text": [
      "IoU:  0.8061, Dice:  0.8927, Acc:  0.9227\n",
      "Epoch 84 ---------------------\n",
      "Training Set -----\n"
     ]
    },
    {
     "name": "stderr",
     "output_type": "stream",
     "text": [
      "Avg. Loss:  54.2134, Avg. Accuracy:  0.9912: 100%|█████████████████████████████████| 1297/1297 [07:25<00:00,  2.91it/s]\n"
     ]
    },
    {
     "name": "stdout",
     "output_type": "stream",
     "text": [
      "Validation Set -----\n"
     ]
    },
    {
     "name": "stderr",
     "output_type": "stream",
     "text": [
      "Avg. Loss:  66.7466, Avg. Accuracy:  0.9189: 100%|█████████████████████████████████████| 50/50 [00:11<00:00,  4.34it/s]\n"
     ]
    },
    {
     "name": "stdout",
     "output_type": "stream",
     "text": [
      "IoU:  0.7969, Dice:  0.8870, Acc:  0.9189\n",
      "Epoch 85 ---------------------\n",
      "Training Set -----\n"
     ]
    },
    {
     "name": "stderr",
     "output_type": "stream",
     "text": [
      "Avg. Loss:  54.2130, Avg. Accuracy:  0.9911: 100%|█████████████████████████████████| 1297/1297 [07:25<00:00,  2.91it/s]\n"
     ]
    },
    {
     "name": "stdout",
     "output_type": "stream",
     "text": [
      "Validation Set -----\n"
     ]
    },
    {
     "name": "stderr",
     "output_type": "stream",
     "text": [
      "Avg. Loss:  66.7976, Avg. Accuracy:  0.9131: 100%|█████████████████████████████████████| 50/50 [00:11<00:00,  4.37it/s]\n"
     ]
    },
    {
     "name": "stdout",
     "output_type": "stream",
     "text": [
      "IoU:  0.7806, Dice:  0.8768, Acc:  0.9131\n",
      "Epoch 86 ---------------------\n",
      "Training Set -----\n"
     ]
    },
    {
     "name": "stderr",
     "output_type": "stream",
     "text": [
      "Avg. Loss:  54.2131, Avg. Accuracy:  0.9910: 100%|█████████████████████████████████| 1297/1297 [07:24<00:00,  2.92it/s]\n"
     ]
    },
    {
     "name": "stdout",
     "output_type": "stream",
     "text": [
      "Validation Set -----\n"
     ]
    },
    {
     "name": "stderr",
     "output_type": "stream",
     "text": [
      "Avg. Loss:  66.7761, Avg. Accuracy:  0.9164: 100%|█████████████████████████████████████| 50/50 [00:11<00:00,  4.34it/s]\n"
     ]
    },
    {
     "name": "stdout",
     "output_type": "stream",
     "text": [
      "IoU:  0.7886, Dice:  0.8818, Acc:  0.9164\n",
      "Epoch 87 ---------------------\n",
      "Training Set -----\n"
     ]
    },
    {
     "name": "stderr",
     "output_type": "stream",
     "text": [
      "Avg. Loss:  54.2094, Avg. Accuracy:  0.9917: 100%|█████████████████████████████████| 1297/1297 [07:24<00:00,  2.92it/s]\n"
     ]
    },
    {
     "name": "stdout",
     "output_type": "stream",
     "text": [
      "Validation Set -----\n"
     ]
    },
    {
     "name": "stderr",
     "output_type": "stream",
     "text": [
      "Avg. Loss:  66.7551, Avg. Accuracy:  0.9194: 100%|█████████████████████████████████████| 50/50 [00:11<00:00,  4.34it/s]\n"
     ]
    },
    {
     "name": "stdout",
     "output_type": "stream",
     "text": [
      "IoU:  0.7971, Dice:  0.8871, Acc:  0.9194\n",
      "Epoch 88 ---------------------\n",
      "Training Set -----\n"
     ]
    },
    {
     "name": "stderr",
     "output_type": "stream",
     "text": [
      "Avg. Loss:  54.2120, Avg. Accuracy:  0.9910: 100%|█████████████████████████████████| 1297/1297 [07:24<00:00,  2.92it/s]\n"
     ]
    },
    {
     "name": "stdout",
     "output_type": "stream",
     "text": [
      "Validation Set -----\n"
     ]
    },
    {
     "name": "stderr",
     "output_type": "stream",
     "text": [
      "Avg. Loss:  66.7163, Avg. Accuracy:  0.9192: 100%|█████████████████████████████████████| 50/50 [00:11<00:00,  4.34it/s]\n"
     ]
    },
    {
     "name": "stdout",
     "output_type": "stream",
     "text": [
      "IoU:  0.8036, Dice:  0.8911, Acc:  0.9192\n",
      "Epoch 89 ---------------------\n",
      "Training Set -----\n"
     ]
    },
    {
     "name": "stderr",
     "output_type": "stream",
     "text": [
      "Avg. Loss:  54.2109, Avg. Accuracy:  0.9912: 100%|█████████████████████████████████| 1297/1297 [07:24<00:00,  2.92it/s]\n"
     ]
    },
    {
     "name": "stdout",
     "output_type": "stream",
     "text": [
      "Validation Set -----\n"
     ]
    },
    {
     "name": "stderr",
     "output_type": "stream",
     "text": [
      "Avg. Loss:  66.7970, Avg. Accuracy:  0.9140: 100%|█████████████████████████████████████| 50/50 [00:11<00:00,  4.35it/s]\n"
     ]
    },
    {
     "name": "stdout",
     "output_type": "stream",
     "text": [
      "IoU:  0.7821, Dice:  0.8777, Acc:  0.9140\n",
      "Epoch 90 ---------------------\n",
      "Training Set -----\n"
     ]
    },
    {
     "name": "stderr",
     "output_type": "stream",
     "text": [
      "Avg. Loss:  54.2087, Avg. Accuracy:  0.9916: 100%|█████████████████████████████████| 1297/1297 [07:24<00:00,  2.92it/s]\n"
     ]
    },
    {
     "name": "stdout",
     "output_type": "stream",
     "text": [
      "Validation Set -----\n"
     ]
    },
    {
     "name": "stderr",
     "output_type": "stream",
     "text": [
      "Avg. Loss:  66.7681, Avg. Accuracy:  0.9180: 100%|█████████████████████████████████████| 50/50 [00:11<00:00,  4.35it/s]\n"
     ]
    },
    {
     "name": "stdout",
     "output_type": "stream",
     "text": [
      "IoU:  0.7918, Dice:  0.8838, Acc:  0.9180\n",
      "Epoch 91 ---------------------\n",
      "Training Set -----\n"
     ]
    },
    {
     "name": "stderr",
     "output_type": "stream",
     "text": [
      "Avg. Loss:  55.2825, Avg. Accuracy:  0.9908:  93%|██████████████████████████████▊  | 1211/1297 [06:59<00:29,  2.89it/s]\n"
     ]
    },
    {
     "ename": "KeyboardInterrupt",
     "evalue": "",
     "output_type": "error",
     "traceback": [
      "\u001b[1;31m---------------------------------------------------------------------------\u001b[0m",
      "\u001b[1;31mKeyboardInterrupt\u001b[0m                         Traceback (most recent call last)",
      "Cell \u001b[1;32mIn[53], line 6\u001b[0m\n\u001b[0;32m      4\u001b[0m \u001b[38;5;28mprint\u001b[39m(\u001b[38;5;124mf\u001b[39m\u001b[38;5;124m\"\u001b[39m\u001b[38;5;124mEpoch \u001b[39m\u001b[38;5;132;01m{\u001b[39;00mt\u001b[38;5;241m+\u001b[39m\u001b[38;5;241m1\u001b[39m\u001b[38;5;132;01m}\u001b[39;00m\u001b[38;5;124m ---------------------\u001b[39m\u001b[38;5;124m\"\u001b[39m)\n\u001b[0;32m      5\u001b[0m \u001b[38;5;28mprint\u001b[39m(\u001b[38;5;124mf\u001b[39m\u001b[38;5;124m\"\u001b[39m\u001b[38;5;124mTraining Set -----\u001b[39m\u001b[38;5;124m\"\u001b[39m)\n\u001b[1;32m----> 6\u001b[0m train_loss, _ \u001b[38;5;241m=\u001b[39m \u001b[43mtrain\u001b[49m\u001b[43m(\u001b[49m\u001b[43mnet\u001b[49m\u001b[43m)\u001b[49m\n\u001b[0;32m      7\u001b[0m \u001b[38;5;28mprint\u001b[39m(\u001b[38;5;124mf\u001b[39m\u001b[38;5;124m\"\u001b[39m\u001b[38;5;124mValidation Set -----\u001b[39m\u001b[38;5;124m\"\u001b[39m)\n\u001b[0;32m      8\u001b[0m train_loss, met \u001b[38;5;241m=\u001b[39m test(net)\n",
      "Cell \u001b[1;32mIn[5], line 9\u001b[0m, in \u001b[0;36mtrain\u001b[1;34m(model)\u001b[0m\n\u001b[0;32m      7\u001b[0m \u001b[38;5;28;01mfor\u001b[39;00m batch \u001b[38;5;129;01min\u001b[39;00m \u001b[38;5;28mrange\u001b[39m(num_batches):\n\u001b[0;32m      8\u001b[0m   X \u001b[38;5;241m=\u001b[39m torch\u001b[38;5;241m.\u001b[39mload(\u001b[38;5;124mf\u001b[39m\u001b[38;5;124m\"\u001b[39m\u001b[38;5;124m./Preproc/train_X_pol_\u001b[39m\u001b[38;5;132;01m{\u001b[39;00mbatch\u001b[38;5;132;01m}\u001b[39;00m\u001b[38;5;124m.torch\u001b[39m\u001b[38;5;124m\"\u001b[39m)\n\u001b[1;32m----> 9\u001b[0m   y \u001b[38;5;241m=\u001b[39m \u001b[43mtorch\u001b[49m\u001b[38;5;241;43m.\u001b[39;49m\u001b[43mload\u001b[49m\u001b[43m(\u001b[49m\u001b[38;5;124;43mf\u001b[39;49m\u001b[38;5;124;43m\"\u001b[39;49m\u001b[38;5;124;43m./Preproc/train_y_pol_\u001b[39;49m\u001b[38;5;132;43;01m{\u001b[39;49;00m\u001b[43mbatch\u001b[49m\u001b[38;5;132;43;01m}\u001b[39;49;00m\u001b[38;5;124;43m.torch\u001b[39;49m\u001b[38;5;124;43m\"\u001b[39;49m\u001b[43m)\u001b[49m\n\u001b[0;32m     10\u001b[0m   loss, met \u001b[38;5;241m=\u001b[39m model\u001b[38;5;241m.\u001b[39mfit(X, y)\n\u001b[0;32m     11\u001b[0m   t_loss \u001b[38;5;241m+\u001b[39m\u001b[38;5;241m=\u001b[39m loss\u001b[38;5;241m*\u001b[39m\u001b[38;5;28mlen\u001b[39m(X)\n",
      "File \u001b[1;32m~\\AppData\\Local\\Programs\\Python\\Python310\\lib\\site-packages\\torch\\serialization.py:772\u001b[0m, in \u001b[0;36mload\u001b[1;34m(f, map_location, pickle_module, weights_only, **pickle_load_args)\u001b[0m\n\u001b[0;32m    769\u001b[0m     pickle_load_args[\u001b[38;5;124m'\u001b[39m\u001b[38;5;124mencoding\u001b[39m\u001b[38;5;124m'\u001b[39m] \u001b[38;5;241m=\u001b[39m \u001b[38;5;124m'\u001b[39m\u001b[38;5;124mutf-8\u001b[39m\u001b[38;5;124m'\u001b[39m\n\u001b[0;32m    771\u001b[0m \u001b[38;5;28;01mwith\u001b[39;00m _open_file_like(f, \u001b[38;5;124m'\u001b[39m\u001b[38;5;124mrb\u001b[39m\u001b[38;5;124m'\u001b[39m) \u001b[38;5;28;01mas\u001b[39;00m opened_file:\n\u001b[1;32m--> 772\u001b[0m     \u001b[38;5;28;01mif\u001b[39;00m \u001b[43m_is_zipfile\u001b[49m\u001b[43m(\u001b[49m\u001b[43mopened_file\u001b[49m\u001b[43m)\u001b[49m:\n\u001b[0;32m    773\u001b[0m         \u001b[38;5;66;03m# The zipfile reader is going to advance the current file position.\u001b[39;00m\n\u001b[0;32m    774\u001b[0m         \u001b[38;5;66;03m# If we want to actually tail call to torch.jit.load, we need to\u001b[39;00m\n\u001b[0;32m    775\u001b[0m         \u001b[38;5;66;03m# reset back to the original position.\u001b[39;00m\n\u001b[0;32m    776\u001b[0m         orig_position \u001b[38;5;241m=\u001b[39m opened_file\u001b[38;5;241m.\u001b[39mtell()\n\u001b[0;32m    777\u001b[0m         \u001b[38;5;28;01mwith\u001b[39;00m _open_zipfile_reader(opened_file) \u001b[38;5;28;01mas\u001b[39;00m opened_zipfile:\n",
      "File \u001b[1;32m~\\AppData\\Local\\Programs\\Python\\Python310\\lib\\site-packages\\torch\\serialization.py:78\u001b[0m, in \u001b[0;36m_is_zipfile\u001b[1;34m(f)\u001b[0m\n\u001b[0;32m     75\u001b[0m read_bytes \u001b[38;5;241m=\u001b[39m []\n\u001b[0;32m     76\u001b[0m start \u001b[38;5;241m=\u001b[39m f\u001b[38;5;241m.\u001b[39mtell()\n\u001b[1;32m---> 78\u001b[0m byte \u001b[38;5;241m=\u001b[39m \u001b[43mf\u001b[49m\u001b[38;5;241;43m.\u001b[39;49m\u001b[43mread\u001b[49m\u001b[43m(\u001b[49m\u001b[38;5;241;43m1\u001b[39;49m\u001b[43m)\u001b[49m\n\u001b[0;32m     79\u001b[0m \u001b[38;5;28;01mwhile\u001b[39;00m byte \u001b[38;5;241m!=\u001b[39m \u001b[38;5;124mb\u001b[39m\u001b[38;5;124m\"\u001b[39m\u001b[38;5;124m\"\u001b[39m:\n\u001b[0;32m     80\u001b[0m     read_bytes\u001b[38;5;241m.\u001b[39mappend(byte)\n",
      "\u001b[1;31mKeyboardInterrupt\u001b[0m: "
     ]
    }
   ],
   "source": [
    "net.setfinetuning(False)\n",
    "for t in range(EPOCHS):\n",
    "    torch.cuda.empty_cache()\n",
    "    print(f\"Epoch {t+1} ---------------------\")\n",
    "    print(f\"Training Set -----\")\n",
    "    train_loss, _ = train(net)\n",
    "    print(f\"Validation Set -----\")\n",
    "    train_loss, met = test(net)\n",
    "    print(f\"\\rIoU: {met[0] / (met[0] + met[1] + met[2]): .4f}, Dice: {met[0] / (met[0] + 0.5 * (met[1] + met[2])): .4f}, Acc: {met[0] + met[3] : .4f}\")"
   ]
  }
 ],
 "metadata": {
  "kernelspec": {
   "display_name": "Python 3 (ipykernel)",
   "language": "python",
   "name": "python3"
  },
  "language_info": {
   "codemirror_mode": {
    "name": "ipython",
    "version": 3
   },
   "file_extension": ".py",
   "mimetype": "text/x-python",
   "name": "python",
   "nbconvert_exporter": "python",
   "pygments_lexer": "ipython3",
   "version": "3.10.9"
  }
 },
 "nbformat": 4,
 "nbformat_minor": 5
}
